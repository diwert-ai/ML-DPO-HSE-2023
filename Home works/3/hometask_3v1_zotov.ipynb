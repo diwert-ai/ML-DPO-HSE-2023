{
 "cells": [
  {
   "cell_type": "markdown",
   "metadata": {},
   "source": [
    "## Домашняя работа 3. \n",
    "\n",
    "Максимальный балл за задание - 10."
   ]
  },
  {
   "cell_type": "markdown",
   "metadata": {},
   "source": [
    "## Данные\n",
    "\n",
    "\n",
    "В этой домашней работе мы будем обучать модели машинного обучения, ставить эксперименты, подбирать гиперпараметры, сравнивать и смешивать модели. Вам предлагается решить задачу бинарной классификации, а именно построить алгоритм, определяющий превысит ли средний заработок человека порог $50k. Каждый объект выборки — человек, для которого известны следующие признаки:\n",
    " - age\n",
    " - workclass\n",
    " - fnlwgt\n",
    " - education\n",
    " - education-num\n",
    " - marital-status\n",
    " - occupation\n",
    " - relationship\n",
    " - race\n",
    " - sex\n",
    " - capital-gain\n",
    " - capital-loss\n",
    " - hours-per-week\n",
    " \n",
    "Более подробно про признаки можно почитать [здесь](http://archive.ics.uci.edu/ml/machine-learning-databases/adult/adult.names). Целевой признак записан в переменной *>50K,<=50K*."
   ]
  },
  {
   "cell_type": "markdown",
   "metadata": {},
   "source": [
    "## Метрика качества\n",
    "\n",
    "В задании мы будем оценивать качество моделей с помощью метрики AUC-ROC."
   ]
  },
  {
   "cell_type": "markdown",
   "metadata": {},
   "source": [
    "## Подбор гиперпараметров модели\n",
    "\n",
    "В задачах машинного обучения следует различать параметры модели и гиперпараметры (структурные параметры). Обычно параметры модели настраиваются в ходе обучения (например, веса в линейной модели или структура решающего дерева), в то время как гиперпараметры задаются заранее (например, регуляризация в линейной модели или максимальная глубина решающего дерева). Каждая модель обычно имеет множество гиперпараметров, и нет универсальных наборов гиперпараметров, оптимально работающих во всех задачах, для каждой задачи нужно подбирать свой набор.\n",
    "\n",
    "Для оптимизации гиперпараметров модели часто используют _перебор по сетке (grid search)_: для каждого гиперпараметра выбирается несколько значений, перебираются все комбинации значений и выбирается комбинация, на которой модель показывает лучшее качество (с точки зрения метрики, которая оптимизируется). Однако в этом случае нужно грамотно оценивать построенную модель, а именно делать разбиение на обучающую и тестовую выборку. Есть несколько схем, как это можно реализовать: \n",
    "\n",
    " - Разбить имеющуюся выборку на обучающую и тестовую. В этом случае сравнение большого числа моделей при переборе параметров приводит к ситуации, когда лучшая на тестовой подвыборке модель не сохраняет свои качества на новых данных. Можно сказать, что происходит _переобучение_ на тестовую выборку.\n",
    " - Для устранения описанной выше проблемы, можно разбить данные на 3 непересекающихся подвыборки: обучение (`train`), валидация (`validation`) и контроль (`test`). Валидационную подвыборку используют для сравнения моделей, а `test` — для окончательной оценки качества и сравнения семейств моделей с подобранными параметрами.\n",
    " - Другой способ сравнения моделей — кросс-валидация. Существуют различные схемы кросс-валидации:\n",
    "  - Leave-One-Out\n",
    "  - K-Fold\n",
    "  - Многократное случайное разбиение выборки\n",
    "  \n",
    "Кросс-валидация вычислительно затратна, особенно если вы делаете перебор по сетке с очень большим числом комбинации. С учетом конечности времени на выполнение задания, возникает ряд компромиссов: \n",
    "  - сетку можно делать более разреженной, перебирая меньше значений каждого параметра; однако, надо не забывать, что в таком случае можно пропустить хорошую комбинацию параметров;\n",
    "  - кросс-валидацию можно делать с меньшим числом разбиений или фолдов, но в таком случае оценка качества кросс-валидации становится более шумной и увеличивается риск выбрать неоптимальный набор параметров из-за случайности разбиения;\n",
    "  - параметры можно оптимизировать последовательно (жадно) — один за другим, а не перебирать все комбинации; такая стратегия не всегда приводит к оптимальному набору;\n",
    "  - перебирать не все комбинации параметров, а небольшое число случайно выбранных."
   ]
  },
  {
   "cell_type": "markdown",
   "metadata": {},
   "source": [
    "## Задание"
   ]
  },
  {
   "cell_type": "markdown",
   "metadata": {},
   "source": [
    "Загрузите набор данных *data.adult.csv*. Чтобы лучше понимать, с чем вы работаете/корректно ли вы загрузили данные можно вывести несколько первых строк на экран."
   ]
  },
  {
   "cell_type": "markdown",
   "metadata": {},
   "source": [
    "<font color=blue>Сделаем импорт всех необходимых библиотек/классов/функций.</font>"
   ]
  },
  {
   "cell_type": "code",
   "execution_count": 1,
   "metadata": {},
   "outputs": [],
   "source": [
    "import math\n",
    "import time\n",
    "import warnings\n",
    "import random\n",
    "\n",
    "import pandas as pd\n",
    "import numpy as np\n",
    "import matplotlib.pyplot as plt\n",
    "\n",
    "from sklearn.metrics import roc_auc_score\n",
    "from sklearn.model_selection import GridSearchCV, StratifiedKFold, cross_val_score\n",
    "from sklearn.preprocessing import StandardScaler\n",
    "from sklearn.neighbors import KNeighborsClassifier\n",
    "from sklearn.linear_model import SGDClassifier, LogisticRegression\n",
    "from sklearn.svm import SVC\n",
    "from sklearn.naive_bayes import GaussianNB"
   ]
  },
  {
   "cell_type": "markdown",
   "metadata": {},
   "source": [
    "<font color=blue>Загрузим датасет в pandas датафрейм.</font>"
   ]
  },
  {
   "cell_type": "code",
   "execution_count": 2,
   "metadata": {},
   "outputs": [],
   "source": [
    "df = pd.read_csv('data.adult.csv')"
   ]
  },
  {
   "cell_type": "markdown",
   "metadata": {},
   "source": [
    "<font color=blue>Взглянем на размер фрейма и первые несколько строк.</font>"
   ]
  },
  {
   "cell_type": "code",
   "execution_count": 3,
   "metadata": {},
   "outputs": [
    {
     "data": {
      "text/plain": [
       "(16280, 14)"
      ]
     },
     "execution_count": 3,
     "metadata": {},
     "output_type": "execute_result"
    }
   ],
   "source": [
    "df.shape"
   ]
  },
  {
   "cell_type": "code",
   "execution_count": 4,
   "metadata": {},
   "outputs": [
    {
     "data": {
      "text/html": [
       "<div>\n",
       "<style scoped>\n",
       "    .dataframe tbody tr th:only-of-type {\n",
       "        vertical-align: middle;\n",
       "    }\n",
       "\n",
       "    .dataframe tbody tr th {\n",
       "        vertical-align: top;\n",
       "    }\n",
       "\n",
       "    .dataframe thead th {\n",
       "        text-align: right;\n",
       "    }\n",
       "</style>\n",
       "<table border=\"1\" class=\"dataframe\">\n",
       "  <thead>\n",
       "    <tr style=\"text-align: right;\">\n",
       "      <th></th>\n",
       "      <th>age</th>\n",
       "      <th>workclass</th>\n",
       "      <th>fnlwgt</th>\n",
       "      <th>education</th>\n",
       "      <th>education-num</th>\n",
       "      <th>marital-status</th>\n",
       "      <th>occupation</th>\n",
       "      <th>relationship</th>\n",
       "      <th>race</th>\n",
       "      <th>sex</th>\n",
       "      <th>capital-gain</th>\n",
       "      <th>capital-loss</th>\n",
       "      <th>hours-per-week</th>\n",
       "      <th>&gt;50K,&lt;=50K</th>\n",
       "    </tr>\n",
       "  </thead>\n",
       "  <tbody>\n",
       "    <tr>\n",
       "      <th>0</th>\n",
       "      <td>34</td>\n",
       "      <td>Local-gov</td>\n",
       "      <td>284843</td>\n",
       "      <td>HS-grad</td>\n",
       "      <td>9</td>\n",
       "      <td>Never-married</td>\n",
       "      <td>Farming-fishing</td>\n",
       "      <td>Not-in-family</td>\n",
       "      <td>Black</td>\n",
       "      <td>Male</td>\n",
       "      <td>594</td>\n",
       "      <td>0</td>\n",
       "      <td>60</td>\n",
       "      <td>&lt;=50K</td>\n",
       "    </tr>\n",
       "    <tr>\n",
       "      <th>1</th>\n",
       "      <td>40</td>\n",
       "      <td>Private</td>\n",
       "      <td>190290</td>\n",
       "      <td>Some-college</td>\n",
       "      <td>10</td>\n",
       "      <td>Divorced</td>\n",
       "      <td>Sales</td>\n",
       "      <td>Not-in-family</td>\n",
       "      <td>White</td>\n",
       "      <td>Male</td>\n",
       "      <td>0</td>\n",
       "      <td>0</td>\n",
       "      <td>40</td>\n",
       "      <td>&lt;=50K</td>\n",
       "    </tr>\n",
       "    <tr>\n",
       "      <th>2</th>\n",
       "      <td>36</td>\n",
       "      <td>Local-gov</td>\n",
       "      <td>177858</td>\n",
       "      <td>Bachelors</td>\n",
       "      <td>13</td>\n",
       "      <td>Married-civ-spouse</td>\n",
       "      <td>Prof-specialty</td>\n",
       "      <td>Own-child</td>\n",
       "      <td>White</td>\n",
       "      <td>Male</td>\n",
       "      <td>0</td>\n",
       "      <td>0</td>\n",
       "      <td>40</td>\n",
       "      <td>&lt;=50K</td>\n",
       "    </tr>\n",
       "    <tr>\n",
       "      <th>3</th>\n",
       "      <td>22</td>\n",
       "      <td>Private</td>\n",
       "      <td>184756</td>\n",
       "      <td>Some-college</td>\n",
       "      <td>10</td>\n",
       "      <td>Never-married</td>\n",
       "      <td>Sales</td>\n",
       "      <td>Own-child</td>\n",
       "      <td>White</td>\n",
       "      <td>Female</td>\n",
       "      <td>0</td>\n",
       "      <td>0</td>\n",
       "      <td>30</td>\n",
       "      <td>&lt;=50K</td>\n",
       "    </tr>\n",
       "    <tr>\n",
       "      <th>4</th>\n",
       "      <td>47</td>\n",
       "      <td>Private</td>\n",
       "      <td>149700</td>\n",
       "      <td>Bachelors</td>\n",
       "      <td>13</td>\n",
       "      <td>Married-civ-spouse</td>\n",
       "      <td>Tech-support</td>\n",
       "      <td>Husband</td>\n",
       "      <td>White</td>\n",
       "      <td>Male</td>\n",
       "      <td>15024</td>\n",
       "      <td>0</td>\n",
       "      <td>40</td>\n",
       "      <td>&gt;50K</td>\n",
       "    </tr>\n",
       "  </tbody>\n",
       "</table>\n",
       "</div>"
      ],
      "text/plain": [
       "   age  workclass  fnlwgt     education  education-num      marital-status  \\\n",
       "0   34  Local-gov  284843       HS-grad              9       Never-married   \n",
       "1   40    Private  190290  Some-college             10            Divorced   \n",
       "2   36  Local-gov  177858     Bachelors             13  Married-civ-spouse   \n",
       "3   22    Private  184756  Some-college             10       Never-married   \n",
       "4   47    Private  149700     Bachelors             13  Married-civ-spouse   \n",
       "\n",
       "        occupation   relationship   race     sex  capital-gain  capital-loss  \\\n",
       "0  Farming-fishing  Not-in-family  Black    Male           594             0   \n",
       "1            Sales  Not-in-family  White    Male             0             0   \n",
       "2   Prof-specialty      Own-child  White    Male             0             0   \n",
       "3            Sales      Own-child  White  Female             0             0   \n",
       "4     Tech-support        Husband  White    Male         15024             0   \n",
       "\n",
       "   hours-per-week >50K,<=50K  \n",
       "0              60      <=50K  \n",
       "1              40      <=50K  \n",
       "2              40      <=50K  \n",
       "3              30      <=50K  \n",
       "4              40       >50K  "
      ]
     },
     "execution_count": 4,
     "metadata": {},
     "output_type": "execute_result"
    }
   ],
   "source": [
    "df.head()"
   ]
  },
  {
   "cell_type": "markdown",
   "metadata": {},
   "source": [
    "Иногда в данных встречаются пропуски. Как задаются пропуски обычно либо прописывается в описании к данным, либо просто на месте пропуска после чтения данных оказывается значение numpy.nan. Более подробно о работе с пропусками в Pandas можно прочитать например [здесь](http://pandas.pydata.org/pandas-docs/stable/missing_data.html). \n",
    "\n",
    "В данном датасете пропущенные значения обозначены как \"?\". \n",
    "\n",
    "**(0.5 балла)** Найдите все признаки, имеющие пропущенные значения. Удалите из выборки все объекты с пропусками."
   ]
  },
  {
   "cell_type": "markdown",
   "metadata": {},
   "source": [
    "<font color=blue>Заменим все пропущенные значения \"?\" на `np.nan`, а потом удалим все строки с помощью метода `dropna`.</font>"
   ]
  },
  {
   "cell_type": "code",
   "execution_count": 5,
   "metadata": {},
   "outputs": [
    {
     "data": {
      "text/plain": [
       "age               0\n",
       "workclass         0\n",
       "fnlwgt            0\n",
       "education         0\n",
       "education-num     0\n",
       "marital-status    0\n",
       "occupation        0\n",
       "relationship      0\n",
       "race              0\n",
       "sex               0\n",
       "capital-gain      0\n",
       "capital-loss      0\n",
       "hours-per-week    0\n",
       ">50K,<=50K        0\n",
       "dtype: int64"
      ]
     },
     "execution_count": 5,
     "metadata": {},
     "output_type": "execute_result"
    }
   ],
   "source": [
    "#your code here\n",
    "data = df.replace('?', np.nan)\n",
    "data = data.dropna(ignore_index=True)\n",
    "data.isna().sum()"
   ]
  },
  {
   "cell_type": "markdown",
   "metadata": {},
   "source": [
    "<font color=blue>Взглянем на размер фрейма после обработки и выведем его.</font>"
   ]
  },
  {
   "cell_type": "code",
   "execution_count": 6,
   "metadata": {},
   "outputs": [
    {
     "data": {
      "text/plain": [
       "(15347, 14)"
      ]
     },
     "execution_count": 6,
     "metadata": {},
     "output_type": "execute_result"
    }
   ],
   "source": [
    "data.shape"
   ]
  },
  {
   "cell_type": "code",
   "execution_count": 7,
   "metadata": {},
   "outputs": [
    {
     "data": {
      "text/html": [
       "<div>\n",
       "<style scoped>\n",
       "    .dataframe tbody tr th:only-of-type {\n",
       "        vertical-align: middle;\n",
       "    }\n",
       "\n",
       "    .dataframe tbody tr th {\n",
       "        vertical-align: top;\n",
       "    }\n",
       "\n",
       "    .dataframe thead th {\n",
       "        text-align: right;\n",
       "    }\n",
       "</style>\n",
       "<table border=\"1\" class=\"dataframe\">\n",
       "  <thead>\n",
       "    <tr style=\"text-align: right;\">\n",
       "      <th></th>\n",
       "      <th>age</th>\n",
       "      <th>workclass</th>\n",
       "      <th>fnlwgt</th>\n",
       "      <th>education</th>\n",
       "      <th>education-num</th>\n",
       "      <th>marital-status</th>\n",
       "      <th>occupation</th>\n",
       "      <th>relationship</th>\n",
       "      <th>race</th>\n",
       "      <th>sex</th>\n",
       "      <th>capital-gain</th>\n",
       "      <th>capital-loss</th>\n",
       "      <th>hours-per-week</th>\n",
       "      <th>&gt;50K,&lt;=50K</th>\n",
       "    </tr>\n",
       "  </thead>\n",
       "  <tbody>\n",
       "    <tr>\n",
       "      <th>0</th>\n",
       "      <td>34</td>\n",
       "      <td>Local-gov</td>\n",
       "      <td>284843</td>\n",
       "      <td>HS-grad</td>\n",
       "      <td>9</td>\n",
       "      <td>Never-married</td>\n",
       "      <td>Farming-fishing</td>\n",
       "      <td>Not-in-family</td>\n",
       "      <td>Black</td>\n",
       "      <td>Male</td>\n",
       "      <td>594</td>\n",
       "      <td>0</td>\n",
       "      <td>60</td>\n",
       "      <td>&lt;=50K</td>\n",
       "    </tr>\n",
       "    <tr>\n",
       "      <th>1</th>\n",
       "      <td>40</td>\n",
       "      <td>Private</td>\n",
       "      <td>190290</td>\n",
       "      <td>Some-college</td>\n",
       "      <td>10</td>\n",
       "      <td>Divorced</td>\n",
       "      <td>Sales</td>\n",
       "      <td>Not-in-family</td>\n",
       "      <td>White</td>\n",
       "      <td>Male</td>\n",
       "      <td>0</td>\n",
       "      <td>0</td>\n",
       "      <td>40</td>\n",
       "      <td>&lt;=50K</td>\n",
       "    </tr>\n",
       "    <tr>\n",
       "      <th>2</th>\n",
       "      <td>36</td>\n",
       "      <td>Local-gov</td>\n",
       "      <td>177858</td>\n",
       "      <td>Bachelors</td>\n",
       "      <td>13</td>\n",
       "      <td>Married-civ-spouse</td>\n",
       "      <td>Prof-specialty</td>\n",
       "      <td>Own-child</td>\n",
       "      <td>White</td>\n",
       "      <td>Male</td>\n",
       "      <td>0</td>\n",
       "      <td>0</td>\n",
       "      <td>40</td>\n",
       "      <td>&lt;=50K</td>\n",
       "    </tr>\n",
       "    <tr>\n",
       "      <th>3</th>\n",
       "      <td>22</td>\n",
       "      <td>Private</td>\n",
       "      <td>184756</td>\n",
       "      <td>Some-college</td>\n",
       "      <td>10</td>\n",
       "      <td>Never-married</td>\n",
       "      <td>Sales</td>\n",
       "      <td>Own-child</td>\n",
       "      <td>White</td>\n",
       "      <td>Female</td>\n",
       "      <td>0</td>\n",
       "      <td>0</td>\n",
       "      <td>30</td>\n",
       "      <td>&lt;=50K</td>\n",
       "    </tr>\n",
       "    <tr>\n",
       "      <th>4</th>\n",
       "      <td>47</td>\n",
       "      <td>Private</td>\n",
       "      <td>149700</td>\n",
       "      <td>Bachelors</td>\n",
       "      <td>13</td>\n",
       "      <td>Married-civ-spouse</td>\n",
       "      <td>Tech-support</td>\n",
       "      <td>Husband</td>\n",
       "      <td>White</td>\n",
       "      <td>Male</td>\n",
       "      <td>15024</td>\n",
       "      <td>0</td>\n",
       "      <td>40</td>\n",
       "      <td>&gt;50K</td>\n",
       "    </tr>\n",
       "    <tr>\n",
       "      <th>...</th>\n",
       "      <td>...</td>\n",
       "      <td>...</td>\n",
       "      <td>...</td>\n",
       "      <td>...</td>\n",
       "      <td>...</td>\n",
       "      <td>...</td>\n",
       "      <td>...</td>\n",
       "      <td>...</td>\n",
       "      <td>...</td>\n",
       "      <td>...</td>\n",
       "      <td>...</td>\n",
       "      <td>...</td>\n",
       "      <td>...</td>\n",
       "      <td>...</td>\n",
       "    </tr>\n",
       "    <tr>\n",
       "      <th>15342</th>\n",
       "      <td>25</td>\n",
       "      <td>Local-gov</td>\n",
       "      <td>514716</td>\n",
       "      <td>Bachelors</td>\n",
       "      <td>13</td>\n",
       "      <td>Never-married</td>\n",
       "      <td>Adm-clerical</td>\n",
       "      <td>Own-child</td>\n",
       "      <td>Black</td>\n",
       "      <td>Female</td>\n",
       "      <td>0</td>\n",
       "      <td>0</td>\n",
       "      <td>40</td>\n",
       "      <td>&lt;=50K</td>\n",
       "    </tr>\n",
       "    <tr>\n",
       "      <th>15343</th>\n",
       "      <td>32</td>\n",
       "      <td>Private</td>\n",
       "      <td>207668</td>\n",
       "      <td>Bachelors</td>\n",
       "      <td>13</td>\n",
       "      <td>Married-civ-spouse</td>\n",
       "      <td>Exec-managerial</td>\n",
       "      <td>Husband</td>\n",
       "      <td>White</td>\n",
       "      <td>Male</td>\n",
       "      <td>15024</td>\n",
       "      <td>0</td>\n",
       "      <td>45</td>\n",
       "      <td>&gt;50K</td>\n",
       "    </tr>\n",
       "    <tr>\n",
       "      <th>15344</th>\n",
       "      <td>27</td>\n",
       "      <td>Private</td>\n",
       "      <td>104457</td>\n",
       "      <td>Bachelors</td>\n",
       "      <td>13</td>\n",
       "      <td>Never-married</td>\n",
       "      <td>Machine-op-inspct</td>\n",
       "      <td>Not-in-family</td>\n",
       "      <td>Asian-Pac-Islander</td>\n",
       "      <td>Male</td>\n",
       "      <td>0</td>\n",
       "      <td>0</td>\n",
       "      <td>40</td>\n",
       "      <td>&lt;=50K</td>\n",
       "    </tr>\n",
       "    <tr>\n",
       "      <th>15345</th>\n",
       "      <td>59</td>\n",
       "      <td>State-gov</td>\n",
       "      <td>268700</td>\n",
       "      <td>HS-grad</td>\n",
       "      <td>9</td>\n",
       "      <td>Married-civ-spouse</td>\n",
       "      <td>Other-service</td>\n",
       "      <td>Husband</td>\n",
       "      <td>White</td>\n",
       "      <td>Male</td>\n",
       "      <td>0</td>\n",
       "      <td>0</td>\n",
       "      <td>40</td>\n",
       "      <td>&lt;=50K</td>\n",
       "    </tr>\n",
       "    <tr>\n",
       "      <th>15346</th>\n",
       "      <td>33</td>\n",
       "      <td>Private</td>\n",
       "      <td>59083</td>\n",
       "      <td>Bachelors</td>\n",
       "      <td>13</td>\n",
       "      <td>Married-civ-spouse</td>\n",
       "      <td>Adm-clerical</td>\n",
       "      <td>Husband</td>\n",
       "      <td>White</td>\n",
       "      <td>Male</td>\n",
       "      <td>0</td>\n",
       "      <td>1902</td>\n",
       "      <td>45</td>\n",
       "      <td>&gt;50K</td>\n",
       "    </tr>\n",
       "  </tbody>\n",
       "</table>\n",
       "<p>15347 rows × 14 columns</p>\n",
       "</div>"
      ],
      "text/plain": [
       "       age  workclass  fnlwgt     education  education-num  \\\n",
       "0       34  Local-gov  284843       HS-grad              9   \n",
       "1       40    Private  190290  Some-college             10   \n",
       "2       36  Local-gov  177858     Bachelors             13   \n",
       "3       22    Private  184756  Some-college             10   \n",
       "4       47    Private  149700     Bachelors             13   \n",
       "...    ...        ...     ...           ...            ...   \n",
       "15342   25  Local-gov  514716     Bachelors             13   \n",
       "15343   32    Private  207668     Bachelors             13   \n",
       "15344   27    Private  104457     Bachelors             13   \n",
       "15345   59  State-gov  268700       HS-grad              9   \n",
       "15346   33    Private   59083     Bachelors             13   \n",
       "\n",
       "           marital-status         occupation   relationship  \\\n",
       "0           Never-married    Farming-fishing  Not-in-family   \n",
       "1                Divorced              Sales  Not-in-family   \n",
       "2      Married-civ-spouse     Prof-specialty      Own-child   \n",
       "3           Never-married              Sales      Own-child   \n",
       "4      Married-civ-spouse       Tech-support        Husband   \n",
       "...                   ...                ...            ...   \n",
       "15342       Never-married       Adm-clerical      Own-child   \n",
       "15343  Married-civ-spouse    Exec-managerial        Husband   \n",
       "15344       Never-married  Machine-op-inspct  Not-in-family   \n",
       "15345  Married-civ-spouse      Other-service        Husband   \n",
       "15346  Married-civ-spouse       Adm-clerical        Husband   \n",
       "\n",
       "                     race     sex  capital-gain  capital-loss  hours-per-week  \\\n",
       "0                   Black    Male           594             0              60   \n",
       "1                   White    Male             0             0              40   \n",
       "2                   White    Male             0             0              40   \n",
       "3                   White  Female             0             0              30   \n",
       "4                   White    Male         15024             0              40   \n",
       "...                   ...     ...           ...           ...             ...   \n",
       "15342               Black  Female             0             0              40   \n",
       "15343               White    Male         15024             0              45   \n",
       "15344  Asian-Pac-Islander    Male             0             0              40   \n",
       "15345               White    Male             0             0              40   \n",
       "15346               White    Male             0          1902              45   \n",
       "\n",
       "      >50K,<=50K  \n",
       "0          <=50K  \n",
       "1          <=50K  \n",
       "2          <=50K  \n",
       "3          <=50K  \n",
       "4           >50K  \n",
       "...          ...  \n",
       "15342      <=50K  \n",
       "15343       >50K  \n",
       "15344      <=50K  \n",
       "15345      <=50K  \n",
       "15346       >50K  \n",
       "\n",
       "[15347 rows x 14 columns]"
      ]
     },
     "execution_count": 7,
     "metadata": {},
     "output_type": "execute_result"
    }
   ],
   "source": [
    "data"
   ]
  },
  {
   "cell_type": "markdown",
   "metadata": {},
   "source": [
    "Обычно после загрузки датасета всегда необходима его некоторая предобработка. В данном случае она будет заключаться в следующем: \n",
    "\n",
    " - Выделите целевую переменную в отдельную переменную, удалите ее из датасета и преобразуйте к бинарному формату.\n",
    " - Обратите внимание, что не все признаки являются вещественными. В начале мы будем работать только с вещественными признаками. Выделите их отдельно."
   ]
  },
  {
   "cell_type": "markdown",
   "metadata": {},
   "source": [
    "<font color=blue>Целевую переменную `>50K,<=50K` поместим в датафрейм `y`, а остальную таблицу в датафрейм `X`.</font>"
   ]
  },
  {
   "cell_type": "code",
   "execution_count": 8,
   "metadata": {},
   "outputs": [],
   "source": [
    "#your code here\n",
    "X = data.drop(columns=['>50K,<=50K'])\n",
    "y = data['>50K,<=50K']"
   ]
  },
  {
   "cell_type": "code",
   "execution_count": 9,
   "metadata": {},
   "outputs": [
    {
     "data": {
      "text/html": [
       "<div>\n",
       "<style scoped>\n",
       "    .dataframe tbody tr th:only-of-type {\n",
       "        vertical-align: middle;\n",
       "    }\n",
       "\n",
       "    .dataframe tbody tr th {\n",
       "        vertical-align: top;\n",
       "    }\n",
       "\n",
       "    .dataframe thead th {\n",
       "        text-align: right;\n",
       "    }\n",
       "</style>\n",
       "<table border=\"1\" class=\"dataframe\">\n",
       "  <thead>\n",
       "    <tr style=\"text-align: right;\">\n",
       "      <th></th>\n",
       "      <th>age</th>\n",
       "      <th>workclass</th>\n",
       "      <th>fnlwgt</th>\n",
       "      <th>education</th>\n",
       "      <th>education-num</th>\n",
       "      <th>marital-status</th>\n",
       "      <th>occupation</th>\n",
       "      <th>relationship</th>\n",
       "      <th>race</th>\n",
       "      <th>sex</th>\n",
       "      <th>capital-gain</th>\n",
       "      <th>capital-loss</th>\n",
       "      <th>hours-per-week</th>\n",
       "    </tr>\n",
       "  </thead>\n",
       "  <tbody>\n",
       "    <tr>\n",
       "      <th>0</th>\n",
       "      <td>34</td>\n",
       "      <td>Local-gov</td>\n",
       "      <td>284843</td>\n",
       "      <td>HS-grad</td>\n",
       "      <td>9</td>\n",
       "      <td>Never-married</td>\n",
       "      <td>Farming-fishing</td>\n",
       "      <td>Not-in-family</td>\n",
       "      <td>Black</td>\n",
       "      <td>Male</td>\n",
       "      <td>594</td>\n",
       "      <td>0</td>\n",
       "      <td>60</td>\n",
       "    </tr>\n",
       "    <tr>\n",
       "      <th>1</th>\n",
       "      <td>40</td>\n",
       "      <td>Private</td>\n",
       "      <td>190290</td>\n",
       "      <td>Some-college</td>\n",
       "      <td>10</td>\n",
       "      <td>Divorced</td>\n",
       "      <td>Sales</td>\n",
       "      <td>Not-in-family</td>\n",
       "      <td>White</td>\n",
       "      <td>Male</td>\n",
       "      <td>0</td>\n",
       "      <td>0</td>\n",
       "      <td>40</td>\n",
       "    </tr>\n",
       "    <tr>\n",
       "      <th>2</th>\n",
       "      <td>36</td>\n",
       "      <td>Local-gov</td>\n",
       "      <td>177858</td>\n",
       "      <td>Bachelors</td>\n",
       "      <td>13</td>\n",
       "      <td>Married-civ-spouse</td>\n",
       "      <td>Prof-specialty</td>\n",
       "      <td>Own-child</td>\n",
       "      <td>White</td>\n",
       "      <td>Male</td>\n",
       "      <td>0</td>\n",
       "      <td>0</td>\n",
       "      <td>40</td>\n",
       "    </tr>\n",
       "    <tr>\n",
       "      <th>3</th>\n",
       "      <td>22</td>\n",
       "      <td>Private</td>\n",
       "      <td>184756</td>\n",
       "      <td>Some-college</td>\n",
       "      <td>10</td>\n",
       "      <td>Never-married</td>\n",
       "      <td>Sales</td>\n",
       "      <td>Own-child</td>\n",
       "      <td>White</td>\n",
       "      <td>Female</td>\n",
       "      <td>0</td>\n",
       "      <td>0</td>\n",
       "      <td>30</td>\n",
       "    </tr>\n",
       "    <tr>\n",
       "      <th>4</th>\n",
       "      <td>47</td>\n",
       "      <td>Private</td>\n",
       "      <td>149700</td>\n",
       "      <td>Bachelors</td>\n",
       "      <td>13</td>\n",
       "      <td>Married-civ-spouse</td>\n",
       "      <td>Tech-support</td>\n",
       "      <td>Husband</td>\n",
       "      <td>White</td>\n",
       "      <td>Male</td>\n",
       "      <td>15024</td>\n",
       "      <td>0</td>\n",
       "      <td>40</td>\n",
       "    </tr>\n",
       "  </tbody>\n",
       "</table>\n",
       "</div>"
      ],
      "text/plain": [
       "   age  workclass  fnlwgt     education  education-num      marital-status  \\\n",
       "0   34  Local-gov  284843       HS-grad              9       Never-married   \n",
       "1   40    Private  190290  Some-college             10            Divorced   \n",
       "2   36  Local-gov  177858     Bachelors             13  Married-civ-spouse   \n",
       "3   22    Private  184756  Some-college             10       Never-married   \n",
       "4   47    Private  149700     Bachelors             13  Married-civ-spouse   \n",
       "\n",
       "        occupation   relationship   race     sex  capital-gain  capital-loss  \\\n",
       "0  Farming-fishing  Not-in-family  Black    Male           594             0   \n",
       "1            Sales  Not-in-family  White    Male             0             0   \n",
       "2   Prof-specialty      Own-child  White    Male             0             0   \n",
       "3            Sales      Own-child  White  Female             0             0   \n",
       "4     Tech-support        Husband  White    Male         15024             0   \n",
       "\n",
       "   hours-per-week  \n",
       "0              60  \n",
       "1              40  \n",
       "2              40  \n",
       "3              30  \n",
       "4              40  "
      ]
     },
     "execution_count": 9,
     "metadata": {},
     "output_type": "execute_result"
    }
   ],
   "source": [
    "X.head(5)"
   ]
  },
  {
   "cell_type": "markdown",
   "metadata": {},
   "source": [
    "<font color=blue>Посмотрим какие разные значения встречаются в `y`.</font>"
   ]
  },
  {
   "cell_type": "code",
   "execution_count": 10,
   "metadata": {},
   "outputs": [
    {
     "data": {
      "text/plain": [
       ">50K,<=50K\n",
       "<=50K    11407\n",
       ">50K      3940\n",
       "Name: count, dtype: int64"
      ]
     },
     "execution_count": 10,
     "metadata": {},
     "output_type": "execute_result"
    }
   ],
   "source": [
    "y.value_counts()"
   ]
  },
  {
   "cell_type": "markdown",
   "metadata": {},
   "source": [
    "<font color=blue>Заменим значение `<=50K` на 0, а значение `>50K` на 1.</font>"
   ]
  },
  {
   "cell_type": "code",
   "execution_count": 11,
   "metadata": {},
   "outputs": [],
   "source": [
    "y = y.replace('<=50K', 0)\n",
    "y = y.replace('>50K', 1)"
   ]
  },
  {
   "cell_type": "markdown",
   "metadata": {},
   "source": [
    "<font color=blue>Проверим теперь какова структура `y`.</font>"
   ]
  },
  {
   "cell_type": "code",
   "execution_count": 12,
   "metadata": {},
   "outputs": [
    {
     "data": {
      "text/plain": [
       ">50K,<=50K\n",
       "0    11407\n",
       "1     3940\n",
       "Name: count, dtype: int64"
      ]
     },
     "execution_count": 12,
     "metadata": {},
     "output_type": "execute_result"
    }
   ],
   "source": [
    "y.value_counts()"
   ]
  },
  {
   "cell_type": "markdown",
   "metadata": {},
   "source": [
    "<font color=blue> Посмотрим какие признаки есть в `X`. </font>"
   ]
  },
  {
   "cell_type": "code",
   "execution_count": 13,
   "metadata": {},
   "outputs": [
    {
     "name": "stdout",
     "output_type": "stream",
     "text": [
      "<class 'pandas.core.frame.DataFrame'>\n",
      "RangeIndex: 15347 entries, 0 to 15346\n",
      "Data columns (total 13 columns):\n",
      " #   Column          Non-Null Count  Dtype \n",
      "---  ------          --------------  ----- \n",
      " 0   age             15347 non-null  int64 \n",
      " 1   workclass       15347 non-null  object\n",
      " 2   fnlwgt          15347 non-null  int64 \n",
      " 3   education       15347 non-null  object\n",
      " 4   education-num   15347 non-null  int64 \n",
      " 5   marital-status  15347 non-null  object\n",
      " 6   occupation      15347 non-null  object\n",
      " 7   relationship    15347 non-null  object\n",
      " 8   race            15347 non-null  object\n",
      " 9   sex             15347 non-null  object\n",
      " 10  capital-gain    15347 non-null  int64 \n",
      " 11  capital-loss    15347 non-null  int64 \n",
      " 12  hours-per-week  15347 non-null  int64 \n",
      "dtypes: int64(6), object(7)\n",
      "memory usage: 1.5+ MB\n"
     ]
    }
   ],
   "source": [
    "X.info()"
   ]
  },
  {
   "cell_type": "markdown",
   "metadata": {},
   "source": [
    "<font color=blue>Все признаки типа `object` - категориальные. Остальные вещественные. Создадим соответствующие списки. </font>"
   ]
  },
  {
   "cell_type": "code",
   "execution_count": 14,
   "metadata": {},
   "outputs": [],
   "source": [
    "categorical_features = X.dtypes[X.dtypes == 'object'].index\n",
    "numeric_features = X.dtypes[X.dtypes != 'object'].index"
   ]
  },
  {
   "cell_type": "markdown",
   "metadata": {},
   "source": [
    "## Обучение классификаторов на вещественных признаках\n",
    "\n",
    "В данном разделе необходимо будет работать только с вещественными признаками и целевой переменной.\n",
    "\n",
    "В начале посмотрим как работает подбор параметров по сетке и как влияет на качество разбиение выборки. Сейчас и далее будем рассматривать 5 алгоритмов:\n",
    " - kNN\n",
    " - SGD Linear Classifier\n",
    " - Naive Bayes Classifier\n",
    " - Logistic Regression\n",
    " - SVC (Support Vector Classifier)\n",
    " \n",
    "Для начала у первых двух алгоритмов выберем один гиперпараметр, который будем оптимизировать:\n",
    " - kNN — число соседей (*n_neighbors*)\n",
    " - SGD Linear Classifier — оптимизируемая функция (*loss*)\n",
    " \n",
    "Остальные параметры оставляйте в значениях по умолчанию. Для подбора гиперпараметров воспользуйтесь перебором по сетке, который реализован в классе GridSearchCV. В качестве схемы кросс-валидации используйте 5-fold cv.\n",
    "\n",
    "**(1.5 балла)** Для каждого из первых двух алгоритмов подберите оптимальные значения указанных гиперпараметров. Постройте график среднего качества по кросс-валидации алгоритма при заданном значении гиперпараметра, на котором также отобразите доверительный интервал (доверительный интервал задается границами [mean - std, mean + std])."
   ]
  },
  {
   "cell_type": "markdown",
   "metadata": {},
   "source": [
    "<font color=blue>Поместим в датафрейм `X_num` только вещественные данные.</font>"
   ]
  },
  {
   "cell_type": "code",
   "execution_count": 15,
   "metadata": {},
   "outputs": [
    {
     "data": {
      "text/html": [
       "<div>\n",
       "<style scoped>\n",
       "    .dataframe tbody tr th:only-of-type {\n",
       "        vertical-align: middle;\n",
       "    }\n",
       "\n",
       "    .dataframe tbody tr th {\n",
       "        vertical-align: top;\n",
       "    }\n",
       "\n",
       "    .dataframe thead th {\n",
       "        text-align: right;\n",
       "    }\n",
       "</style>\n",
       "<table border=\"1\" class=\"dataframe\">\n",
       "  <thead>\n",
       "    <tr style=\"text-align: right;\">\n",
       "      <th></th>\n",
       "      <th>age</th>\n",
       "      <th>fnlwgt</th>\n",
       "      <th>education-num</th>\n",
       "      <th>capital-gain</th>\n",
       "      <th>capital-loss</th>\n",
       "      <th>hours-per-week</th>\n",
       "    </tr>\n",
       "  </thead>\n",
       "  <tbody>\n",
       "    <tr>\n",
       "      <th>0</th>\n",
       "      <td>34</td>\n",
       "      <td>284843</td>\n",
       "      <td>9</td>\n",
       "      <td>594</td>\n",
       "      <td>0</td>\n",
       "      <td>60</td>\n",
       "    </tr>\n",
       "    <tr>\n",
       "      <th>1</th>\n",
       "      <td>40</td>\n",
       "      <td>190290</td>\n",
       "      <td>10</td>\n",
       "      <td>0</td>\n",
       "      <td>0</td>\n",
       "      <td>40</td>\n",
       "    </tr>\n",
       "    <tr>\n",
       "      <th>2</th>\n",
       "      <td>36</td>\n",
       "      <td>177858</td>\n",
       "      <td>13</td>\n",
       "      <td>0</td>\n",
       "      <td>0</td>\n",
       "      <td>40</td>\n",
       "    </tr>\n",
       "    <tr>\n",
       "      <th>3</th>\n",
       "      <td>22</td>\n",
       "      <td>184756</td>\n",
       "      <td>10</td>\n",
       "      <td>0</td>\n",
       "      <td>0</td>\n",
       "      <td>30</td>\n",
       "    </tr>\n",
       "    <tr>\n",
       "      <th>4</th>\n",
       "      <td>47</td>\n",
       "      <td>149700</td>\n",
       "      <td>13</td>\n",
       "      <td>15024</td>\n",
       "      <td>0</td>\n",
       "      <td>40</td>\n",
       "    </tr>\n",
       "  </tbody>\n",
       "</table>\n",
       "</div>"
      ],
      "text/plain": [
       "   age  fnlwgt  education-num  capital-gain  capital-loss  hours-per-week\n",
       "0   34  284843              9           594             0              60\n",
       "1   40  190290             10             0             0              40\n",
       "2   36  177858             13             0             0              40\n",
       "3   22  184756             10             0             0              30\n",
       "4   47  149700             13         15024             0              40"
      ]
     },
     "execution_count": 15,
     "metadata": {},
     "output_type": "execute_result"
    }
   ],
   "source": [
    "#your code here\n",
    "X_num = X[numeric_features]\n",
    "X_num.head(5)"
   ]
  },
  {
   "cell_type": "markdown",
   "metadata": {},
   "source": [
    "<font color=blue>Создадим словарь `experiments`, куда будем сохранять результаты экспериментов.</font>"
   ]
  },
  {
   "cell_type": "code",
   "execution_count": 16,
   "metadata": {},
   "outputs": [],
   "source": [
    "experiments = {'kNN': list(),\n",
    "               'SGD': list(),\n",
    "               'Logistic Regression': list(),\n",
    "               'SVC': list(),\n",
    "               'GNB': list()}"
   ]
  },
  {
   "cell_type": "markdown",
   "metadata": {},
   "source": [
    "<font color=blue>Зафиксируем случайность.</font>"
   ]
  },
  {
   "cell_type": "code",
   "execution_count": 17,
   "metadata": {},
   "outputs": [],
   "source": [
    "seed = 27316\n",
    "random.seed(seed)\n",
    "np.random.seed(seed)"
   ]
  },
  {
   "cell_type": "markdown",
   "metadata": {},
   "source": [
    "<font color=blue> Создадим объект `skf` класса `StratifiedKFold`, который будем использовать для кросс-валидации наших моделей. Особенность этого класса заключается в том, что его метод разделения выборки на трейн и тест происходит с соблюдением баланса классов.</font>"
   ]
  },
  {
   "cell_type": "code",
   "execution_count": 18,
   "metadata": {},
   "outputs": [],
   "source": [
    "skf = StratifiedKFold(n_splits=5, shuffle=True, random_state=seed)"
   ]
  },
  {
   "cell_type": "markdown",
   "metadata": {},
   "source": [
    "<font color=blue>Функция `run_grid_search` осуществляет поиск лучших гиперпараметров модели с помощью кросс валидации, используя метрику `roc_auc`. Возвращает объект класса `GridSearchCV` с результами поиска. </font>"
   ]
  },
  {
   "cell_type": "code",
   "execution_count": 19,
   "metadata": {},
   "outputs": [],
   "source": [
    "def run_grid_search(estimator, params, X, y, cls_name, verbose=True, grid_verbose=1):\n",
    "    grid = GridSearchCV(estimator, params, cv=skf, scoring='roc_auc', verbose=grid_verbose)\n",
    "    grid.fit(X, y)\n",
    "    \n",
    "    experiments[cls_name].append(grid.best_params_)\n",
    "    experiments[cls_name].append(f'{grid.best_score_:0.4f}')\n",
    "    \n",
    "    if verbose:\n",
    "        print(f'Лучшие гиперпараметры для {cls_name}:  {grid.best_params_}')\n",
    "        \n",
    "    return grid"
   ]
  },
  {
   "cell_type": "markdown",
   "metadata": {},
   "source": [
    "<font color=blue>Функция `plot_cv_results` визуализирует результаты поиска: изображаются точки среднего (по 5 фолдам) значения `roc_auc` и доверительный интервал (стандартное отклоение от среднего).</font>"
   ]
  },
  {
   "cell_type": "code",
   "execution_count": 20,
   "metadata": {},
   "outputs": [],
   "source": [
    "def plot_cv_results(cls_grid, param_key, cls_name, ticks=False, logparam=False):\n",
    "    cls_mean_test_score = cls_grid.cv_results_['mean_test_score']\n",
    "    cls_std_test_score =  cls_grid.cv_results_['std_test_score']\n",
    "    cls_params = [param[param_key] for param in cls_grid.cv_results_['params']]\n",
    "    \n",
    "    if logparam:\n",
    "        cls_params = [math.log10(p) for p in cls_params]\n",
    "    \n",
    "    plt.figure(figsize=(10, 5))\n",
    "    plt.title(f\"{cls_name}: средний ROC-AUC по пяти фолдам кросс-валидации и доверительный интервал (отклонение от среднего)\")\n",
    "    plt.errorbar(cls_params, cls_mean_test_score, yerr=cls_std_test_score, fmt='o', markersize=3, ecolor='red', capsize=3)\n",
    "    for i, txt in enumerate(cls_mean_test_score):\n",
    "        plt.annotate(np.round(txt, 4), \n",
    "                     (cls_params[i], cls_mean_test_score[i]),\n",
    "                     textcoords=\"offset points\",\n",
    "                     xytext=(+20,0),\n",
    "                     ha='center',\n",
    "                     fontsize=8)\n",
    "    if ticks:\n",
    "        plt.xticks(range(len(cls_params)), cls_params, rotation=45)\n",
    "    plt.xlabel(f'log({param_key})' if logparam else f'{param_key}')\n",
    "    plt.ylabel('ROC-AUC')\n",
    "    plt.grid(True)\n",
    "    plt.show()\n"
   ]
  },
  {
   "cell_type": "markdown",
   "metadata": {},
   "source": [
    "<font color=blue>Отключим вывод предупреждений.</font>"
   ]
  },
  {
   "cell_type": "code",
   "execution_count": 21,
   "metadata": {},
   "outputs": [],
   "source": [
    "warnings.filterwarnings('ignore')"
   ]
  },
  {
   "cell_type": "markdown",
   "metadata": {},
   "source": [
    "<font color=blue>Создадим списки для поиска лучших гиперпараметров и создадим модели - объекты классов `KNeighborsClassifier` и `SGDClassifier`.</font>"
   ]
  },
  {
   "cell_type": "code",
   "execution_count": 22,
   "metadata": {},
   "outputs": [],
   "source": [
    "knn_params = {'n_neighbors': range(1, 10)}\n",
    "sgd_params = {'loss': ['hinge', 'log_loss', 'modified_huber', \n",
    "                       'squared_hinge', 'perceptron', 'squared_error', \n",
    "                       'huber', 'epsilon_insensitive', 'squared_epsilon_insensitive']}\n",
    "\n",
    "knn = KNeighborsClassifier()\n",
    "sgd = SGDClassifier(max_iter=10000, random_state=seed)"
   ]
  },
  {
   "cell_type": "markdown",
   "metadata": {},
   "source": [
    "<font color=blue> Осуществим поиск наилучших гиперпараметров и визуализируем результаты. </font>"
   ]
  },
  {
   "cell_type": "code",
   "execution_count": 23,
   "metadata": {},
   "outputs": [
    {
     "name": "stdout",
     "output_type": "stream",
     "text": [
      "Fitting 5 folds for each of 9 candidates, totalling 45 fits\n",
      "Лучшие гиперпараметры для kNN:  {'n_neighbors': 6}\n"
     ]
    },
    {
     "data": {
      "image/png": "[encoded data removed]",
      "text/plain": [
       "<Figure size 1000x500 with 1 Axes>"
      ]
     },
     "metadata": {},
     "output_type": "display_data"
    }
   ],
   "source": [
    "knn_grid = run_grid_search(knn, knn_params, X_num, y, 'kNN')\n",
    "plot_cv_results(knn_grid, 'n_neighbors', 'kNN')"
   ]
  },
  {
   "cell_type": "code",
   "execution_count": 24,
   "metadata": {},
   "outputs": [
    {
     "name": "stdout",
     "output_type": "stream",
     "text": [
      "Fitting 5 folds for each of 9 candidates, totalling 45 fits\n",
      "Лучшие гиперпараметры для SGD:  {'loss': 'squared_hinge'}\n"
     ]
    },
    {
     "data": {
      "image/png": "[encoded data removed]",
      "text/plain": [
       "<Figure size 1000x500 with 1 Axes>"
      ]
     },
     "metadata": {},
     "output_type": "display_data"
    }
   ],
   "source": [
    "sgd_grid = run_grid_search(sgd, sgd_params, X_num, y, 'SGD')\n",
    "plot_cv_results(sgd_grid, 'loss', 'SGD', ticks=True)"
   ]
  },
  {
   "cell_type": "markdown",
   "metadata": {},
   "source": [
    "Что вы можете сказать о получившихся графиках?\n",
    "\n",
    "**(0.75 балла)** Также подберём параметр регуляризации C в алгоритмах LogisticRegression и SVC."
   ]
  },
  {
   "cell_type": "markdown",
   "metadata": {},
   "source": [
    "<font color=blue>Для классификатора `kNN` четкий максимум не выражен, а наилучшее качество дал гиперпараметр `n_neighbors=6`. Для классификатора `SGD` также максимум не выражен, а лучшей функцией потерь в итоге оказалась `squared_hinge`.</font>"
   ]
  },
  {
   "cell_type": "markdown",
   "metadata": {},
   "source": [
    "<font color=blue>Теперь проделаем такие же вычисления для `LogisticRegression` и `SVC`</font> "
   ]
  },
  {
   "cell_type": "code",
   "execution_count": 25,
   "metadata": {
    "scrolled": true
   },
   "outputs": [],
   "source": [
    "#your code here\n",
    "logreg_params = {'C': [0.001, 0.1, 0.3, 0.6, 0.9,  1.0]}\n",
    "svc_params = {'C': [0.001, 0.1, 0.3, 0.6, 0.9,  1.0]}\n",
    "\n",
    "logreg = LogisticRegression(max_iter=1000, random_state=seed)\n",
    "svc = SVC(random_state=seed)"
   ]
  },
  {
   "cell_type": "code",
   "execution_count": 26,
   "metadata": {},
   "outputs": [
    {
     "name": "stdout",
     "output_type": "stream",
     "text": [
      "Fitting 5 folds for each of 6 candidates, totalling 30 fits\n",
      "Лучшие гиперпараметры для Logistic Regression:  {'C': 0.001}\n"
     ]
    },
    {
     "data": {
      "image/png": "[encoded data removed]",
      "text/plain": [
       "<Figure size 1000x500 with 1 Axes>"
      ]
     },
     "metadata": {},
     "output_type": "display_data"
    }
   ],
   "source": [
    "logreg_grid = run_grid_search(logreg, logreg_params, X_num, y, 'Logistic Regression')\n",
    "plot_cv_results(logreg_grid, 'C', 'Logistic Regression')"
   ]
  },
  {
   "cell_type": "code",
   "execution_count": 27,
   "metadata": {
    "scrolled": false
   },
   "outputs": [
    {
     "name": "stdout",
     "output_type": "stream",
     "text": [
      "Fitting 5 folds for each of 6 candidates, totalling 30 fits\n",
      "Лучшие гиперпараметры для SVC:  {'C': 0.3}\n"
     ]
    },
    {
     "data": {
      "image/png": "[encoded data removed]",
      "text/plain": [
       "<Figure size 1000x500 with 1 Axes>"
      ]
     },
     "metadata": {},
     "output_type": "display_data"
    }
   ],
   "source": [
    "svc_grid = run_grid_search(svc, svc_params, X_num, y, 'SVC')\n",
    "plot_cv_results(svc_grid, 'C', 'SVC')"
   ]
  },
  {
   "cell_type": "markdown",
   "metadata": {},
   "source": [
    "**(0.75 балла)** Изучите документацию по алгоритму [Naive Bayes Classifier](https://scikit-learn.org/stable/modules/naive_bayes.html) и подберите возможные гиперпараметры для этого алгоритма."
   ]
  },
  {
   "cell_type": "markdown",
   "metadata": {},
   "source": [
    "<font color=blue>Из набора классификаторов библиотеки `sklearn.naive_bayes` выберем `GaussianNB`.</font> "
   ]
  },
  {
   "cell_type": "code",
   "execution_count": 28,
   "metadata": {},
   "outputs": [],
   "source": [
    "#your code here\n",
    "gnb = GaussianNB()\n",
    "gnb_params  = {'var_smoothing': [1e-3, 1e-4, 1e-5, 1e-6, 1e-7, 1e-8, 1e-9, 1e-10, 1e-11, 1e-12, 1e-13, 1e-14, 1e-15]}"
   ]
  },
  {
   "cell_type": "markdown",
   "metadata": {},
   "source": [
    "<font color=blue>Для наглядности результатов по классификатору `GaussianNB` горизонтальная шкала (шкала значений гиперпараметра) прологорифмирована.</font>"
   ]
  },
  {
   "cell_type": "code",
   "execution_count": 29,
   "metadata": {},
   "outputs": [
    {
     "name": "stdout",
     "output_type": "stream",
     "text": [
      "Fitting 5 folds for each of 13 candidates, totalling 65 fits\n",
      "Лучшие гиперпараметры для GNB:  {'var_smoothing': 1e-10}\n"
     ]
    },
    {
     "data": {
      "image/png": "[encoded data removed]",
      "text/plain": [
       "<Figure size 1000x500 with 1 Axes>"
      ]
     },
     "metadata": {},
     "output_type": "display_data"
    }
   ],
   "source": [
    "gnb_grid = run_grid_search(gnb, gnb_params, X_num, y, 'GNB')\n",
    "plot_cv_results(gnb_grid, 'var_smoothing', 'Gaussian Naive Bayes', logparam=True)"
   ]
  },
  {
   "cell_type": "markdown",
   "metadata": {},
   "source": [
    "При обучении алгоритмов стоит обращать внимание не только на качество, но и каким образом они работают с данными. В этой задаче получилось так, что некоторые из используемых алгоритмов чувствительны к масштабу признаков. Чтобы убедиться, что это как-то могло повлиять на качество давайте посмотрим на сами признаки.\n",
    "\n",
    "**(0.5 балла)** Постройте гистограммы для признаков *age*, *fnlwgt*, *capital-gain*. Глядя на получившиеся графики в чем заключается особенность данных? На какие алгоритмы это может повлиять? Может ли масшитабирование повлиять на работу этих алгоритмов?"
   ]
  },
  {
   "cell_type": "code",
   "execution_count": 30,
   "metadata": {},
   "outputs": [
    {
     "data": {
      "image/png": "[encoded data removed]",
      "text/plain": [
       "<Figure size 640x480 with 1 Axes>"
      ]
     },
     "metadata": {},
     "output_type": "display_data"
    }
   ],
   "source": [
    "#your code here\n",
    "_ = X_num.age.hist()"
   ]
  },
  {
   "cell_type": "code",
   "execution_count": 31,
   "metadata": {},
   "outputs": [
    {
     "data": {
      "image/png": "[encoded data removed]",
      "text/plain": [
       "<Figure size 640x480 with 1 Axes>"
      ]
     },
     "metadata": {},
     "output_type": "display_data"
    }
   ],
   "source": [
    "_ = X_num.fnlwgt.hist()"
   ]
  },
  {
   "cell_type": "code",
   "execution_count": 32,
   "metadata": {},
   "outputs": [
    {
     "data": {
      "image/png": "[encoded data removed]",
      "text/plain": [
       "<Figure size 640x480 with 1 Axes>"
      ]
     },
     "metadata": {},
     "output_type": "display_data"
    }
   ],
   "source": [
    "_ = X_num['capital-gain'].hist()"
   ]
  },
  {
   "cell_type": "markdown",
   "metadata": {},
   "source": [
    "<font color=blue>Судя по гистограммам признаки принимают значения значительно превышающие по модулю единицу (на 3-4 порядка!). Что, во-первых, негативно сказывается на скорость сходимости таких алгоритмов как `SGDClassifier` и `LogisticRegression` - значение по умолчанию максимального числа итераций в этих алгоритмах явно недостаточно (забегая вперед это будет видно по результатам обучения после масштабирования этих признаков). А, во-вторых, негативно сказывается на результат обучения таких алгоритмов как `KNeighborsClassifier` и `SVC`, т.к. в них важную роль играет метрика в пространстве признаков: eсли масштаб одного из признаков существенно больше других, то он будет доминировать в расчетах, что приведет к пониженному качеству модели. Алгоритм же `GaussianNB` уже достиг достаточно высокого качества (при оптимальном гиперпараметре `var_smoothing`) - это указывает на то, что к масштабу признаков он не так чувствителен - возможно потому, что он построен на анализе распределения условных вероятностей, которые не зависят от масштаба.</font>\n",
    "\n",
    "<font color=blue>Кроме прочего по гистограмме видно, что признак `capital-gain` имеет распределение с тяжелым хвостом, что может негативно сказаться на алгоритм `GaussianNB`, т.к. этот алгоритм исходит из того, что все признаки распределены нормально.</font>"
   ]
  },
  {
   "cell_type": "markdown",
   "metadata": {},
   "source": [
    "Масштабирование признаков можно выполнить, например, одним из следующих способов способами:\n",
    " - $x_{new} = \\dfrac{x - \\mu}{\\sigma}$, где $\\mu, \\sigma$ — среднее и стандартное отклонение значения признака по всей выборке (см. функцию [scale](http://scikit-learn.org/stable/modules/generated/sklearn.preprocessing.scale.html))\n",
    " - $x_{new} = \\dfrac{x - x_{min}}{x_{max} - x_{min}}$, где $[x_{min}, x_{max}]$ — минимальный интервал значений признака\n",
    "\n",
    "Похожие схемы масштабирования приведены в классах [StandardScaler](http://scikit-learn.org/stable/modules/generated/sklearn.preprocessing.StandardScaler.html#sklearn.preprocessing.StandardScaler) и [MinMaxScaler](http://scikit-learn.org/stable/modules/generated/sklearn.preprocessing.MinMaxScaler.html#sklearn.preprocessing.MinMaxScaler).\n",
    " \n",
    "**(1 балл)** Масштабируйте все вещественные признаки одним из указанных способов и подберите оптимальные значения гиперпараметров аналогично пункту выше."
   ]
  },
  {
   "cell_type": "markdown",
   "metadata": {},
   "source": [
    "<font color=blue>Учитывая, что в датасете есть признаки, распределение которых имеет тяжелый хвост, т.е. большие отклонения значений этих признаков нельзя считать выбросами, то предпочтительней выглядит метод `StandardScaler`. В противном случае величина $x_{max}-x_{min}$ может оказаться много больше типичного значения (например медианы или моды) нормализуемого признака и мы рискуем получить после нормализации вида $\\frac{x-x_{min}}{x_{max}-x_{min}}$ величины очень близкие к нулю для большой части объектов датасета.</font>"
   ]
  },
  {
   "cell_type": "code",
   "execution_count": 33,
   "metadata": {},
   "outputs": [],
   "source": [
    "#your code here\n",
    "scaler = StandardScaler()\n",
    "X_num_scaled = scaler.fit_transform(X_num)"
   ]
  },
  {
   "cell_type": "code",
   "execution_count": 34,
   "metadata": {},
   "outputs": [
    {
     "data": {
      "text/html": [
       "<div>\n",
       "<style scoped>\n",
       "    .dataframe tbody tr th:only-of-type {\n",
       "        vertical-align: middle;\n",
       "    }\n",
       "\n",
       "    .dataframe tbody tr th {\n",
       "        vertical-align: top;\n",
       "    }\n",
       "\n",
       "    .dataframe thead th {\n",
       "        text-align: right;\n",
       "    }\n",
       "</style>\n",
       "<table border=\"1\" class=\"dataframe\">\n",
       "  <thead>\n",
       "    <tr style=\"text-align: right;\">\n",
       "      <th></th>\n",
       "      <th>0</th>\n",
       "      <th>1</th>\n",
       "      <th>2</th>\n",
       "      <th>3</th>\n",
       "      <th>4</th>\n",
       "      <th>5</th>\n",
       "    </tr>\n",
       "  </thead>\n",
       "  <tbody>\n",
       "    <tr>\n",
       "      <th>0</th>\n",
       "      <td>-0.342919</td>\n",
       "      <td>0.900258</td>\n",
       "      <td>-0.450788</td>\n",
       "      <td>-0.065600</td>\n",
       "      <td>-0.218740</td>\n",
       "      <td>1.588223</td>\n",
       "    </tr>\n",
       "    <tr>\n",
       "      <th>1</th>\n",
       "      <td>0.114760</td>\n",
       "      <td>0.010683</td>\n",
       "      <td>-0.059086</td>\n",
       "      <td>-0.150439</td>\n",
       "      <td>-0.218740</td>\n",
       "      <td>-0.074178</td>\n",
       "    </tr>\n",
       "    <tr>\n",
       "      <th>2</th>\n",
       "      <td>-0.190359</td>\n",
       "      <td>-0.106280</td>\n",
       "      <td>1.116020</td>\n",
       "      <td>-0.150439</td>\n",
       "      <td>-0.218740</td>\n",
       "      <td>-0.074178</td>\n",
       "    </tr>\n",
       "    <tr>\n",
       "      <th>3</th>\n",
       "      <td>-1.258276</td>\n",
       "      <td>-0.041382</td>\n",
       "      <td>-0.059086</td>\n",
       "      <td>-0.150439</td>\n",
       "      <td>-0.218740</td>\n",
       "      <td>-0.905379</td>\n",
       "    </tr>\n",
       "    <tr>\n",
       "      <th>4</th>\n",
       "      <td>0.648719</td>\n",
       "      <td>-0.371197</td>\n",
       "      <td>1.116020</td>\n",
       "      <td>1.995391</td>\n",
       "      <td>-0.218740</td>\n",
       "      <td>-0.074178</td>\n",
       "    </tr>\n",
       "    <tr>\n",
       "      <th>...</th>\n",
       "      <td>...</td>\n",
       "      <td>...</td>\n",
       "      <td>...</td>\n",
       "      <td>...</td>\n",
       "      <td>...</td>\n",
       "      <td>...</td>\n",
       "    </tr>\n",
       "    <tr>\n",
       "      <th>15342</th>\n",
       "      <td>-1.029436</td>\n",
       "      <td>3.062953</td>\n",
       "      <td>1.116020</td>\n",
       "      <td>-0.150439</td>\n",
       "      <td>-0.218740</td>\n",
       "      <td>-0.074178</td>\n",
       "    </tr>\n",
       "    <tr>\n",
       "      <th>15343</th>\n",
       "      <td>-0.495478</td>\n",
       "      <td>0.174179</td>\n",
       "      <td>1.116020</td>\n",
       "      <td>1.995391</td>\n",
       "      <td>-0.218740</td>\n",
       "      <td>0.341422</td>\n",
       "    </tr>\n",
       "    <tr>\n",
       "      <th>15344</th>\n",
       "      <td>-0.876877</td>\n",
       "      <td>-0.796853</td>\n",
       "      <td>1.116020</td>\n",
       "      <td>-0.150439</td>\n",
       "      <td>-0.218740</td>\n",
       "      <td>-0.074178</td>\n",
       "    </tr>\n",
       "    <tr>\n",
       "      <th>15345</th>\n",
       "      <td>1.564076</td>\n",
       "      <td>0.748381</td>\n",
       "      <td>-0.450788</td>\n",
       "      <td>-0.150439</td>\n",
       "      <td>-0.218740</td>\n",
       "      <td>-0.074178</td>\n",
       "    </tr>\n",
       "    <tr>\n",
       "      <th>15346</th>\n",
       "      <td>-0.419198</td>\n",
       "      <td>-1.223741</td>\n",
       "      <td>1.116020</td>\n",
       "      <td>-0.150439</td>\n",
       "      <td>4.473444</td>\n",
       "      <td>0.341422</td>\n",
       "    </tr>\n",
       "  </tbody>\n",
       "</table>\n",
       "<p>15347 rows × 6 columns</p>\n",
       "</div>"
      ],
      "text/plain": [
       "              0         1         2         3         4         5\n",
       "0     -0.342919  0.900258 -0.450788 -0.065600 -0.218740  1.588223\n",
       "1      0.114760  0.010683 -0.059086 -0.150439 -0.218740 -0.074178\n",
       "2     -0.190359 -0.106280  1.116020 -0.150439 -0.218740 -0.074178\n",
       "3     -1.258276 -0.041382 -0.059086 -0.150439 -0.218740 -0.905379\n",
       "4      0.648719 -0.371197  1.116020  1.995391 -0.218740 -0.074178\n",
       "...         ...       ...       ...       ...       ...       ...\n",
       "15342 -1.029436  3.062953  1.116020 -0.150439 -0.218740 -0.074178\n",
       "15343 -0.495478  0.174179  1.116020  1.995391 -0.218740  0.341422\n",
       "15344 -0.876877 -0.796853  1.116020 -0.150439 -0.218740 -0.074178\n",
       "15345  1.564076  0.748381 -0.450788 -0.150439 -0.218740 -0.074178\n",
       "15346 -0.419198 -1.223741  1.116020 -0.150439  4.473444  0.341422\n",
       "\n",
       "[15347 rows x 6 columns]"
      ]
     },
     "execution_count": 34,
     "metadata": {},
     "output_type": "execute_result"
    }
   ],
   "source": [
    "pd.DataFrame(X_num_scaled)"
   ]
  },
  {
   "cell_type": "markdown",
   "metadata": {},
   "source": [
    "<font color=blue>Подберем для наших 5 моделей оптимальные гиперпараметры на нормализованных данных.</font>"
   ]
  },
  {
   "cell_type": "code",
   "execution_count": 35,
   "metadata": {},
   "outputs": [
    {
     "name": "stdout",
     "output_type": "stream",
     "text": [
      "Fitting 5 folds for each of 9 candidates, totalling 45 fits\n",
      "Лучшие гиперпараметры для kNN:  {'n_neighbors': 9}\n"
     ]
    },
    {
     "data": {
      "image/png": "[encoded data removed]",
      "text/plain": [
       "<Figure size 1000x500 with 1 Axes>"
      ]
     },
     "metadata": {},
     "output_type": "display_data"
    }
   ],
   "source": [
    "knn_grid = run_grid_search(knn, knn_params, X_num_scaled, y, 'kNN')\n",
    "plot_cv_results(knn_grid, 'n_neighbors', 'kNN')"
   ]
  },
  {
   "cell_type": "code",
   "execution_count": 36,
   "metadata": {},
   "outputs": [
    {
     "name": "stdout",
     "output_type": "stream",
     "text": [
      "Fitting 5 folds for each of 9 candidates, totalling 45 fits\n",
      "Лучшие гиперпараметры для SGD:  {'loss': 'log_loss'}\n"
     ]
    },
    {
     "data": {
      "image/png": "[encoded data removed]",
      "text/plain": [
       "<Figure size 1000x500 with 1 Axes>"
      ]
     },
     "metadata": {},
     "output_type": "display_data"
    }
   ],
   "source": [
    "sgd_grid = run_grid_search(sgd, sgd_params, X_num_scaled, y, 'SGD')\n",
    "plot_cv_results(sgd_grid, 'loss', 'SGD', ticks=True)"
   ]
  },
  {
   "cell_type": "code",
   "execution_count": 37,
   "metadata": {},
   "outputs": [
    {
     "name": "stdout",
     "output_type": "stream",
     "text": [
      "Fitting 5 folds for each of 6 candidates, totalling 30 fits\n",
      "Лучшие гиперпараметры для Logistic Regression:  {'C': 0.1}\n"
     ]
    },
    {
     "data": {
      "image/png": "[encoded data removed]",
      "text/plain": [
       "<Figure size 1000x500 with 1 Axes>"
      ]
     },
     "metadata": {},
     "output_type": "display_data"
    }
   ],
   "source": [
    "logreg_grid = run_grid_search(logreg, logreg_params, X_num_scaled, y, \"Logistic Regression\")\n",
    "plot_cv_results(logreg_grid, 'C', 'Logistic Regression')"
   ]
  },
  {
   "cell_type": "code",
   "execution_count": 38,
   "metadata": {},
   "outputs": [
    {
     "name": "stdout",
     "output_type": "stream",
     "text": [
      "Fitting 5 folds for each of 6 candidates, totalling 30 fits\n",
      "Лучшие гиперпараметры для SVC:  {'C': 0.001}\n"
     ]
    },
    {
     "data": {
      "image/png": "[encoded data removed]",
      "text/plain": [
       "<Figure size 1000x500 with 1 Axes>"
      ]
     },
     "metadata": {},
     "output_type": "display_data"
    }
   ],
   "source": [
    "svc_grid = run_grid_search(svc, svc_params, X_num_scaled, y, \"SVC\")\n",
    "plot_cv_results(svc_grid, 'C', 'SVC')"
   ]
  },
  {
   "cell_type": "code",
   "execution_count": 39,
   "metadata": {},
   "outputs": [
    {
     "name": "stdout",
     "output_type": "stream",
     "text": [
      "Fitting 5 folds for each of 13 candidates, totalling 65 fits\n",
      "Лучшие гиперпараметры для GNB:  {'var_smoothing': 0.001}\n"
     ]
    },
    {
     "data": {
      "image/png": "[encoded data removed]",
      "text/plain": [
       "<Figure size 1000x500 with 1 Axes>"
      ]
     },
     "metadata": {},
     "output_type": "display_data"
    }
   ],
   "source": [
    "gnb_grid = run_grid_search(gnb, gnb_params, X_num_scaled, y, \"GNB\")\n",
    "plot_cv_results(gnb_grid, 'var_smoothing', 'Gaussian Naive Bayes', logparam=True)"
   ]
  },
  {
   "cell_type": "markdown",
   "metadata": {},
   "source": [
    "Изменилось ли качество у некоторых алгоритмов?"
   ]
  },
  {
   "cell_type": "markdown",
   "metadata": {},
   "source": [
    "<font color=blue>Как и ожидалось для 4-х алгоритмов: `kNN`,`SGD`,`SVC` и `Logistic Regression` для оптимальных значений гиепрпараметров качество заметно выросло. Эти алгоритмы подтянулись по среднему значению `ROC-AUC` к `GaussianNB`. Кроме того заметно быстрее стали сходиться алгоритмы `SGD` и `Logistic Regression`.</font>"
   ]
  },
  {
   "cell_type": "markdown",
   "metadata": {},
   "source": [
    "**(1,5 балла)** Теперь сделайте перебор нескольких гиперпараметров по сетке и найдите оптимальные комбинации (лучшее среднее значение качества) для каждого алгоритма в данном случае, например:\n",
    " - KNN — число соседей (*n_neighbors*) и метрика (*metric*)\n",
    " - SGDClassifier — оптимизируемая функция (*loss*) и *penalty*\n",
    "\n",
    "Для оставшихся трех алгоритмов самостоятельно определите, какие наборы гиперпараметров необходимо перебирать и осуществите перебор.\n",
    "\n",
    "Обратите внимание, что эта операция может быть ресурсо- и трудоемкой."
   ]
  },
  {
   "cell_type": "markdown",
   "metadata": {},
   "source": [
    "<font color=blue>Осуществим поиск лучших гиперпараметров по выше опробованной схеме на нормализованных данных. Т.к. для каждого алгоритма теперь ищется оптимальная комбинация двух гиперпараметров, то поиск займет больше времени.</font>"
   ]
  },
  {
   "cell_type": "code",
   "execution_count": 40,
   "metadata": {},
   "outputs": [
    {
     "name": "stdout",
     "output_type": "stream",
     "text": [
      "Fitting 5 folds for each of 77 candidates, totalling 385 fits\n",
      "Лучшие гиперпараметры для kNN:  {'metric': 'cityblock', 'n_neighbors': 11}\n"
     ]
    }
   ],
   "source": [
    "#your code here\n",
    "knn_params = {'n_neighbors': range(1, 12),\n",
    "              'metric': ('cityblock', 'cosine', 'euclidean', 'haversine', 'l1', 'l2', 'manhattan')}\n",
    "knn_grid = run_grid_search(knn, knn_params, X_num_scaled, y, 'kNN')"
   ]
  },
  {
   "cell_type": "code",
   "execution_count": 41,
   "metadata": {},
   "outputs": [
    {
     "name": "stdout",
     "output_type": "stream",
     "text": [
      "Fitting 5 folds for each of 36 candidates, totalling 180 fits\n",
      "Лучшие гиперпараметры для SGD:  {'loss': 'log_loss', 'penalty': 'elasticnet'}\n"
     ]
    }
   ],
   "source": [
    "sgd_params = {'loss': ['hinge', 'log_loss', 'modified_huber', \n",
    "                       'squared_hinge', 'perceptron', 'squared_error', \n",
    "                       'huber', 'epsilon_insensitive', 'squared_epsilon_insensitive'],\n",
    "             'penalty': ['l2', 'l1', 'elasticnet', None]}\n",
    "sgd_grid = run_grid_search(sgd, sgd_params, X_num_scaled, y, 'SGD')"
   ]
  },
  {
   "cell_type": "code",
   "execution_count": 42,
   "metadata": {
    "scrolled": true
   },
   "outputs": [
    {
     "name": "stdout",
     "output_type": "stream",
     "text": [
      "Fitting 5 folds for each of 24 candidates, totalling 120 fits\n",
      "Лучшие гиперпараметры для Logistic Regression:  {'C': 0.1, 'penalty': 'l2'}\n"
     ]
    }
   ],
   "source": [
    "logreg_params = {'C': [0.001, 0.1, 0.3, 0.6, 0.9,  1.0],\n",
    "                 'penalty': ['l2', 'l1', 'elasticnet', None]}\n",
    "logreg_grid = run_grid_search(logreg, logreg_params, X_num_scaled, y, 'Logistic Regression')"
   ]
  },
  {
   "cell_type": "code",
   "execution_count": 43,
   "metadata": {},
   "outputs": [
    {
     "name": "stdout",
     "output_type": "stream",
     "text": [
      "Fitting 5 folds for each of 24 candidates, totalling 120 fits\n",
      "Лучшие гиперпараметры для SVC:  {'C': 0.001, 'kernel': 'linear'}\n"
     ]
    }
   ],
   "source": [
    "svc_params = {'C': [0.001, 0.1, 0.3, 0.6, 0.9,  1.0],\n",
    "              'kernel': ['linear', 'poly', 'rbf', 'sigmoid']}\n",
    "svc_grid = run_grid_search(svc, svc_params, X_num_scaled, y, 'SVC')"
   ]
  },
  {
   "cell_type": "code",
   "execution_count": 44,
   "metadata": {},
   "outputs": [
    {
     "name": "stdout",
     "output_type": "stream",
     "text": [
      "Fitting 5 folds for each of 117 candidates, totalling 585 fits\n",
      "Лучшие гиперпараметры для GNB:  {'priors': [0.2, 0.8], 'var_smoothing': 0.001}\n"
     ]
    }
   ],
   "source": [
    "gnb_params  = {'var_smoothing': [1e-3, 1e-4, 1e-5, 1e-6, 1e-7, 1e-8, 1e-9, 1e-10, 1e-11, 1e-12, 1e-13, 1e-14, 1e-15],\n",
    "               'priors': [[p, 1-p] for p in (0.1, 0.2, 0.3, 0.4, 0.5, 0.6, 0.7, 0.8, 0.9)]}\n",
    "gnb_grid = run_grid_search(gnb, gnb_params, X_num_scaled, y, 'GNB')"
   ]
  },
  {
   "cell_type": "markdown",
   "metadata": {},
   "source": [
    "<font color=blue>Посмотрим какой из алгоритмов теперь имеет наилучшее качество. Построим таблицу с данными экспериментов.</font>"
   ]
  },
  {
   "cell_type": "code",
   "execution_count": 45,
   "metadata": {},
   "outputs": [
    {
     "data": {
      "text/html": [
       "<div>\n",
       "<style scoped>\n",
       "    .dataframe tbody tr th:only-of-type {\n",
       "        vertical-align: middle;\n",
       "    }\n",
       "\n",
       "    .dataframe tbody tr th {\n",
       "        vertical-align: top;\n",
       "    }\n",
       "\n",
       "    .dataframe thead th {\n",
       "        text-align: right;\n",
       "    }\n",
       "</style>\n",
       "<table border=\"1\" class=\"dataframe\">\n",
       "  <thead>\n",
       "    <tr style=\"text-align: right;\">\n",
       "      <th></th>\n",
       "      <th>best params 1</th>\n",
       "      <th>mean roc-auc (non-scaled numeric features)</th>\n",
       "      <th>best params 2</th>\n",
       "      <th>mean roc-auc (scaled numeric features) 1</th>\n",
       "      <th>best params 3</th>\n",
       "      <th>mean roc-auc (scaled numeric features) 2</th>\n",
       "    </tr>\n",
       "  </thead>\n",
       "  <tbody>\n",
       "    <tr>\n",
       "      <th>kNN</th>\n",
       "      <td>{'n_neighbors': 6}</td>\n",
       "      <td>0.6373</td>\n",
       "      <td>{'n_neighbors': 9}</td>\n",
       "      <td>0.8073</td>\n",
       "      <td>{'metric': 'cityblock', 'n_neighbors': 11}</td>\n",
       "      <td>0.8149</td>\n",
       "    </tr>\n",
       "    <tr>\n",
       "      <th>SGD</th>\n",
       "      <td>{'loss': 'squared_hinge'}</td>\n",
       "      <td>0.6137</td>\n",
       "      <td>{'loss': 'log_loss'}</td>\n",
       "      <td>0.8201</td>\n",
       "      <td>{'loss': 'log_loss', 'penalty': 'elasticnet'}</td>\n",
       "      <td>0.8201</td>\n",
       "    </tr>\n",
       "    <tr>\n",
       "      <th>Logistic Regression</th>\n",
       "      <td>{'C': 0.001}</td>\n",
       "      <td>0.5740</td>\n",
       "      <td>{'C': 0.1}</td>\n",
       "      <td>0.8251</td>\n",
       "      <td>{'C': 0.1, 'penalty': 'l2'}</td>\n",
       "      <td>0.8251</td>\n",
       "    </tr>\n",
       "    <tr>\n",
       "      <th>SVC</th>\n",
       "      <td>{'C': 0.3}</td>\n",
       "      <td>0.6439</td>\n",
       "      <td>{'C': 0.001}</td>\n",
       "      <td>0.8147</td>\n",
       "      <td>{'C': 0.001, 'kernel': 'linear'}</td>\n",
       "      <td>0.8160</td>\n",
       "    </tr>\n",
       "    <tr>\n",
       "      <th>GNB</th>\n",
       "      <td>{'var_smoothing': 1e-10}</td>\n",
       "      <td>0.8247</td>\n",
       "      <td>{'var_smoothing': 0.001}</td>\n",
       "      <td>0.8245</td>\n",
       "      <td>{'priors': [0.2, 0.8], 'var_smoothing': 0.001}</td>\n",
       "      <td>0.8245</td>\n",
       "    </tr>\n",
       "  </tbody>\n",
       "</table>\n",
       "</div>"
      ],
      "text/plain": [
       "                                 best params 1  \\\n",
       "kNN                         {'n_neighbors': 6}   \n",
       "SGD                  {'loss': 'squared_hinge'}   \n",
       "Logistic Regression               {'C': 0.001}   \n",
       "SVC                                 {'C': 0.3}   \n",
       "GNB                   {'var_smoothing': 1e-10}   \n",
       "\n",
       "                    mean roc-auc (non-scaled numeric features)  \\\n",
       "kNN                                                     0.6373   \n",
       "SGD                                                     0.6137   \n",
       "Logistic Regression                                     0.5740   \n",
       "SVC                                                     0.6439   \n",
       "GNB                                                     0.8247   \n",
       "\n",
       "                                best params 2  \\\n",
       "kNN                        {'n_neighbors': 9}   \n",
       "SGD                      {'loss': 'log_loss'}   \n",
       "Logistic Regression                {'C': 0.1}   \n",
       "SVC                              {'C': 0.001}   \n",
       "GNB                  {'var_smoothing': 0.001}   \n",
       "\n",
       "                    mean roc-auc (scaled numeric features) 1  \\\n",
       "kNN                                                   0.8073   \n",
       "SGD                                                   0.8201   \n",
       "Logistic Regression                                   0.8251   \n",
       "SVC                                                   0.8147   \n",
       "GNB                                                   0.8245   \n",
       "\n",
       "                                                      best params 3  \\\n",
       "kNN                      {'metric': 'cityblock', 'n_neighbors': 11}   \n",
       "SGD                   {'loss': 'log_loss', 'penalty': 'elasticnet'}   \n",
       "Logistic Regression                     {'C': 0.1, 'penalty': 'l2'}   \n",
       "SVC                                {'C': 0.001, 'kernel': 'linear'}   \n",
       "GNB                  {'priors': [0.2, 0.8], 'var_smoothing': 0.001}   \n",
       "\n",
       "                    mean roc-auc (scaled numeric features) 2  \n",
       "kNN                                                   0.8149  \n",
       "SGD                                                   0.8201  \n",
       "Logistic Regression                                   0.8251  \n",
       "SVC                                                   0.8160  \n",
       "GNB                                                   0.8245  "
      ]
     },
     "execution_count": 45,
     "metadata": {},
     "output_type": "execute_result"
    }
   ],
   "source": [
    "columns = ['best params 1', \n",
    "           'mean roc-auc (non-scaled numeric features)',\n",
    "           'best params 2',\n",
    "           'mean roc-auc (scaled numeric features) 1',\n",
    "           'best params 3',\n",
    "           'mean roc-auc (scaled numeric features) 2']\n",
    "exprs = pd.DataFrame(experiments).T\n",
    "exprs.columns = columns\n",
    "exprs"
   ]
  },
  {
   "cell_type": "markdown",
   "metadata": {},
   "source": [
    "Какой из алгоритмов имеет наилучшее качество? \n",
    "\n",
    "**(0.5 балла)** Сравните алгоритмы с точки зрения времени обучения. Обучение какого из алгоритмов работает дольше всего и, как вы думаете, почему?"
   ]
  },
  {
   "cell_type": "markdown",
   "metadata": {},
   "source": [
    "<font color=blue>Как видно наилучшее качество (среднее значение `ROC-AUC`) равное `0.8251` показал алгоритм `Logistic Regression`.</font>"
   ]
  },
  {
   "cell_type": "markdown",
   "metadata": {},
   "source": [
    "<font color=blue>Для замера времени обучения создадим словарь классификаторов с наилучшими найденными гиперпараметрами для каждого.</font>"
   ]
  },
  {
   "cell_type": "code",
   "execution_count": 46,
   "metadata": {},
   "outputs": [],
   "source": [
    "classifiers = { 'Logistic Regression': LogisticRegression(C=0.1, penalty='l2', max_iter=1000, random_state=seed),\n",
    "                'SGD': SGDClassifier(loss='log_loss', penalty='elasticnet', max_iter=10000, random_state=seed),\n",
    "                'GNB': GaussianNB(priors=[0.2, 0.8], var_smoothing=0.001),\n",
    "                'kNN': KNeighborsClassifier(metric='cityblock', n_neighbors=11),\n",
    "                'SVC': SVC(C=0.001, kernel='linear', probability=True, random_state=seed)}"
   ]
  },
  {
   "cell_type": "markdown",
   "metadata": {},
   "source": [
    "<font color=blue>Запустим перебор по словарю и замерим время для каждого классификатора в словаре. Расчитанное время запишем в словарь результатов экспериментов.</font>"
   ]
  },
  {
   "cell_type": "code",
   "execution_count": 47,
   "metadata": {},
   "outputs": [
    {
     "name": "stdout",
     "output_type": "stream",
     "text": [
      "Logistic Regression: 0.0196\n",
      "SGD: 0.0706\n",
      "GNB: 0.0000\n",
      "kNN: 0.0156\n",
      "SVC: 41.0646\n"
     ]
    }
   ],
   "source": [
    "for cls_name in classifiers:\n",
    "    start_time = time.time()\n",
    "    classifiers[cls_name].fit(X_num_scaled, y)\n",
    "    end_time = time.time()\n",
    "    elapsed_time = end_time - start_time\n",
    "    print(f'{cls_name}: {elapsed_time:0.4f}')\n",
    "    experiments[cls_name].append(f'{elapsed_time:0.4f}')"
   ]
  },
  {
   "cell_type": "markdown",
   "metadata": {},
   "source": [
    "<font color=blue>Посмотрим на результаты.</font>"
   ]
  },
  {
   "cell_type": "code",
   "execution_count": 48,
   "metadata": {},
   "outputs": [
    {
     "data": {
      "text/html": [
       "<div>\n",
       "<style scoped>\n",
       "    .dataframe tbody tr th:only-of-type {\n",
       "        vertical-align: middle;\n",
       "    }\n",
       "\n",
       "    .dataframe tbody tr th {\n",
       "        vertical-align: top;\n",
       "    }\n",
       "\n",
       "    .dataframe thead th {\n",
       "        text-align: right;\n",
       "    }\n",
       "</style>\n",
       "<table border=\"1\" class=\"dataframe\">\n",
       "  <thead>\n",
       "    <tr style=\"text-align: right;\">\n",
       "      <th></th>\n",
       "      <th>best params 1</th>\n",
       "      <th>mean roc-auc (non-scaled numeric features)</th>\n",
       "      <th>best params 2</th>\n",
       "      <th>mean roc-auc (scaled numeric features) 1</th>\n",
       "      <th>best params 3</th>\n",
       "      <th>mean roc-auc (scaled numeric features) 2</th>\n",
       "      <th>elapsed time (sec)</th>\n",
       "    </tr>\n",
       "  </thead>\n",
       "  <tbody>\n",
       "    <tr>\n",
       "      <th>kNN</th>\n",
       "      <td>{'n_neighbors': 6}</td>\n",
       "      <td>0.6373</td>\n",
       "      <td>{'n_neighbors': 9}</td>\n",
       "      <td>0.8073</td>\n",
       "      <td>{'metric': 'cityblock', 'n_neighbors': 11}</td>\n",
       "      <td>0.8149</td>\n",
       "      <td>0.0156</td>\n",
       "    </tr>\n",
       "    <tr>\n",
       "      <th>SGD</th>\n",
       "      <td>{'loss': 'squared_hinge'}</td>\n",
       "      <td>0.6137</td>\n",
       "      <td>{'loss': 'log_loss'}</td>\n",
       "      <td>0.8201</td>\n",
       "      <td>{'loss': 'log_loss', 'penalty': 'elasticnet'}</td>\n",
       "      <td>0.8201</td>\n",
       "      <td>0.0706</td>\n",
       "    </tr>\n",
       "    <tr>\n",
       "      <th>Logistic Regression</th>\n",
       "      <td>{'C': 0.001}</td>\n",
       "      <td>0.5740</td>\n",
       "      <td>{'C': 0.1}</td>\n",
       "      <td>0.8251</td>\n",
       "      <td>{'C': 0.1, 'penalty': 'l2'}</td>\n",
       "      <td>0.8251</td>\n",
       "      <td>0.0196</td>\n",
       "    </tr>\n",
       "    <tr>\n",
       "      <th>SVC</th>\n",
       "      <td>{'C': 0.3}</td>\n",
       "      <td>0.6439</td>\n",
       "      <td>{'C': 0.001}</td>\n",
       "      <td>0.8147</td>\n",
       "      <td>{'C': 0.001, 'kernel': 'linear'}</td>\n",
       "      <td>0.8160</td>\n",
       "      <td>41.0646</td>\n",
       "    </tr>\n",
       "    <tr>\n",
       "      <th>GNB</th>\n",
       "      <td>{'var_smoothing': 1e-10}</td>\n",
       "      <td>0.8247</td>\n",
       "      <td>{'var_smoothing': 0.001}</td>\n",
       "      <td>0.8245</td>\n",
       "      <td>{'priors': [0.2, 0.8], 'var_smoothing': 0.001}</td>\n",
       "      <td>0.8245</td>\n",
       "      <td>0.0000</td>\n",
       "    </tr>\n",
       "  </tbody>\n",
       "</table>\n",
       "</div>"
      ],
      "text/plain": [
       "                                 best params 1  \\\n",
       "kNN                         {'n_neighbors': 6}   \n",
       "SGD                  {'loss': 'squared_hinge'}   \n",
       "Logistic Regression               {'C': 0.001}   \n",
       "SVC                                 {'C': 0.3}   \n",
       "GNB                   {'var_smoothing': 1e-10}   \n",
       "\n",
       "                    mean roc-auc (non-scaled numeric features)  \\\n",
       "kNN                                                     0.6373   \n",
       "SGD                                                     0.6137   \n",
       "Logistic Regression                                     0.5740   \n",
       "SVC                                                     0.6439   \n",
       "GNB                                                     0.8247   \n",
       "\n",
       "                                best params 2  \\\n",
       "kNN                        {'n_neighbors': 9}   \n",
       "SGD                      {'loss': 'log_loss'}   \n",
       "Logistic Regression                {'C': 0.1}   \n",
       "SVC                              {'C': 0.001}   \n",
       "GNB                  {'var_smoothing': 0.001}   \n",
       "\n",
       "                    mean roc-auc (scaled numeric features) 1  \\\n",
       "kNN                                                   0.8073   \n",
       "SGD                                                   0.8201   \n",
       "Logistic Regression                                   0.8251   \n",
       "SVC                                                   0.8147   \n",
       "GNB                                                   0.8245   \n",
       "\n",
       "                                                      best params 3  \\\n",
       "kNN                      {'metric': 'cityblock', 'n_neighbors': 11}   \n",
       "SGD                   {'loss': 'log_loss', 'penalty': 'elasticnet'}   \n",
       "Logistic Regression                     {'C': 0.1, 'penalty': 'l2'}   \n",
       "SVC                                {'C': 0.001, 'kernel': 'linear'}   \n",
       "GNB                  {'priors': [0.2, 0.8], 'var_smoothing': 0.001}   \n",
       "\n",
       "                    mean roc-auc (scaled numeric features) 2  \\\n",
       "kNN                                                   0.8149   \n",
       "SGD                                                   0.8201   \n",
       "Logistic Regression                                   0.8251   \n",
       "SVC                                                   0.8160   \n",
       "GNB                                                   0.8245   \n",
       "\n",
       "                    elapsed time (sec)  \n",
       "kNN                             0.0156  \n",
       "SGD                             0.0706  \n",
       "Logistic Regression             0.0196  \n",
       "SVC                            41.0646  \n",
       "GNB                             0.0000  "
      ]
     },
     "execution_count": 48,
     "metadata": {},
     "output_type": "execute_result"
    }
   ],
   "source": [
    "columns = ['best params 1', \n",
    "           'mean roc-auc (non-scaled numeric features)',\n",
    "           'best params 2',\n",
    "           'mean roc-auc (scaled numeric features) 1',\n",
    "           'best params 3',\n",
    "           'mean roc-auc (scaled numeric features) 2',\n",
    "           'elapsed time (sec)']\n",
    "exprs = pd.DataFrame(experiments).T\n",
    "exprs.columns = columns\n",
    "exprs"
   ]
  },
  {
   "cell_type": "markdown",
   "metadata": {},
   "source": [
    "<font color=blue>\n",
    "\n",
    "Как видно все алгоритмы, кроме `SVC`, обучаются примерно за одно и то же время. Обучение `SVC` потребовало на несколько порядков больше времени.\n",
    "\n",
    "Связано это с тем, что `SVC` работает путем поиска гиперплоскости, которая максимизирует разницу между двумя классами. Это требует решения задачи квадратичного программирования, которая имеет вычислительную сложность `O(n^3)`, где `n` - количество обучающих примеров. Это делает `SVC` более медленным для больших наборов данных.\n",
    "\n",
    "С другой стороны, `Logistic Regression` и `SGD` имеют вычислительную сложность `O(n)`, что делает их более эффективными для больших наборов данных. `kNN` также быстрее, потому что он просто сравнивает новый пример с каждым обучающим примером, что требует меньше вычислений.\n",
    "\n",
    "`GaussianNB` применяет теорему Байеса с предположением о независимости между признаками. Он вычисляет вероятности классов на основе средних значений и дисперсии признаков, что является относительно быстрой операцией.\n",
    "\n",
    "</font>"
   ]
  },
  {
   "cell_type": "markdown",
   "metadata": {},
   "source": [
    "## Добавление категориальных признаков в модели\n",
    "\n",
    "Пока мы не использовали нечисловые признаки, которые есть в датасете. Давайте посмотрим, правильно ли мы сделали и увеличится ли качество моделей после добавлениях этих признаков. \n",
    "\n",
    "**(0.5 балла)** Преобразуйте все категориальные признаки с помощью метода one-hot-encoding (например, это можно сделать с помощью функции [pandas.get_dummies](http://pandas.pydata.org/pandas-docs/stable/generated/pandas.get_dummies.html) или [DictVectorizer](http://scikit-learn.org/stable/modules/generated/sklearn.feature_extraction.DictVectorizer.html) из sklearn)."
   ]
  },
  {
   "cell_type": "markdown",
   "metadata": {},
   "source": [
    "<font color=blue>Вспомним какие признаки мы выделили в список `categorical_features` (категориальных).</font>"
   ]
  },
  {
   "cell_type": "code",
   "execution_count": 49,
   "metadata": {},
   "outputs": [
    {
     "data": {
      "text/plain": [
       "Index(['workclass', 'education', 'marital-status', 'occupation',\n",
       "       'relationship', 'race', 'sex'],\n",
       "      dtype='object')"
      ]
     },
     "execution_count": 49,
     "metadata": {},
     "output_type": "execute_result"
    }
   ],
   "source": [
    "#your code here\n",
    "categorical_features"
   ]
  },
  {
   "cell_type": "markdown",
   "metadata": {},
   "source": [
    "<font color=blue>Поместим `onehot` вектора категориальных признаков во фрейм `X_onehot`.</font>"
   ]
  },
  {
   "cell_type": "code",
   "execution_count": 50,
   "metadata": {},
   "outputs": [],
   "source": [
    "X_onehot=pd.get_dummies(X[categorical_features], columns=categorical_features, drop_first=True, dtype='uint8')"
   ]
  },
  {
   "cell_type": "markdown",
   "metadata": {},
   "source": [
    "<font color=blue>Посмотрим как выглядит фрейм `X_onehot`.</font>"
   ]
  },
  {
   "cell_type": "code",
   "execution_count": 51,
   "metadata": {},
   "outputs": [
    {
     "data": {
      "text/html": [
       "<div>\n",
       "<style scoped>\n",
       "    .dataframe tbody tr th:only-of-type {\n",
       "        vertical-align: middle;\n",
       "    }\n",
       "\n",
       "    .dataframe tbody tr th {\n",
       "        vertical-align: top;\n",
       "    }\n",
       "\n",
       "    .dataframe thead th {\n",
       "        text-align: right;\n",
       "    }\n",
       "</style>\n",
       "<table border=\"1\" class=\"dataframe\">\n",
       "  <thead>\n",
       "    <tr style=\"text-align: right;\">\n",
       "      <th></th>\n",
       "      <th>workclass_Local-gov</th>\n",
       "      <th>workclass_Private</th>\n",
       "      <th>workclass_Self-emp-inc</th>\n",
       "      <th>workclass_Self-emp-not-inc</th>\n",
       "      <th>workclass_State-gov</th>\n",
       "      <th>workclass_Without-pay</th>\n",
       "      <th>education_11th</th>\n",
       "      <th>education_12th</th>\n",
       "      <th>education_1st-4th</th>\n",
       "      <th>education_5th-6th</th>\n",
       "      <th>...</th>\n",
       "      <th>relationship_Not-in-family</th>\n",
       "      <th>relationship_Other-relative</th>\n",
       "      <th>relationship_Own-child</th>\n",
       "      <th>relationship_Unmarried</th>\n",
       "      <th>relationship_Wife</th>\n",
       "      <th>race_Asian-Pac-Islander</th>\n",
       "      <th>race_Black</th>\n",
       "      <th>race_Other</th>\n",
       "      <th>race_White</th>\n",
       "      <th>sex_Male</th>\n",
       "    </tr>\n",
       "  </thead>\n",
       "  <tbody>\n",
       "    <tr>\n",
       "      <th>0</th>\n",
       "      <td>1</td>\n",
       "      <td>0</td>\n",
       "      <td>0</td>\n",
       "      <td>0</td>\n",
       "      <td>0</td>\n",
       "      <td>0</td>\n",
       "      <td>0</td>\n",
       "      <td>0</td>\n",
       "      <td>0</td>\n",
       "      <td>0</td>\n",
       "      <td>...</td>\n",
       "      <td>1</td>\n",
       "      <td>0</td>\n",
       "      <td>0</td>\n",
       "      <td>0</td>\n",
       "      <td>0</td>\n",
       "      <td>0</td>\n",
       "      <td>1</td>\n",
       "      <td>0</td>\n",
       "      <td>0</td>\n",
       "      <td>1</td>\n",
       "    </tr>\n",
       "    <tr>\n",
       "      <th>1</th>\n",
       "      <td>0</td>\n",
       "      <td>1</td>\n",
       "      <td>0</td>\n",
       "      <td>0</td>\n",
       "      <td>0</td>\n",
       "      <td>0</td>\n",
       "      <td>0</td>\n",
       "      <td>0</td>\n",
       "      <td>0</td>\n",
       "      <td>0</td>\n",
       "      <td>...</td>\n",
       "      <td>1</td>\n",
       "      <td>0</td>\n",
       "      <td>0</td>\n",
       "      <td>0</td>\n",
       "      <td>0</td>\n",
       "      <td>0</td>\n",
       "      <td>0</td>\n",
       "      <td>0</td>\n",
       "      <td>1</td>\n",
       "      <td>1</td>\n",
       "    </tr>\n",
       "    <tr>\n",
       "      <th>2</th>\n",
       "      <td>1</td>\n",
       "      <td>0</td>\n",
       "      <td>0</td>\n",
       "      <td>0</td>\n",
       "      <td>0</td>\n",
       "      <td>0</td>\n",
       "      <td>0</td>\n",
       "      <td>0</td>\n",
       "      <td>0</td>\n",
       "      <td>0</td>\n",
       "      <td>...</td>\n",
       "      <td>0</td>\n",
       "      <td>0</td>\n",
       "      <td>1</td>\n",
       "      <td>0</td>\n",
       "      <td>0</td>\n",
       "      <td>0</td>\n",
       "      <td>0</td>\n",
       "      <td>0</td>\n",
       "      <td>1</td>\n",
       "      <td>1</td>\n",
       "    </tr>\n",
       "    <tr>\n",
       "      <th>3</th>\n",
       "      <td>0</td>\n",
       "      <td>1</td>\n",
       "      <td>0</td>\n",
       "      <td>0</td>\n",
       "      <td>0</td>\n",
       "      <td>0</td>\n",
       "      <td>0</td>\n",
       "      <td>0</td>\n",
       "      <td>0</td>\n",
       "      <td>0</td>\n",
       "      <td>...</td>\n",
       "      <td>0</td>\n",
       "      <td>0</td>\n",
       "      <td>1</td>\n",
       "      <td>0</td>\n",
       "      <td>0</td>\n",
       "      <td>0</td>\n",
       "      <td>0</td>\n",
       "      <td>0</td>\n",
       "      <td>1</td>\n",
       "      <td>0</td>\n",
       "    </tr>\n",
       "    <tr>\n",
       "      <th>4</th>\n",
       "      <td>0</td>\n",
       "      <td>1</td>\n",
       "      <td>0</td>\n",
       "      <td>0</td>\n",
       "      <td>0</td>\n",
       "      <td>0</td>\n",
       "      <td>0</td>\n",
       "      <td>0</td>\n",
       "      <td>0</td>\n",
       "      <td>0</td>\n",
       "      <td>...</td>\n",
       "      <td>0</td>\n",
       "      <td>0</td>\n",
       "      <td>0</td>\n",
       "      <td>0</td>\n",
       "      <td>0</td>\n",
       "      <td>0</td>\n",
       "      <td>0</td>\n",
       "      <td>0</td>\n",
       "      <td>1</td>\n",
       "      <td>1</td>\n",
       "    </tr>\n",
       "    <tr>\n",
       "      <th>...</th>\n",
       "      <td>...</td>\n",
       "      <td>...</td>\n",
       "      <td>...</td>\n",
       "      <td>...</td>\n",
       "      <td>...</td>\n",
       "      <td>...</td>\n",
       "      <td>...</td>\n",
       "      <td>...</td>\n",
       "      <td>...</td>\n",
       "      <td>...</td>\n",
       "      <td>...</td>\n",
       "      <td>...</td>\n",
       "      <td>...</td>\n",
       "      <td>...</td>\n",
       "      <td>...</td>\n",
       "      <td>...</td>\n",
       "      <td>...</td>\n",
       "      <td>...</td>\n",
       "      <td>...</td>\n",
       "      <td>...</td>\n",
       "      <td>...</td>\n",
       "    </tr>\n",
       "    <tr>\n",
       "      <th>15342</th>\n",
       "      <td>1</td>\n",
       "      <td>0</td>\n",
       "      <td>0</td>\n",
       "      <td>0</td>\n",
       "      <td>0</td>\n",
       "      <td>0</td>\n",
       "      <td>0</td>\n",
       "      <td>0</td>\n",
       "      <td>0</td>\n",
       "      <td>0</td>\n",
       "      <td>...</td>\n",
       "      <td>0</td>\n",
       "      <td>0</td>\n",
       "      <td>1</td>\n",
       "      <td>0</td>\n",
       "      <td>0</td>\n",
       "      <td>0</td>\n",
       "      <td>1</td>\n",
       "      <td>0</td>\n",
       "      <td>0</td>\n",
       "      <td>0</td>\n",
       "    </tr>\n",
       "    <tr>\n",
       "      <th>15343</th>\n",
       "      <td>0</td>\n",
       "      <td>1</td>\n",
       "      <td>0</td>\n",
       "      <td>0</td>\n",
       "      <td>0</td>\n",
       "      <td>0</td>\n",
       "      <td>0</td>\n",
       "      <td>0</td>\n",
       "      <td>0</td>\n",
       "      <td>0</td>\n",
       "      <td>...</td>\n",
       "      <td>0</td>\n",
       "      <td>0</td>\n",
       "      <td>0</td>\n",
       "      <td>0</td>\n",
       "      <td>0</td>\n",
       "      <td>0</td>\n",
       "      <td>0</td>\n",
       "      <td>0</td>\n",
       "      <td>1</td>\n",
       "      <td>1</td>\n",
       "    </tr>\n",
       "    <tr>\n",
       "      <th>15344</th>\n",
       "      <td>0</td>\n",
       "      <td>1</td>\n",
       "      <td>0</td>\n",
       "      <td>0</td>\n",
       "      <td>0</td>\n",
       "      <td>0</td>\n",
       "      <td>0</td>\n",
       "      <td>0</td>\n",
       "      <td>0</td>\n",
       "      <td>0</td>\n",
       "      <td>...</td>\n",
       "      <td>1</td>\n",
       "      <td>0</td>\n",
       "      <td>0</td>\n",
       "      <td>0</td>\n",
       "      <td>0</td>\n",
       "      <td>1</td>\n",
       "      <td>0</td>\n",
       "      <td>0</td>\n",
       "      <td>0</td>\n",
       "      <td>1</td>\n",
       "    </tr>\n",
       "    <tr>\n",
       "      <th>15345</th>\n",
       "      <td>0</td>\n",
       "      <td>0</td>\n",
       "      <td>0</td>\n",
       "      <td>0</td>\n",
       "      <td>1</td>\n",
       "      <td>0</td>\n",
       "      <td>0</td>\n",
       "      <td>0</td>\n",
       "      <td>0</td>\n",
       "      <td>0</td>\n",
       "      <td>...</td>\n",
       "      <td>0</td>\n",
       "      <td>0</td>\n",
       "      <td>0</td>\n",
       "      <td>0</td>\n",
       "      <td>0</td>\n",
       "      <td>0</td>\n",
       "      <td>0</td>\n",
       "      <td>0</td>\n",
       "      <td>1</td>\n",
       "      <td>1</td>\n",
       "    </tr>\n",
       "    <tr>\n",
       "      <th>15346</th>\n",
       "      <td>0</td>\n",
       "      <td>1</td>\n",
       "      <td>0</td>\n",
       "      <td>0</td>\n",
       "      <td>0</td>\n",
       "      <td>0</td>\n",
       "      <td>0</td>\n",
       "      <td>0</td>\n",
       "      <td>0</td>\n",
       "      <td>0</td>\n",
       "      <td>...</td>\n",
       "      <td>0</td>\n",
       "      <td>0</td>\n",
       "      <td>0</td>\n",
       "      <td>0</td>\n",
       "      <td>0</td>\n",
       "      <td>0</td>\n",
       "      <td>0</td>\n",
       "      <td>0</td>\n",
       "      <td>1</td>\n",
       "      <td>1</td>\n",
       "    </tr>\n",
       "  </tbody>\n",
       "</table>\n",
       "<p>15347 rows × 50 columns</p>\n",
       "</div>"
      ],
      "text/plain": [
       "       workclass_Local-gov  workclass_Private  workclass_Self-emp-inc  \\\n",
       "0                        1                  0                       0   \n",
       "1                        0                  1                       0   \n",
       "2                        1                  0                       0   \n",
       "3                        0                  1                       0   \n",
       "4                        0                  1                       0   \n",
       "...                    ...                ...                     ...   \n",
       "15342                    1                  0                       0   \n",
       "15343                    0                  1                       0   \n",
       "15344                    0                  1                       0   \n",
       "15345                    0                  0                       0   \n",
       "15346                    0                  1                       0   \n",
       "\n",
       "       workclass_Self-emp-not-inc  workclass_State-gov  workclass_Without-pay  \\\n",
       "0                               0                    0                      0   \n",
       "1                               0                    0                      0   \n",
       "2                               0                    0                      0   \n",
       "3                               0                    0                      0   \n",
       "4                               0                    0                      0   \n",
       "...                           ...                  ...                    ...   \n",
       "15342                           0                    0                      0   \n",
       "15343                           0                    0                      0   \n",
       "15344                           0                    0                      0   \n",
       "15345                           0                    1                      0   \n",
       "15346                           0                    0                      0   \n",
       "\n",
       "       education_11th  education_12th  education_1st-4th  education_5th-6th  \\\n",
       "0                   0               0                  0                  0   \n",
       "1                   0               0                  0                  0   \n",
       "2                   0               0                  0                  0   \n",
       "3                   0               0                  0                  0   \n",
       "4                   0               0                  0                  0   \n",
       "...               ...             ...                ...                ...   \n",
       "15342               0               0                  0                  0   \n",
       "15343               0               0                  0                  0   \n",
       "15344               0               0                  0                  0   \n",
       "15345               0               0                  0                  0   \n",
       "15346               0               0                  0                  0   \n",
       "\n",
       "       ...  relationship_Not-in-family  relationship_Other-relative  \\\n",
       "0      ...                           1                            0   \n",
       "1      ...                           1                            0   \n",
       "2      ...                           0                            0   \n",
       "3      ...                           0                            0   \n",
       "4      ...                           0                            0   \n",
       "...    ...                         ...                          ...   \n",
       "15342  ...                           0                            0   \n",
       "15343  ...                           0                            0   \n",
       "15344  ...                           1                            0   \n",
       "15345  ...                           0                            0   \n",
       "15346  ...                           0                            0   \n",
       "\n",
       "       relationship_Own-child  relationship_Unmarried  relationship_Wife  \\\n",
       "0                           0                       0                  0   \n",
       "1                           0                       0                  0   \n",
       "2                           1                       0                  0   \n",
       "3                           1                       0                  0   \n",
       "4                           0                       0                  0   \n",
       "...                       ...                     ...                ...   \n",
       "15342                       1                       0                  0   \n",
       "15343                       0                       0                  0   \n",
       "15344                       0                       0                  0   \n",
       "15345                       0                       0                  0   \n",
       "15346                       0                       0                  0   \n",
       "\n",
       "       race_Asian-Pac-Islander  race_Black  race_Other  race_White  sex_Male  \n",
       "0                            0           1           0           0         1  \n",
       "1                            0           0           0           1         1  \n",
       "2                            0           0           0           1         1  \n",
       "3                            0           0           0           1         0  \n",
       "4                            0           0           0           1         1  \n",
       "...                        ...         ...         ...         ...       ...  \n",
       "15342                        0           1           0           0         0  \n",
       "15343                        0           0           0           1         1  \n",
       "15344                        1           0           0           0         1  \n",
       "15345                        0           0           0           1         1  \n",
       "15346                        0           0           0           1         1  \n",
       "\n",
       "[15347 rows x 50 columns]"
      ]
     },
     "execution_count": 51,
     "metadata": {},
     "output_type": "execute_result"
    }
   ],
   "source": [
    "X_onehot"
   ]
  },
  {
   "cell_type": "markdown",
   "metadata": {},
   "source": [
    "Так как после кодирования признаков получилось достаточно много, в этой работе мы не будем добавлять их и подбирать заново оптимальные гиперпараметры. \n",
    "\n",
    "**(0.5 балла)** Добавьте к масштабированным вещественным признакам закодированные категориальные и обучите алгоритмы с наилучшими гиперпараметрами из предыдущего пункта. Дало ли добавление новых признаков прирост качества? Измеряйте качество как и раньше используя 5-Fold CV. Для этого удобно воспользоваться функцией [cross_val_score](https://scikit-learn.org/stable/modules/generated/sklearn.model_selection.cross_val_score.html)."
   ]
  },
  {
   "cell_type": "markdown",
   "metadata": {},
   "source": [
    "<font color=blue>Поместим во фрейм `X_united` объединение двух фреймов `X_num_scaled` (нормализованные числовые признаки) и `X_onehot` (`onehot` представления категориальных признаков). </font>"
   ]
  },
  {
   "cell_type": "code",
   "execution_count": 52,
   "metadata": {},
   "outputs": [],
   "source": [
    "X_united = pd.concat([pd.DataFrame(X_num_scaled), X_onehot.reset_index()], axis=1)"
   ]
  },
  {
   "cell_type": "markdown",
   "metadata": {},
   "source": [
    "<font color=blue>Удалим ненужную колонку `index`, образовавшуюся в результате конкатенации фреймов. </font> "
   ]
  },
  {
   "cell_type": "code",
   "execution_count": 53,
   "metadata": {},
   "outputs": [],
   "source": [
    "X_united = X_united.drop(columns=['index'])"
   ]
  },
  {
   "cell_type": "markdown",
   "metadata": {},
   "source": [
    "<font color=blue>Для каждого классификатора из словаря `classifiers` запустим кросс-валидацию на данных `X_united` с помощью `cross_val_score`. Результаты (средний `roc-auc` и стандартное отклонение от среднего) поместим в словарь `experiments`. Создадим также словарь `boxplot_data` для построения диаграммы в последнем задании - в этом словаре по ключу-названию классификатора будут хранится 5 результатов кросс-валидации.</font>"
   ]
  },
  {
   "cell_type": "code",
   "execution_count": 54,
   "metadata": {
    "scrolled": true
   },
   "outputs": [
    {
     "name": "stdout",
     "output_type": "stream",
     "text": [
      "Logistic Regression  mean: 0.9034 std: 0.0042\n",
      "SGD  mean: 0.9010 std: 0.0042\n",
      "GNB  mean: 0.8723 std: 0.0044\n",
      "kNN  mean: 0.8779 std: 0.0046\n",
      "SVC  mean: 0.8890 std: 0.0054\n"
     ]
    }
   ],
   "source": [
    "boxplot_data = dict()\n",
    "for cls_name in classifiers:\n",
    "    cv_score = cross_val_score(classifiers[cls_name], np.array(X_united), y, scoring='roc_auc', cv=skf)\n",
    "    boxplot_data[cls_name] = cv_score\n",
    "    experiments[cls_name].append(f'{cv_score.mean():0.4f}')\n",
    "    experiments[cls_name].append(f'{cv_score.std():0.4f}')\n",
    "    \n",
    "    print(f'{cls_name}  mean: {cv_score.mean():0.4f} std: {cv_score.std():0.4f}')"
   ]
  },
  {
   "cell_type": "markdown",
   "metadata": {},
   "source": [
    "<font color=blue>Посмотрим на результаты всех проведенных экспериментов. </font>"
   ]
  },
  {
   "cell_type": "code",
   "execution_count": 55,
   "metadata": {},
   "outputs": [
    {
     "data": {
      "text/html": [
       "<div>\n",
       "<style scoped>\n",
       "    .dataframe tbody tr th:only-of-type {\n",
       "        vertical-align: middle;\n",
       "    }\n",
       "\n",
       "    .dataframe tbody tr th {\n",
       "        vertical-align: top;\n",
       "    }\n",
       "\n",
       "    .dataframe thead th {\n",
       "        text-align: right;\n",
       "    }\n",
       "</style>\n",
       "<table border=\"1\" class=\"dataframe\">\n",
       "  <thead>\n",
       "    <tr style=\"text-align: right;\">\n",
       "      <th></th>\n",
       "      <th>best params 1</th>\n",
       "      <th>mean roc-auc (non-scaled numeric features)</th>\n",
       "      <th>best params 2</th>\n",
       "      <th>mean roc-auc (scaled numeric features) 1</th>\n",
       "      <th>best params 3</th>\n",
       "      <th>mean roc-auc (scaled numeric features) 2</th>\n",
       "      <th>elapsed time (sec)</th>\n",
       "      <th>mean roc-auc (scaled numeric features + categorical features)</th>\n",
       "      <th>std roc-auc (scaled numeric features + categorical features)</th>\n",
       "    </tr>\n",
       "  </thead>\n",
       "  <tbody>\n",
       "    <tr>\n",
       "      <th>kNN</th>\n",
       "      <td>{'n_neighbors': 6}</td>\n",
       "      <td>0.6373</td>\n",
       "      <td>{'n_neighbors': 9}</td>\n",
       "      <td>0.8073</td>\n",
       "      <td>{'metric': 'cityblock', 'n_neighbors': 11}</td>\n",
       "      <td>0.8149</td>\n",
       "      <td>0.0156</td>\n",
       "      <td>0.8779</td>\n",
       "      <td>0.0046</td>\n",
       "    </tr>\n",
       "    <tr>\n",
       "      <th>SGD</th>\n",
       "      <td>{'loss': 'squared_hinge'}</td>\n",
       "      <td>0.6137</td>\n",
       "      <td>{'loss': 'log_loss'}</td>\n",
       "      <td>0.8201</td>\n",
       "      <td>{'loss': 'log_loss', 'penalty': 'elasticnet'}</td>\n",
       "      <td>0.8201</td>\n",
       "      <td>0.0706</td>\n",
       "      <td>0.9010</td>\n",
       "      <td>0.0042</td>\n",
       "    </tr>\n",
       "    <tr>\n",
       "      <th>Logistic Regression</th>\n",
       "      <td>{'C': 0.001}</td>\n",
       "      <td>0.5740</td>\n",
       "      <td>{'C': 0.1}</td>\n",
       "      <td>0.8251</td>\n",
       "      <td>{'C': 0.1, 'penalty': 'l2'}</td>\n",
       "      <td>0.8251</td>\n",
       "      <td>0.0196</td>\n",
       "      <td>0.9034</td>\n",
       "      <td>0.0042</td>\n",
       "    </tr>\n",
       "    <tr>\n",
       "      <th>SVC</th>\n",
       "      <td>{'C': 0.3}</td>\n",
       "      <td>0.6439</td>\n",
       "      <td>{'C': 0.001}</td>\n",
       "      <td>0.8147</td>\n",
       "      <td>{'C': 0.001, 'kernel': 'linear'}</td>\n",
       "      <td>0.8160</td>\n",
       "      <td>41.0646</td>\n",
       "      <td>0.8890</td>\n",
       "      <td>0.0054</td>\n",
       "    </tr>\n",
       "    <tr>\n",
       "      <th>GNB</th>\n",
       "      <td>{'var_smoothing': 1e-10}</td>\n",
       "      <td>0.8247</td>\n",
       "      <td>{'var_smoothing': 0.001}</td>\n",
       "      <td>0.8245</td>\n",
       "      <td>{'priors': [0.2, 0.8], 'var_smoothing': 0.001}</td>\n",
       "      <td>0.8245</td>\n",
       "      <td>0.0000</td>\n",
       "      <td>0.8723</td>\n",
       "      <td>0.0044</td>\n",
       "    </tr>\n",
       "  </tbody>\n",
       "</table>\n",
       "</div>"
      ],
      "text/plain": [
       "                                 best params 1  \\\n",
       "kNN                         {'n_neighbors': 6}   \n",
       "SGD                  {'loss': 'squared_hinge'}   \n",
       "Logistic Regression               {'C': 0.001}   \n",
       "SVC                                 {'C': 0.3}   \n",
       "GNB                   {'var_smoothing': 1e-10}   \n",
       "\n",
       "                    mean roc-auc (non-scaled numeric features)  \\\n",
       "kNN                                                     0.6373   \n",
       "SGD                                                     0.6137   \n",
       "Logistic Regression                                     0.5740   \n",
       "SVC                                                     0.6439   \n",
       "GNB                                                     0.8247   \n",
       "\n",
       "                                best params 2  \\\n",
       "kNN                        {'n_neighbors': 9}   \n",
       "SGD                      {'loss': 'log_loss'}   \n",
       "Logistic Regression                {'C': 0.1}   \n",
       "SVC                              {'C': 0.001}   \n",
       "GNB                  {'var_smoothing': 0.001}   \n",
       "\n",
       "                    mean roc-auc (scaled numeric features) 1  \\\n",
       "kNN                                                   0.8073   \n",
       "SGD                                                   0.8201   \n",
       "Logistic Regression                                   0.8251   \n",
       "SVC                                                   0.8147   \n",
       "GNB                                                   0.8245   \n",
       "\n",
       "                                                      best params 3  \\\n",
       "kNN                      {'metric': 'cityblock', 'n_neighbors': 11}   \n",
       "SGD                   {'loss': 'log_loss', 'penalty': 'elasticnet'}   \n",
       "Logistic Regression                     {'C': 0.1, 'penalty': 'l2'}   \n",
       "SVC                                {'C': 0.001, 'kernel': 'linear'}   \n",
       "GNB                  {'priors': [0.2, 0.8], 'var_smoothing': 0.001}   \n",
       "\n",
       "                    mean roc-auc (scaled numeric features) 2  \\\n",
       "kNN                                                   0.8149   \n",
       "SGD                                                   0.8201   \n",
       "Logistic Regression                                   0.8251   \n",
       "SVC                                                   0.8160   \n",
       "GNB                                                   0.8245   \n",
       "\n",
       "                    elapsed time (sec)  \\\n",
       "kNN                             0.0156   \n",
       "SGD                             0.0706   \n",
       "Logistic Regression             0.0196   \n",
       "SVC                            41.0646   \n",
       "GNB                             0.0000   \n",
       "\n",
       "                    mean roc-auc (scaled numeric features + categorical features)  \\\n",
       "kNN                                                             0.8779              \n",
       "SGD                                                             0.9010              \n",
       "Logistic Regression                                             0.9034              \n",
       "SVC                                                             0.8890              \n",
       "GNB                                                             0.8723              \n",
       "\n",
       "                    std roc-auc (scaled numeric features + categorical features)  \n",
       "kNN                                                             0.0046            \n",
       "SGD                                                             0.0042            \n",
       "Logistic Regression                                             0.0042            \n",
       "SVC                                                             0.0054            \n",
       "GNB                                                             0.0044            "
      ]
     },
     "execution_count": 55,
     "metadata": {},
     "output_type": "execute_result"
    }
   ],
   "source": [
    "columns = ['best params 1', \n",
    "           'mean roc-auc (non-scaled numeric features)',\n",
    "           'best params 2',\n",
    "           'mean roc-auc (scaled numeric features) 1',\n",
    "           'best params 3',\n",
    "           'mean roc-auc (scaled numeric features) 2',\n",
    "           'elapsed time (sec)',\n",
    "           'mean roc-auc (scaled numeric features + categorical features)',\n",
    "           'std roc-auc (scaled numeric features + categorical features)']\n",
    "exprs = pd.DataFrame(experiments).T\n",
    "exprs.columns = columns\n",
    "exprs"
   ]
  },
  {
   "cell_type": "markdown",
   "metadata": {},
   "source": [
    "<font color=blue>Как видно добавление категориальных признаков дало заметный прирост качества `ROC-AUC` для всех алгоритмов. Для `SGD` и `Logistic Regression` оно достигло `0.9`.</font> "
   ]
  },
  {
   "cell_type": "markdown",
   "metadata": {},
   "source": [
    "Отличается ли теперь наилучший классификатор от наилучшего в предыдущем пункте?"
   ]
  },
  {
   "cell_type": "markdown",
   "metadata": {},
   "source": [
    "<font color=blue>Нет. Попрежнему лучшее качество у алгоритма `Logistic Regression`.</font>"
   ]
  },
  {
   "cell_type": "markdown",
   "metadata": {},
   "source": [
    "## Смешивание моделей\n",
    "\n",
    "Во всех предыдущих пунктах мы получили много хороших моделей, которые могут быть достаточно разными по своей природе (например, метод ближайших соседей и логистическая регрессия). Часто на практике оказывается возможным увеличить качество предсказания путем смешивания подобных разных моделей. Давайте посмотрим, действительно ли это дает прирост в качестве.\n",
    "\n",
    "Выберите из построенных моделей двух предыдущих пунктов две, которые дали наибольшее качество на кросс-валидации (обозначим их $clf_1$ и $clf_2$). Далее постройте новый классификатор, ответ которого на некотором объекте $x$ будет выглядеть следующим образом:\n",
    "\n",
    "$$result(x) = clf_1(x) \\cdot \\alpha + clf_2(x) \\cdot (1 - \\alpha)$$\n",
    "\n",
    "где $\\alpha$ — гиперпараметр нового классификатора.\n",
    "\n",
    "**(1 балл)** Подберите по сетке от 0 до 1 $\\alpha$ для этого классификатора с помощью 5-Fold CV и постройте график качества в зависимости от $\\alpha$ (аналогичный графику в разделе \"Обучение классификаторов и оценка качества\"). Дал ли этот подход прирост к качеству по сравнению с моделями ранее?"
   ]
  },
  {
   "cell_type": "markdown",
   "metadata": {},
   "source": [
    "<font color=blue>\n",
    "\n",
    "Создадим класс `Blender`.\n",
    "    \n",
    "Метод `__init__` создает у объекта этого класса два классификатора, которые показали лучшее качество в последнем эксперимента: `clf1`  и `clf2`.\n",
    "    \n",
    "Метод `fit(X, y)` обучает оба классификатора на передаваемых в него данных `X` и `y`.\n",
    "\n",
    "Для вычисления качества `roc-auc` используется библиотечная функция `roc_auc_score`, в которую предсказание передается как вектор вероятностей положительного класса. Поэтому в `Blender` имплементирован метод `predict_proba(X, alpha)`, который вычисляет вектор вероятностей положительного класса для входных данных `X` как линейную комбинацию (с коэффициентами `alpha` и `1-alpha`) векторов вероятностей, предсказанных обученными классификаторами `clf1`  и `clf2`. \n",
    "    \n",
    "Также имеется метод `predict(X)`, который возвращает вектор предсказанных классов (`0` или `1`) по вектору `predict_proba` c пороговым значением `0.5`. В дальнейших расчетах этот метод не используется - для расчета качества `roc-auc` он не нужен.\n",
    "\n",
    "</font>"
   ]
  },
  {
   "cell_type": "code",
   "execution_count": 56,
   "metadata": {},
   "outputs": [],
   "source": [
    "#your code here\n",
    "class Blender:\n",
    "    def __init__(self, clf1, clf2):\n",
    "        self.clf1 = clf1\n",
    "        self.clf2 = clf2\n",
    "    \n",
    "    def fit(self, X, y):\n",
    "        X = np.asarray(X)\n",
    "        y = np.asarray(y)\n",
    "        self.clf1.fit(X, y)\n",
    "        self.clf2.fit(X, y)\n",
    "        return self\n",
    "    \n",
    "    def predict_proba(self, X, alpha=0.5):\n",
    "        X = np.asarray(X)\n",
    "        res = self.clf1.predict_proba(X)[:, 1] * alpha + self.clf2.predict_proba(X)[:, 1] * (1 - alpha)\n",
    "        return res\n",
    "    \n",
    "    def predict(self, X):\n",
    "        return (self.predict_proba(X) > 0.5).astype(int)"
   ]
  },
  {
   "cell_type": "markdown",
   "metadata": {},
   "source": [
    "<font color=blue>Функция `blender_cross_val(blender, X, y, cv)` осуществляет поиск лучшего гиперпараметра `alpha` и возвращает фрейм с результами всех экспериментов и название колонки с лучшим средним значением `ROC-AUC`. Используется кросс-валидация  смешанной модели `Blender` на 5-ти фолдах выборки `X`, размеченной вектором `y`.</font>"
   ]
  },
  {
   "cell_type": "code",
   "execution_count": 57,
   "metadata": {
    "scrolled": true
   },
   "outputs": [],
   "source": [
    "def blender_cross_val(blender, X, y, cv, verbose=True):\n",
    "    X = np.asarray(X)\n",
    "    y = np.asarray(y)\n",
    "    roc_auc_dict = dict()\n",
    "    alphas = np.linspace(0, 1, 11)\n",
    "\n",
    "    for fold, (train_index, test_index) in enumerate(cv.split(X, y)):\n",
    "        X_train = X[train_index]\n",
    "        y_train = y[train_index]\n",
    "        X_test = X[test_index]\n",
    "        y_true = y[test_index]\n",
    "        roc_auc_dict[f'fold{fold}'] = list()\n",
    "        blender.fit(X_train, y_train)\n",
    "        for alpha in alphas:\n",
    "            y_pred = blender.predict_proba(X_test, alpha)\n",
    "            roc_auc_dict[f'fold{fold}'].append(roc_auc_score(y_true, y_pred))\n",
    "            \n",
    "    df_res = pd.DataFrame(roc_auc_dict).T\n",
    "    df_res.columns = [f'alpha={a:.2f}' for a in alphas]\n",
    "    best_column = df_res.columns[df_res.mean().argmax()]\n",
    "    if verbose:\n",
    "        print(f'Лучшее среднее значение ROC-AUC {df_res.mean().max():.4f} для {best_column}')\n",
    "    \n",
    "    \n",
    "    return df_res, best_column"
   ]
  },
  {
   "cell_type": "markdown",
   "metadata": {},
   "source": [
    "<font color=blue>Посмотрим на результаты кросс-валидации всех возможных смешанных моделей (10 разных комбинаций). Также поместим необходимые данные в словарь `boxplot_data`.</font>"
   ]
  },
  {
   "cell_type": "code",
   "execution_count": 58,
   "metadata": {},
   "outputs": [
    {
     "name": "stdout",
     "output_type": "stream",
     "text": [
      "Logistic Regression + SGD\n",
      "Лучшее среднее значение ROC-AUC 0.9034 для alpha=0.90\n",
      "\n",
      "Logistic Regression + GNB\n",
      "Лучшее среднее значение ROC-AUC 0.9034 для alpha=1.00\n",
      "\n",
      "Logistic Regression + kNN\n",
      "Лучшее среднее значение ROC-AUC 0.9046 для alpha=0.80\n",
      "\n",
      "Logistic Regression + SVC\n",
      "Лучшее среднее значение ROC-AUC 0.9034 для alpha=1.00\n",
      "\n",
      "SGD + GNB\n",
      "Лучшее среднее значение ROC-AUC 0.9010 для alpha=1.00\n",
      "\n",
      "SGD + kNN\n",
      "Лучшее среднее значение ROC-AUC 0.9033 для alpha=0.80\n",
      "\n",
      "SGD + SVC\n",
      "Лучшее среднее значение ROC-AUC 0.9019 для alpha=0.80\n",
      "\n",
      "GNB + kNN\n",
      "Лучшее среднее значение ROC-AUC 0.8904 для alpha=0.20\n",
      "\n",
      "GNB + SVC\n",
      "Лучшее среднее значение ROC-AUC 0.8935 для alpha=0.20\n",
      "\n",
      "kNN + SVC\n",
      "Лучшее среднее значение ROC-AUC 0.8945 для alpha=0.40\n",
      "\n"
     ]
    }
   ],
   "source": [
    "pairs = list()\n",
    "for clf1_key in classifiers.keys():\n",
    "    for clf2_key in classifiers.keys():\n",
    "        if clf1_key == clf2_key or {clf1_key, clf2_key} in pairs:\n",
    "            continue\n",
    "        pairs.append({clf1_key, clf2_key})\n",
    "        cls_name = f'{clf1_key} + {clf2_key}'\n",
    "        print(cls_name)\n",
    "        res, bc = blender_cross_val(Blender(classifiers[clf1_key], classifiers[clf2_key]), X_united, y, skf)\n",
    "        boxplot_data[cls_name] = np.array(res[bc])\n",
    "        print()"
   ]
  },
  {
   "cell_type": "markdown",
   "metadata": {},
   "source": [
    "<font color=blue>Видно, что в ряде случаев оптимальным `alpha` оказалось значение 1, т.е. второй классификатор в комбинации оказался бесполезным. Комбинация двух лучших классификаторов `Logistic Regression` и `SGD` дало еле заметное улучшение `ROC-AUC` - это улучшение фиксируется после 4-го знака после запятой.  Только в одном случае (комбинация `Logistic Regression` и `kNN` при `alpha=0.8`) удалось получить улучшение среднего `ROC-AUC` в 3-м знаке после запятой. Это значение `ROC-AUC` самое большое из всех полученных в экспериментах.</font> "
   ]
  },
  {
   "cell_type": "markdown",
   "metadata": {},
   "source": [
    "## Сравнение построенных моделей\n",
    "\n",
    "![](http://cdn.shopify.com/s/files/1/0870/1066/files/compare_e8b89647-3cb6-4871-a976-2e36e5987773.png?1750043340268621065)\n",
    "\n",
    "После того как было построено много моделей хотелось бы сравнить их между собой. Для этого можно построить \"ящик с усами\" (диаграму размаха). Для этого можно воспользоваться библиотекой [matplotlib](https://matplotlib.org/3.1.0/api/_as_gen/matplotlib.pyplot.boxplot.html) или [seaborn](https://seaborn.pydata.org/generated/seaborn.boxplot.html).\n",
    "\n",
    "**(1 балл)** Для каждого типа классификатора (kNN, SGD classifier и т.д.), а так же смешанной модели выберите тот, которых давал наилучшее качество на кросс-валидации и постройте диаграмму размаха (все классификаторы должны быть изображены на одном графике).\n",
    " \n",
    "Сделайте общие итоговые выводы о классификаторах с точки зрения их работы с признаками и сложности самой модели (какие гиперпараметры есть у модели, сильно ли изменение значения гиперпараметра влияет на качество модели)."
   ]
  },
  {
   "cell_type": "markdown",
   "metadata": {},
   "source": [
    "<font color=blue>Взглянем на наш словарь `boxplot_data` с лучшими результами валидации для разных классификаторов, в т.ч. смешанных.</font>"
   ]
  },
  {
   "cell_type": "code",
   "execution_count": 59,
   "metadata": {},
   "outputs": [
    {
     "data": {
      "text/html": [
       "<div>\n",
       "<style scoped>\n",
       "    .dataframe tbody tr th:only-of-type {\n",
       "        vertical-align: middle;\n",
       "    }\n",
       "\n",
       "    .dataframe tbody tr th {\n",
       "        vertical-align: top;\n",
       "    }\n",
       "\n",
       "    .dataframe thead th {\n",
       "        text-align: right;\n",
       "    }\n",
       "</style>\n",
       "<table border=\"1\" class=\"dataframe\">\n",
       "  <thead>\n",
       "    <tr style=\"text-align: right;\">\n",
       "      <th></th>\n",
       "      <th>Logistic Regression</th>\n",
       "      <th>SGD</th>\n",
       "      <th>GNB</th>\n",
       "      <th>kNN</th>\n",
       "      <th>SVC</th>\n",
       "      <th>Logistic Regression + SGD</th>\n",
       "      <th>Logistic Regression + GNB</th>\n",
       "      <th>Logistic Regression + kNN</th>\n",
       "      <th>Logistic Regression + SVC</th>\n",
       "      <th>SGD + GNB</th>\n",
       "      <th>SGD + kNN</th>\n",
       "      <th>SGD + SVC</th>\n",
       "      <th>GNB + kNN</th>\n",
       "      <th>GNB + SVC</th>\n",
       "      <th>kNN + SVC</th>\n",
       "    </tr>\n",
       "  </thead>\n",
       "  <tbody>\n",
       "    <tr>\n",
       "      <th>0</th>\n",
       "      <td>0.901204</td>\n",
       "      <td>0.899456</td>\n",
       "      <td>0.874151</td>\n",
       "      <td>0.880408</td>\n",
       "      <td>0.888157</td>\n",
       "      <td>0.901243</td>\n",
       "      <td>0.901204</td>\n",
       "      <td>0.903409</td>\n",
       "      <td>0.901204</td>\n",
       "      <td>0.899456</td>\n",
       "      <td>0.902091</td>\n",
       "      <td>0.899407</td>\n",
       "      <td>0.894638</td>\n",
       "      <td>0.893329</td>\n",
       "      <td>0.894941</td>\n",
       "    </tr>\n",
       "    <tr>\n",
       "      <th>1</th>\n",
       "      <td>0.906869</td>\n",
       "      <td>0.903705</td>\n",
       "      <td>0.878862</td>\n",
       "      <td>0.880968</td>\n",
       "      <td>0.893489</td>\n",
       "      <td>0.906820</td>\n",
       "      <td>0.906869</td>\n",
       "      <td>0.907025</td>\n",
       "      <td>0.906869</td>\n",
       "      <td>0.903705</td>\n",
       "      <td>0.905430</td>\n",
       "      <td>0.905311</td>\n",
       "      <td>0.892625</td>\n",
       "      <td>0.897808</td>\n",
       "      <td>0.897562</td>\n",
       "    </tr>\n",
       "    <tr>\n",
       "      <th>2</th>\n",
       "      <td>0.896242</td>\n",
       "      <td>0.893382</td>\n",
       "      <td>0.865773</td>\n",
       "      <td>0.868867</td>\n",
       "      <td>0.881590</td>\n",
       "      <td>0.896382</td>\n",
       "      <td>0.896242</td>\n",
       "      <td>0.897700</td>\n",
       "      <td>0.896242</td>\n",
       "      <td>0.893382</td>\n",
       "      <td>0.896588</td>\n",
       "      <td>0.895516</td>\n",
       "      <td>0.881658</td>\n",
       "      <td>0.887550</td>\n",
       "      <td>0.887222</td>\n",
       "    </tr>\n",
       "    <tr>\n",
       "      <th>3</th>\n",
       "      <td>0.905675</td>\n",
       "      <td>0.904729</td>\n",
       "      <td>0.872690</td>\n",
       "      <td>0.880999</td>\n",
       "      <td>0.885148</td>\n",
       "      <td>0.905673</td>\n",
       "      <td>0.905675</td>\n",
       "      <td>0.907153</td>\n",
       "      <td>0.905675</td>\n",
       "      <td>0.904729</td>\n",
       "      <td>0.906564</td>\n",
       "      <td>0.903409</td>\n",
       "      <td>0.892940</td>\n",
       "      <td>0.891152</td>\n",
       "      <td>0.893391</td>\n",
       "    </tr>\n",
       "    <tr>\n",
       "      <th>4</th>\n",
       "      <td>0.907138</td>\n",
       "      <td>0.903878</td>\n",
       "      <td>0.869925</td>\n",
       "      <td>0.878372</td>\n",
       "      <td>0.896427</td>\n",
       "      <td>0.907047</td>\n",
       "      <td>0.907138</td>\n",
       "      <td>0.907717</td>\n",
       "      <td>0.907138</td>\n",
       "      <td>0.903878</td>\n",
       "      <td>0.905602</td>\n",
       "      <td>0.905640</td>\n",
       "      <td>0.890307</td>\n",
       "      <td>0.897850</td>\n",
       "      <td>0.899449</td>\n",
       "    </tr>\n",
       "  </tbody>\n",
       "</table>\n",
       "</div>"
      ],
      "text/plain": [
       "   Logistic Regression       SGD       GNB       kNN       SVC  \\\n",
       "0             0.901204  0.899456  0.874151  0.880408  0.888157   \n",
       "1             0.906869  0.903705  0.878862  0.880968  0.893489   \n",
       "2             0.896242  0.893382  0.865773  0.868867  0.881590   \n",
       "3             0.905675  0.904729  0.872690  0.880999  0.885148   \n",
       "4             0.907138  0.903878  0.869925  0.878372  0.896427   \n",
       "\n",
       "   Logistic Regression + SGD  Logistic Regression + GNB  \\\n",
       "0                   0.901243                   0.901204   \n",
       "1                   0.906820                   0.906869   \n",
       "2                   0.896382                   0.896242   \n",
       "3                   0.905673                   0.905675   \n",
       "4                   0.907047                   0.907138   \n",
       "\n",
       "   Logistic Regression + kNN  Logistic Regression + SVC  SGD + GNB  SGD + kNN  \\\n",
       "0                   0.903409                   0.901204   0.899456   0.902091   \n",
       "1                   0.907025                   0.906869   0.903705   0.905430   \n",
       "2                   0.897700                   0.896242   0.893382   0.896588   \n",
       "3                   0.907153                   0.905675   0.904729   0.906564   \n",
       "4                   0.907717                   0.907138   0.903878   0.905602   \n",
       "\n",
       "   SGD + SVC  GNB + kNN  GNB + SVC  kNN + SVC  \n",
       "0   0.899407   0.894638   0.893329   0.894941  \n",
       "1   0.905311   0.892625   0.897808   0.897562  \n",
       "2   0.895516   0.881658   0.887550   0.887222  \n",
       "3   0.903409   0.892940   0.891152   0.893391  \n",
       "4   0.905640   0.890307   0.897850   0.899449  "
      ]
     },
     "execution_count": 59,
     "metadata": {},
     "output_type": "execute_result"
    }
   ],
   "source": [
    "pd.DataFrame(boxplot_data)"
   ]
  },
  {
   "cell_type": "markdown",
   "metadata": {},
   "source": [
    "<font color=blue>Наc не интересуют смешанные классификаторы с лучшим `alpha=1` т.к. это по сути дублирование одиночных классификаторов. Поэтому сгенерируем немного урезанный словарь.</font>"
   ]
  },
  {
   "cell_type": "code",
   "execution_count": 60,
   "metadata": {},
   "outputs": [],
   "source": [
    "actual_boxplot_data = boxplot_data.copy()\n",
    "del actual_boxplot_data['Logistic Regression + GNB']\n",
    "del actual_boxplot_data['Logistic Regression + SVC']\n",
    "del actual_boxplot_data['SGD + GNB']"
   ]
  },
  {
   "cell_type": "code",
   "execution_count": 61,
   "metadata": {},
   "outputs": [
    {
     "data": {
      "text/html": [
       "<div>\n",
       "<style scoped>\n",
       "    .dataframe tbody tr th:only-of-type {\n",
       "        vertical-align: middle;\n",
       "    }\n",
       "\n",
       "    .dataframe tbody tr th {\n",
       "        vertical-align: top;\n",
       "    }\n",
       "\n",
       "    .dataframe thead th {\n",
       "        text-align: right;\n",
       "    }\n",
       "</style>\n",
       "<table border=\"1\" class=\"dataframe\">\n",
       "  <thead>\n",
       "    <tr style=\"text-align: right;\">\n",
       "      <th></th>\n",
       "      <th>Logistic Regression</th>\n",
       "      <th>SGD</th>\n",
       "      <th>GNB</th>\n",
       "      <th>kNN</th>\n",
       "      <th>SVC</th>\n",
       "      <th>Logistic Regression + SGD</th>\n",
       "      <th>Logistic Regression + kNN</th>\n",
       "      <th>SGD + kNN</th>\n",
       "      <th>SGD + SVC</th>\n",
       "      <th>GNB + kNN</th>\n",
       "      <th>GNB + SVC</th>\n",
       "      <th>kNN + SVC</th>\n",
       "    </tr>\n",
       "  </thead>\n",
       "  <tbody>\n",
       "    <tr>\n",
       "      <th>0</th>\n",
       "      <td>0.901204</td>\n",
       "      <td>0.899456</td>\n",
       "      <td>0.874151</td>\n",
       "      <td>0.880408</td>\n",
       "      <td>0.888157</td>\n",
       "      <td>0.901243</td>\n",
       "      <td>0.903409</td>\n",
       "      <td>0.902091</td>\n",
       "      <td>0.899407</td>\n",
       "      <td>0.894638</td>\n",
       "      <td>0.893329</td>\n",
       "      <td>0.894941</td>\n",
       "    </tr>\n",
       "    <tr>\n",
       "      <th>1</th>\n",
       "      <td>0.906869</td>\n",
       "      <td>0.903705</td>\n",
       "      <td>0.878862</td>\n",
       "      <td>0.880968</td>\n",
       "      <td>0.893489</td>\n",
       "      <td>0.906820</td>\n",
       "      <td>0.907025</td>\n",
       "      <td>0.905430</td>\n",
       "      <td>0.905311</td>\n",
       "      <td>0.892625</td>\n",
       "      <td>0.897808</td>\n",
       "      <td>0.897562</td>\n",
       "    </tr>\n",
       "    <tr>\n",
       "      <th>2</th>\n",
       "      <td>0.896242</td>\n",
       "      <td>0.893382</td>\n",
       "      <td>0.865773</td>\n",
       "      <td>0.868867</td>\n",
       "      <td>0.881590</td>\n",
       "      <td>0.896382</td>\n",
       "      <td>0.897700</td>\n",
       "      <td>0.896588</td>\n",
       "      <td>0.895516</td>\n",
       "      <td>0.881658</td>\n",
       "      <td>0.887550</td>\n",
       "      <td>0.887222</td>\n",
       "    </tr>\n",
       "    <tr>\n",
       "      <th>3</th>\n",
       "      <td>0.905675</td>\n",
       "      <td>0.904729</td>\n",
       "      <td>0.872690</td>\n",
       "      <td>0.880999</td>\n",
       "      <td>0.885148</td>\n",
       "      <td>0.905673</td>\n",
       "      <td>0.907153</td>\n",
       "      <td>0.906564</td>\n",
       "      <td>0.903409</td>\n",
       "      <td>0.892940</td>\n",
       "      <td>0.891152</td>\n",
       "      <td>0.893391</td>\n",
       "    </tr>\n",
       "    <tr>\n",
       "      <th>4</th>\n",
       "      <td>0.907138</td>\n",
       "      <td>0.903878</td>\n",
       "      <td>0.869925</td>\n",
       "      <td>0.878372</td>\n",
       "      <td>0.896427</td>\n",
       "      <td>0.907047</td>\n",
       "      <td>0.907717</td>\n",
       "      <td>0.905602</td>\n",
       "      <td>0.905640</td>\n",
       "      <td>0.890307</td>\n",
       "      <td>0.897850</td>\n",
       "      <td>0.899449</td>\n",
       "    </tr>\n",
       "  </tbody>\n",
       "</table>\n",
       "</div>"
      ],
      "text/plain": [
       "   Logistic Regression       SGD       GNB       kNN       SVC  \\\n",
       "0             0.901204  0.899456  0.874151  0.880408  0.888157   \n",
       "1             0.906869  0.903705  0.878862  0.880968  0.893489   \n",
       "2             0.896242  0.893382  0.865773  0.868867  0.881590   \n",
       "3             0.905675  0.904729  0.872690  0.880999  0.885148   \n",
       "4             0.907138  0.903878  0.869925  0.878372  0.896427   \n",
       "\n",
       "   Logistic Regression + SGD  Logistic Regression + kNN  SGD + kNN  SGD + SVC  \\\n",
       "0                   0.901243                   0.903409   0.902091   0.899407   \n",
       "1                   0.906820                   0.907025   0.905430   0.905311   \n",
       "2                   0.896382                   0.897700   0.896588   0.895516   \n",
       "3                   0.905673                   0.907153   0.906564   0.903409   \n",
       "4                   0.907047                   0.907717   0.905602   0.905640   \n",
       "\n",
       "   GNB + kNN  GNB + SVC  kNN + SVC  \n",
       "0   0.894638   0.893329   0.894941  \n",
       "1   0.892625   0.897808   0.897562  \n",
       "2   0.881658   0.887550   0.887222  \n",
       "3   0.892940   0.891152   0.893391  \n",
       "4   0.890307   0.897850   0.899449  "
      ]
     },
     "execution_count": 61,
     "metadata": {},
     "output_type": "execute_result"
    }
   ],
   "source": [
    "pd.DataFrame(actual_boxplot_data)"
   ]
  },
  {
   "cell_type": "markdown",
   "metadata": {},
   "source": [
    "<font color=blue>Теперь по этим данным для каждого классификатора построим ящик с усами на одной диаграмме.</font>"
   ]
  },
  {
   "cell_type": "code",
   "execution_count": 62,
   "metadata": {},
   "outputs": [
    {
     "data": {
      "image/png": "[encoded data removed]",
      "text/plain": [
       "<Figure size 1000x500 with 1 Axes>"
      ]
     },
     "metadata": {},
     "output_type": "display_data"
    }
   ],
   "source": [
    "fig, ax = plt.subplots(figsize=(10, 5))\n",
    "\n",
    "ax.boxplot(actual_boxplot_data.values())\n",
    "ax.grid()\n",
    "ax.set_xticklabels(actual_boxplot_data.keys(), rotation=45, fontsize=8)\n",
    "\n",
    "plt.show()"
   ]
  },
  {
   "cell_type": "markdown",
   "metadata": {},
   "source": [
    "<font color=blue>Видно, что в среднем смешанные модели имеют более высокое качество `ROC-AUC`, чем одинарные.</font>"
   ]
  },
  {
   "cell_type": "markdown",
   "metadata": {},
   "source": [
    "<font color=blue>\n",
    "\n",
    "Почти во всех случаях стандартизация числовых признаков улучшила качество модели, кроме может быть `GaussianNB` (у этой модели качество осталось на прежнем уровне для оптимального гиперпараметра). Также стоит отметить, что все модели после добавления категориальных признаков заметно повысили качество `ROC-AUC`.\n",
    "\n",
    "Эксперименты показали, что в зависимости от модели и гиперпараметра перебор по сетке может приводить и к заметному улучшению качества, и к слабо заметному. Например, `ROC-AUC` модели `kNN` сильно зависит от гиперпараметра `n_neighbors`, но перебор по гиперпараметру `metric` дал совсем не большое улучшение. Аналогично для модели `SGD` можно отметить заметное влияние на модель гиперпараметра `loss`, но слабое влияние гиперпараметра `penalty`.  Можно также отметить не очень большое влияние гиперпараметра `C` на модели `SVC` и `Logistic Regression`. После нормализации данных совсем исчезло влияние гиперпараметра `var_smoothing` на модель `GaussianNB`.\n",
    "\n",
    "</font>"
   ]
  }
 ],
 "metadata": {
  "kernelspec": {
   "display_name": "Python 3 (ipykernel)",
   "language": "python",
   "name": "python3"
  },
  "language_info": {
   "codemirror_mode": {
    "name": "ipython",
    "version": 3
   },
   "file_extension": ".py",
   "mimetype": "text/x-python",
   "name": "python",
   "nbconvert_exporter": "python",
   "pygments_lexer": "ipython3",
   "version": "3.11.5"
  }
 },
 "nbformat": 4,
 "nbformat_minor": 1
}
