{
 "cells": [
  {
   "cell_type": "markdown",
   "metadata": {},
   "source": [
    "## Домашнее задание 2: Линейные модели. Работа с признаками"
   ]
  },
  {
   "cell_type": "markdown",
   "metadata": {},
   "source": [
    "Правила:\n",
    "\n",
    "* Домашнее задание оценивается в 10 баллов.\n",
    "\n",
    "* Можно использовать без доказательства любые результаты, встречавшиеся на лекциях или семинарах по курсу, если получение этих результатов не является вопросом задания.\n",
    "\n",
    "* Можно использовать любые свободные источники с *обязательным* указанием ссылки на них.\n",
    "\n",
    "* Плагиат не допускается.\n",
    "\n",
    "* Старайтесь сделать код как можно более оптимальным и читаемым."
   ]
  },
  {
   "cell_type": "code",
   "execution_count": 1,
   "metadata": {},
   "outputs": [],
   "source": [
    "import numpy as np\n",
    "import pandas as pd\n",
    "import matplotlib.pyplot as plt\n",
    "\n",
    "%matplotlib inline"
   ]
  },
  {
   "cell_type": "markdown",
   "metadata": {},
   "source": [
    "В этом задании мы рассмотрим различные аспекты построения линейной модели. Мы будем работать с одним из классических наборов данных в статистике, содержащим информацию о бриллиантах. Описание можно посмотреть [здесь](https://www.kaggle.com/shivam2503/diamonds)."
   ]
  },
  {
   "cell_type": "code",
   "execution_count": 2,
   "metadata": {},
   "outputs": [
    {
     "data": {
      "text/html": [
       "<div>\n",
       "<style scoped>\n",
       "    .dataframe tbody tr th:only-of-type {\n",
       "        vertical-align: middle;\n",
       "    }\n",
       "\n",
       "    .dataframe tbody tr th {\n",
       "        vertical-align: top;\n",
       "    }\n",
       "\n",
       "    .dataframe thead th {\n",
       "        text-align: right;\n",
       "    }\n",
       "</style>\n",
       "<table border=\"1\" class=\"dataframe\">\n",
       "  <thead>\n",
       "    <tr style=\"text-align: right;\">\n",
       "      <th></th>\n",
       "      <th>Unnamed: 0</th>\n",
       "      <th>carat</th>\n",
       "      <th>cut</th>\n",
       "      <th>color</th>\n",
       "      <th>clarity</th>\n",
       "      <th>depth</th>\n",
       "      <th>table</th>\n",
       "      <th>price</th>\n",
       "      <th>x</th>\n",
       "      <th>y</th>\n",
       "      <th>z</th>\n",
       "    </tr>\n",
       "  </thead>\n",
       "  <tbody>\n",
       "    <tr>\n",
       "      <th>0</th>\n",
       "      <td>1</td>\n",
       "      <td>0.23</td>\n",
       "      <td>Ideal</td>\n",
       "      <td>E</td>\n",
       "      <td>SI2</td>\n",
       "      <td>61.5</td>\n",
       "      <td>55.0</td>\n",
       "      <td>326</td>\n",
       "      <td>3.95</td>\n",
       "      <td>3.98</td>\n",
       "      <td>2.43</td>\n",
       "    </tr>\n",
       "    <tr>\n",
       "      <th>1</th>\n",
       "      <td>2</td>\n",
       "      <td>0.21</td>\n",
       "      <td>Premium</td>\n",
       "      <td>E</td>\n",
       "      <td>SI1</td>\n",
       "      <td>59.8</td>\n",
       "      <td>61.0</td>\n",
       "      <td>326</td>\n",
       "      <td>3.89</td>\n",
       "      <td>3.84</td>\n",
       "      <td>2.31</td>\n",
       "    </tr>\n",
       "    <tr>\n",
       "      <th>2</th>\n",
       "      <td>3</td>\n",
       "      <td>0.23</td>\n",
       "      <td>Good</td>\n",
       "      <td>E</td>\n",
       "      <td>VS1</td>\n",
       "      <td>56.9</td>\n",
       "      <td>65.0</td>\n",
       "      <td>327</td>\n",
       "      <td>4.05</td>\n",
       "      <td>4.07</td>\n",
       "      <td>2.31</td>\n",
       "    </tr>\n",
       "    <tr>\n",
       "      <th>3</th>\n",
       "      <td>4</td>\n",
       "      <td>0.29</td>\n",
       "      <td>Premium</td>\n",
       "      <td>I</td>\n",
       "      <td>VS2</td>\n",
       "      <td>62.4</td>\n",
       "      <td>58.0</td>\n",
       "      <td>334</td>\n",
       "      <td>4.20</td>\n",
       "      <td>4.23</td>\n",
       "      <td>2.63</td>\n",
       "    </tr>\n",
       "    <tr>\n",
       "      <th>4</th>\n",
       "      <td>5</td>\n",
       "      <td>0.31</td>\n",
       "      <td>Good</td>\n",
       "      <td>J</td>\n",
       "      <td>SI2</td>\n",
       "      <td>63.3</td>\n",
       "      <td>58.0</td>\n",
       "      <td>335</td>\n",
       "      <td>4.34</td>\n",
       "      <td>4.35</td>\n",
       "      <td>2.75</td>\n",
       "    </tr>\n",
       "  </tbody>\n",
       "</table>\n",
       "</div>"
      ],
      "text/plain": [
       "   Unnamed: 0  carat      cut color clarity  depth  table  price     x     y  \\\n",
       "0           1   0.23    Ideal     E     SI2   61.5   55.0    326  3.95  3.98   \n",
       "1           2   0.21  Premium     E     SI1   59.8   61.0    326  3.89  3.84   \n",
       "2           3   0.23     Good     E     VS1   56.9   65.0    327  4.05  4.07   \n",
       "3           4   0.29  Premium     I     VS2   62.4   58.0    334  4.20  4.23   \n",
       "4           5   0.31     Good     J     SI2   63.3   58.0    335  4.34  4.35   \n",
       "\n",
       "      z  \n",
       "0  2.43  \n",
       "1  2.31  \n",
       "2  2.31  \n",
       "3  2.63  \n",
       "4  2.75  "
      ]
     },
     "execution_count": 2,
     "metadata": {},
     "output_type": "execute_result"
    }
   ],
   "source": [
    "data = pd.read_csv('diamonds.csv')\n",
    "data.head(5)"
   ]
  },
  {
   "cell_type": "markdown",
   "metadata": {},
   "source": [
    "Мы будем решать задачу предсказания цены бриллианта `price` в зависимости от его характеристик."
   ]
  },
  {
   "cell_type": "markdown",
   "metadata": {},
   "source": [
    "## Построение модели"
   ]
  },
  {
   "cell_type": "markdown",
   "metadata": {},
   "source": [
    "**Задание 1 (1 балл)** Есть ли в наборе данных пропущенные значения? Если да, удалите их. "
   ]
  },
  {
   "cell_type": "code",
   "execution_count": 3,
   "metadata": {},
   "outputs": [
    {
     "data": {
      "text/plain": [
       "(53940, 11)"
      ]
     },
     "execution_count": 3,
     "metadata": {},
     "output_type": "execute_result"
    }
   ],
   "source": [
    "data.shape"
   ]
  },
  {
   "cell_type": "code",
   "execution_count": 4,
   "metadata": {},
   "outputs": [
    {
     "data": {
      "text/plain": [
       "Unnamed: 0    0\n",
       "carat         0\n",
       "cut           0\n",
       "color         0\n",
       "clarity       0\n",
       "depth         0\n",
       "table         0\n",
       "price         0\n",
       "x             0\n",
       "y             0\n",
       "z             0\n",
       "dtype: int64"
      ]
     },
     "execution_count": 4,
     "metadata": {},
     "output_type": "execute_result"
    }
   ],
   "source": [
    "# your code here\n",
    "data.isna().sum()"
   ]
  },
  {
   "cell_type": "markdown",
   "metadata": {},
   "source": [
    "<font color='blue'>\n",
    "Как видим в данных отсутсвуют null значения. Но зато есть нулевые значения признаков x,y,z, что можно трактовать как пропуски, так как драгоценный камень не может иметь нулевой объем. (наличие этих случаев можно видеть по результату выполнения ячейки ниже)\n",
    "\n",
    "\n",
    "(Обратить внимание на нули помогло исследование этого датасета опубликованное тут https://www.kaggle.com/code/bhuvanchennoju/s-s-experimets-fun-with-r2-99-21)\n",
    "\n",
    "</font>"
   ]
  },
  {
   "cell_type": "code",
   "execution_count": 5,
   "metadata": {},
   "outputs": [
    {
     "data": {
      "text/plain": [
       "Unnamed: 0     0\n",
       "carat          0\n",
       "cut            0\n",
       "color          0\n",
       "clarity        0\n",
       "depth          0\n",
       "table          0\n",
       "price          0\n",
       "x              8\n",
       "y              7\n",
       "z             20\n",
       "dtype: int64"
      ]
     },
     "execution_count": 5,
     "metadata": {},
     "output_type": "execute_result"
    }
   ],
   "source": [
    "temp_df = data.copy()\n",
    "temp_df = temp_df.replace(0, np.nan)\n",
    "temp_df.isna().sum()"
   ]
  },
  {
   "cell_type": "markdown",
   "metadata": {},
   "source": [
    "<font color='blue'>Удалим все такие строки из датасета.</font>"
   ]
  },
  {
   "cell_type": "code",
   "execution_count": 6,
   "metadata": {},
   "outputs": [],
   "source": [
    "data = data[(data['x'] != 0) | (data['y'] != 0) | (data['z'] != 0)]"
   ]
  },
  {
   "cell_type": "markdown",
   "metadata": {},
   "source": [
    "**Задача 2 (1 балл)** Есть ли в наборе данных бессмысленные столбцы (признаки, не несущие дополнительной информации)? Если да, то удалите их. Поясните свой выбор (напишите текстом обоснование)."
   ]
  },
  {
   "cell_type": "code",
   "execution_count": 7,
   "metadata": {},
   "outputs": [
    {
     "data": {
      "text/html": [
       "<div>\n",
       "<style scoped>\n",
       "    .dataframe tbody tr th:only-of-type {\n",
       "        vertical-align: middle;\n",
       "    }\n",
       "\n",
       "    .dataframe tbody tr th {\n",
       "        vertical-align: top;\n",
       "    }\n",
       "\n",
       "    .dataframe thead th {\n",
       "        text-align: right;\n",
       "    }\n",
       "</style>\n",
       "<table border=\"1\" class=\"dataframe\">\n",
       "  <thead>\n",
       "    <tr style=\"text-align: right;\">\n",
       "      <th></th>\n",
       "      <th>Unnamed: 0</th>\n",
       "      <th>carat</th>\n",
       "      <th>cut</th>\n",
       "      <th>color</th>\n",
       "      <th>clarity</th>\n",
       "      <th>depth</th>\n",
       "      <th>table</th>\n",
       "      <th>price</th>\n",
       "      <th>x</th>\n",
       "      <th>y</th>\n",
       "      <th>z</th>\n",
       "    </tr>\n",
       "  </thead>\n",
       "  <tbody>\n",
       "    <tr>\n",
       "      <th>0</th>\n",
       "      <td>1</td>\n",
       "      <td>0.23</td>\n",
       "      <td>Ideal</td>\n",
       "      <td>E</td>\n",
       "      <td>SI2</td>\n",
       "      <td>61.5</td>\n",
       "      <td>55.0</td>\n",
       "      <td>326</td>\n",
       "      <td>3.95</td>\n",
       "      <td>3.98</td>\n",
       "      <td>2.43</td>\n",
       "    </tr>\n",
       "    <tr>\n",
       "      <th>1</th>\n",
       "      <td>2</td>\n",
       "      <td>0.21</td>\n",
       "      <td>Premium</td>\n",
       "      <td>E</td>\n",
       "      <td>SI1</td>\n",
       "      <td>59.8</td>\n",
       "      <td>61.0</td>\n",
       "      <td>326</td>\n",
       "      <td>3.89</td>\n",
       "      <td>3.84</td>\n",
       "      <td>2.31</td>\n",
       "    </tr>\n",
       "    <tr>\n",
       "      <th>2</th>\n",
       "      <td>3</td>\n",
       "      <td>0.23</td>\n",
       "      <td>Good</td>\n",
       "      <td>E</td>\n",
       "      <td>VS1</td>\n",
       "      <td>56.9</td>\n",
       "      <td>65.0</td>\n",
       "      <td>327</td>\n",
       "      <td>4.05</td>\n",
       "      <td>4.07</td>\n",
       "      <td>2.31</td>\n",
       "    </tr>\n",
       "    <tr>\n",
       "      <th>3</th>\n",
       "      <td>4</td>\n",
       "      <td>0.29</td>\n",
       "      <td>Premium</td>\n",
       "      <td>I</td>\n",
       "      <td>VS2</td>\n",
       "      <td>62.4</td>\n",
       "      <td>58.0</td>\n",
       "      <td>334</td>\n",
       "      <td>4.20</td>\n",
       "      <td>4.23</td>\n",
       "      <td>2.63</td>\n",
       "    </tr>\n",
       "    <tr>\n",
       "      <th>4</th>\n",
       "      <td>5</td>\n",
       "      <td>0.31</td>\n",
       "      <td>Good</td>\n",
       "      <td>J</td>\n",
       "      <td>SI2</td>\n",
       "      <td>63.3</td>\n",
       "      <td>58.0</td>\n",
       "      <td>335</td>\n",
       "      <td>4.34</td>\n",
       "      <td>4.35</td>\n",
       "      <td>2.75</td>\n",
       "    </tr>\n",
       "    <tr>\n",
       "      <th>...</th>\n",
       "      <td>...</td>\n",
       "      <td>...</td>\n",
       "      <td>...</td>\n",
       "      <td>...</td>\n",
       "      <td>...</td>\n",
       "      <td>...</td>\n",
       "      <td>...</td>\n",
       "      <td>...</td>\n",
       "      <td>...</td>\n",
       "      <td>...</td>\n",
       "      <td>...</td>\n",
       "    </tr>\n",
       "    <tr>\n",
       "      <th>53935</th>\n",
       "      <td>53936</td>\n",
       "      <td>0.72</td>\n",
       "      <td>Ideal</td>\n",
       "      <td>D</td>\n",
       "      <td>SI1</td>\n",
       "      <td>60.8</td>\n",
       "      <td>57.0</td>\n",
       "      <td>2757</td>\n",
       "      <td>5.75</td>\n",
       "      <td>5.76</td>\n",
       "      <td>3.50</td>\n",
       "    </tr>\n",
       "    <tr>\n",
       "      <th>53936</th>\n",
       "      <td>53937</td>\n",
       "      <td>0.72</td>\n",
       "      <td>Good</td>\n",
       "      <td>D</td>\n",
       "      <td>SI1</td>\n",
       "      <td>63.1</td>\n",
       "      <td>55.0</td>\n",
       "      <td>2757</td>\n",
       "      <td>5.69</td>\n",
       "      <td>5.75</td>\n",
       "      <td>3.61</td>\n",
       "    </tr>\n",
       "    <tr>\n",
       "      <th>53937</th>\n",
       "      <td>53938</td>\n",
       "      <td>0.70</td>\n",
       "      <td>Very Good</td>\n",
       "      <td>D</td>\n",
       "      <td>SI1</td>\n",
       "      <td>62.8</td>\n",
       "      <td>60.0</td>\n",
       "      <td>2757</td>\n",
       "      <td>5.66</td>\n",
       "      <td>5.68</td>\n",
       "      <td>3.56</td>\n",
       "    </tr>\n",
       "    <tr>\n",
       "      <th>53938</th>\n",
       "      <td>53939</td>\n",
       "      <td>0.86</td>\n",
       "      <td>Premium</td>\n",
       "      <td>H</td>\n",
       "      <td>SI2</td>\n",
       "      <td>61.0</td>\n",
       "      <td>58.0</td>\n",
       "      <td>2757</td>\n",
       "      <td>6.15</td>\n",
       "      <td>6.12</td>\n",
       "      <td>3.74</td>\n",
       "    </tr>\n",
       "    <tr>\n",
       "      <th>53939</th>\n",
       "      <td>53940</td>\n",
       "      <td>0.75</td>\n",
       "      <td>Ideal</td>\n",
       "      <td>D</td>\n",
       "      <td>SI2</td>\n",
       "      <td>62.2</td>\n",
       "      <td>55.0</td>\n",
       "      <td>2757</td>\n",
       "      <td>5.83</td>\n",
       "      <td>5.87</td>\n",
       "      <td>3.64</td>\n",
       "    </tr>\n",
       "  </tbody>\n",
       "</table>\n",
       "<p>53933 rows × 11 columns</p>\n",
       "</div>"
      ],
      "text/plain": [
       "       Unnamed: 0  carat        cut color clarity  depth  table  price     x  \\\n",
       "0               1   0.23      Ideal     E     SI2   61.5   55.0    326  3.95   \n",
       "1               2   0.21    Premium     E     SI1   59.8   61.0    326  3.89   \n",
       "2               3   0.23       Good     E     VS1   56.9   65.0    327  4.05   \n",
       "3               4   0.29    Premium     I     VS2   62.4   58.0    334  4.20   \n",
       "4               5   0.31       Good     J     SI2   63.3   58.0    335  4.34   \n",
       "...           ...    ...        ...   ...     ...    ...    ...    ...   ...   \n",
       "53935       53936   0.72      Ideal     D     SI1   60.8   57.0   2757  5.75   \n",
       "53936       53937   0.72       Good     D     SI1   63.1   55.0   2757  5.69   \n",
       "53937       53938   0.70  Very Good     D     SI1   62.8   60.0   2757  5.66   \n",
       "53938       53939   0.86    Premium     H     SI2   61.0   58.0   2757  6.15   \n",
       "53939       53940   0.75      Ideal     D     SI2   62.2   55.0   2757  5.83   \n",
       "\n",
       "          y     z  \n",
       "0      3.98  2.43  \n",
       "1      3.84  2.31  \n",
       "2      4.07  2.31  \n",
       "3      4.23  2.63  \n",
       "4      4.35  2.75  \n",
       "...     ...   ...  \n",
       "53935  5.76  3.50  \n",
       "53936  5.75  3.61  \n",
       "53937  5.68  3.56  \n",
       "53938  6.12  3.74  \n",
       "53939  5.87  3.64  \n",
       "\n",
       "[53933 rows x 11 columns]"
      ]
     },
     "execution_count": 7,
     "metadata": {},
     "output_type": "execute_result"
    }
   ],
   "source": [
    "# your code here\n",
    "data"
   ]
  },
  {
   "cell_type": "markdown",
   "metadata": {},
   "source": [
    "<font color='blue'>В колонке 'Unnamed: 0' дублируется индекс (вернее значение индекс+1). Эту колонку разумно удалить - она не несет никакой полезной инфорции. Это просто порядковый номер строки в датасете.</font>"
   ]
  },
  {
   "cell_type": "code",
   "execution_count": 8,
   "metadata": {
    "scrolled": false
   },
   "outputs": [
    {
     "data": {
      "text/plain": [
       "Index(['Unnamed: 0', 'carat', 'cut', 'color', 'clarity', 'depth', 'table',\n",
       "       'price', 'x', 'y', 'z'],\n",
       "      dtype='object')"
      ]
     },
     "execution_count": 8,
     "metadata": {},
     "output_type": "execute_result"
    }
   ],
   "source": [
    "data.columns"
   ]
  },
  {
   "cell_type": "code",
   "execution_count": 9,
   "metadata": {},
   "outputs": [],
   "source": [
    "data = data.drop(columns=['Unnamed: 0'])"
   ]
  },
  {
   "cell_type": "markdown",
   "metadata": {},
   "source": [
    "<font color='blue'>Теперь когда удалена колонка с дубликатом индекса разумно удалить из датасета все дубликаты строк (если они есть). А они таки есть! (см. результат выполнения ячейки ниже)</font>"
   ]
  },
  {
   "cell_type": "code",
   "execution_count": 10,
   "metadata": {},
   "outputs": [
    {
     "data": {
      "text/html": [
       "<div>\n",
       "<style scoped>\n",
       "    .dataframe tbody tr th:only-of-type {\n",
       "        vertical-align: middle;\n",
       "    }\n",
       "\n",
       "    .dataframe tbody tr th {\n",
       "        vertical-align: top;\n",
       "    }\n",
       "\n",
       "    .dataframe thead th {\n",
       "        text-align: right;\n",
       "    }\n",
       "</style>\n",
       "<table border=\"1\" class=\"dataframe\">\n",
       "  <thead>\n",
       "    <tr style=\"text-align: right;\">\n",
       "      <th></th>\n",
       "      <th>carat</th>\n",
       "      <th>cut</th>\n",
       "      <th>color</th>\n",
       "      <th>clarity</th>\n",
       "      <th>depth</th>\n",
       "      <th>table</th>\n",
       "      <th>price</th>\n",
       "      <th>x</th>\n",
       "      <th>y</th>\n",
       "      <th>z</th>\n",
       "    </tr>\n",
       "  </thead>\n",
       "  <tbody>\n",
       "    <tr>\n",
       "      <th>1005</th>\n",
       "      <td>0.79</td>\n",
       "      <td>Ideal</td>\n",
       "      <td>G</td>\n",
       "      <td>SI1</td>\n",
       "      <td>62.3</td>\n",
       "      <td>57.0</td>\n",
       "      <td>2898</td>\n",
       "      <td>5.90</td>\n",
       "      <td>5.85</td>\n",
       "      <td>3.66</td>\n",
       "    </tr>\n",
       "    <tr>\n",
       "      <th>1006</th>\n",
       "      <td>0.79</td>\n",
       "      <td>Ideal</td>\n",
       "      <td>G</td>\n",
       "      <td>SI1</td>\n",
       "      <td>62.3</td>\n",
       "      <td>57.0</td>\n",
       "      <td>2898</td>\n",
       "      <td>5.90</td>\n",
       "      <td>5.85</td>\n",
       "      <td>3.66</td>\n",
       "    </tr>\n",
       "    <tr>\n",
       "      <th>1007</th>\n",
       "      <td>0.79</td>\n",
       "      <td>Ideal</td>\n",
       "      <td>G</td>\n",
       "      <td>SI1</td>\n",
       "      <td>62.3</td>\n",
       "      <td>57.0</td>\n",
       "      <td>2898</td>\n",
       "      <td>5.90</td>\n",
       "      <td>5.85</td>\n",
       "      <td>3.66</td>\n",
       "    </tr>\n",
       "    <tr>\n",
       "      <th>1008</th>\n",
       "      <td>0.79</td>\n",
       "      <td>Ideal</td>\n",
       "      <td>G</td>\n",
       "      <td>SI1</td>\n",
       "      <td>62.3</td>\n",
       "      <td>57.0</td>\n",
       "      <td>2898</td>\n",
       "      <td>5.90</td>\n",
       "      <td>5.85</td>\n",
       "      <td>3.66</td>\n",
       "    </tr>\n",
       "    <tr>\n",
       "      <th>2025</th>\n",
       "      <td>1.52</td>\n",
       "      <td>Good</td>\n",
       "      <td>E</td>\n",
       "      <td>I1</td>\n",
       "      <td>57.3</td>\n",
       "      <td>58.0</td>\n",
       "      <td>3105</td>\n",
       "      <td>7.53</td>\n",
       "      <td>7.42</td>\n",
       "      <td>4.28</td>\n",
       "    </tr>\n",
       "    <tr>\n",
       "      <th>...</th>\n",
       "      <td>...</td>\n",
       "      <td>...</td>\n",
       "      <td>...</td>\n",
       "      <td>...</td>\n",
       "      <td>...</td>\n",
       "      <td>...</td>\n",
       "      <td>...</td>\n",
       "      <td>...</td>\n",
       "      <td>...</td>\n",
       "      <td>...</td>\n",
       "    </tr>\n",
       "    <tr>\n",
       "      <th>47296</th>\n",
       "      <td>0.30</td>\n",
       "      <td>Good</td>\n",
       "      <td>J</td>\n",
       "      <td>VS1</td>\n",
       "      <td>63.4</td>\n",
       "      <td>57.0</td>\n",
       "      <td>394</td>\n",
       "      <td>4.23</td>\n",
       "      <td>4.26</td>\n",
       "      <td>2.69</td>\n",
       "    </tr>\n",
       "    <tr>\n",
       "      <th>47969</th>\n",
       "      <td>0.52</td>\n",
       "      <td>Ideal</td>\n",
       "      <td>D</td>\n",
       "      <td>VS2</td>\n",
       "      <td>61.8</td>\n",
       "      <td>55.0</td>\n",
       "      <td>1919</td>\n",
       "      <td>5.19</td>\n",
       "      <td>5.16</td>\n",
       "      <td>3.20</td>\n",
       "    </tr>\n",
       "    <tr>\n",
       "      <th>49326</th>\n",
       "      <td>0.51</td>\n",
       "      <td>Ideal</td>\n",
       "      <td>F</td>\n",
       "      <td>VVS2</td>\n",
       "      <td>61.2</td>\n",
       "      <td>56.0</td>\n",
       "      <td>2093</td>\n",
       "      <td>5.17</td>\n",
       "      <td>5.19</td>\n",
       "      <td>3.17</td>\n",
       "    </tr>\n",
       "    <tr>\n",
       "      <th>50079</th>\n",
       "      <td>0.51</td>\n",
       "      <td>Ideal</td>\n",
       "      <td>F</td>\n",
       "      <td>VVS2</td>\n",
       "      <td>61.2</td>\n",
       "      <td>56.0</td>\n",
       "      <td>2203</td>\n",
       "      <td>5.19</td>\n",
       "      <td>5.17</td>\n",
       "      <td>3.17</td>\n",
       "    </tr>\n",
       "    <tr>\n",
       "      <th>52861</th>\n",
       "      <td>0.50</td>\n",
       "      <td>Fair</td>\n",
       "      <td>E</td>\n",
       "      <td>VS2</td>\n",
       "      <td>79.0</td>\n",
       "      <td>73.0</td>\n",
       "      <td>2579</td>\n",
       "      <td>5.21</td>\n",
       "      <td>5.18</td>\n",
       "      <td>4.09</td>\n",
       "    </tr>\n",
       "  </tbody>\n",
       "</table>\n",
       "<p>145 rows × 10 columns</p>\n",
       "</div>"
      ],
      "text/plain": [
       "       carat    cut color clarity  depth  table  price     x     y     z\n",
       "1005    0.79  Ideal     G     SI1   62.3   57.0   2898  5.90  5.85  3.66\n",
       "1006    0.79  Ideal     G     SI1   62.3   57.0   2898  5.90  5.85  3.66\n",
       "1007    0.79  Ideal     G     SI1   62.3   57.0   2898  5.90  5.85  3.66\n",
       "1008    0.79  Ideal     G     SI1   62.3   57.0   2898  5.90  5.85  3.66\n",
       "2025    1.52   Good     E      I1   57.3   58.0   3105  7.53  7.42  4.28\n",
       "...      ...    ...   ...     ...    ...    ...    ...   ...   ...   ...\n",
       "47296   0.30   Good     J     VS1   63.4   57.0    394  4.23  4.26  2.69\n",
       "47969   0.52  Ideal     D     VS2   61.8   55.0   1919  5.19  5.16  3.20\n",
       "49326   0.51  Ideal     F    VVS2   61.2   56.0   2093  5.17  5.19  3.17\n",
       "50079   0.51  Ideal     F    VVS2   61.2   56.0   2203  5.19  5.17  3.17\n",
       "52861   0.50   Fair     E     VS2   79.0   73.0   2579  5.21  5.18  4.09\n",
       "\n",
       "[145 rows x 10 columns]"
      ]
     },
     "execution_count": 10,
     "metadata": {},
     "output_type": "execute_result"
    }
   ],
   "source": [
    "data[data.duplicated()]"
   ]
  },
  {
   "cell_type": "markdown",
   "metadata": {},
   "source": [
    "<font color='blue'>Удаляем дубликаты и пересоздаем индекс. (Опять же эта обработка навеяна работой https://www.kaggle.com/code/bhuvanchennoju/s-s-experimets-fun-with-r2-99-21)</font>"
   ]
  },
  {
   "cell_type": "code",
   "execution_count": 11,
   "metadata": {},
   "outputs": [],
   "source": [
    "data = data.drop_duplicates()\n",
    "data = data.reset_index(drop = True)"
   ]
  },
  {
   "cell_type": "code",
   "execution_count": 12,
   "metadata": {
    "scrolled": false
   },
   "outputs": [
    {
     "data": {
      "text/html": [
       "<div>\n",
       "<style scoped>\n",
       "    .dataframe tbody tr th:only-of-type {\n",
       "        vertical-align: middle;\n",
       "    }\n",
       "\n",
       "    .dataframe tbody tr th {\n",
       "        vertical-align: top;\n",
       "    }\n",
       "\n",
       "    .dataframe thead th {\n",
       "        text-align: right;\n",
       "    }\n",
       "</style>\n",
       "<table border=\"1\" class=\"dataframe\">\n",
       "  <thead>\n",
       "    <tr style=\"text-align: right;\">\n",
       "      <th></th>\n",
       "      <th>carat</th>\n",
       "      <th>cut</th>\n",
       "      <th>color</th>\n",
       "      <th>clarity</th>\n",
       "      <th>depth</th>\n",
       "      <th>table</th>\n",
       "      <th>price</th>\n",
       "      <th>x</th>\n",
       "      <th>y</th>\n",
       "      <th>z</th>\n",
       "    </tr>\n",
       "  </thead>\n",
       "  <tbody>\n",
       "    <tr>\n",
       "      <th>0</th>\n",
       "      <td>0.23</td>\n",
       "      <td>Ideal</td>\n",
       "      <td>E</td>\n",
       "      <td>SI2</td>\n",
       "      <td>61.5</td>\n",
       "      <td>55.0</td>\n",
       "      <td>326</td>\n",
       "      <td>3.95</td>\n",
       "      <td>3.98</td>\n",
       "      <td>2.43</td>\n",
       "    </tr>\n",
       "    <tr>\n",
       "      <th>1</th>\n",
       "      <td>0.21</td>\n",
       "      <td>Premium</td>\n",
       "      <td>E</td>\n",
       "      <td>SI1</td>\n",
       "      <td>59.8</td>\n",
       "      <td>61.0</td>\n",
       "      <td>326</td>\n",
       "      <td>3.89</td>\n",
       "      <td>3.84</td>\n",
       "      <td>2.31</td>\n",
       "    </tr>\n",
       "    <tr>\n",
       "      <th>2</th>\n",
       "      <td>0.23</td>\n",
       "      <td>Good</td>\n",
       "      <td>E</td>\n",
       "      <td>VS1</td>\n",
       "      <td>56.9</td>\n",
       "      <td>65.0</td>\n",
       "      <td>327</td>\n",
       "      <td>4.05</td>\n",
       "      <td>4.07</td>\n",
       "      <td>2.31</td>\n",
       "    </tr>\n",
       "    <tr>\n",
       "      <th>3</th>\n",
       "      <td>0.29</td>\n",
       "      <td>Premium</td>\n",
       "      <td>I</td>\n",
       "      <td>VS2</td>\n",
       "      <td>62.4</td>\n",
       "      <td>58.0</td>\n",
       "      <td>334</td>\n",
       "      <td>4.20</td>\n",
       "      <td>4.23</td>\n",
       "      <td>2.63</td>\n",
       "    </tr>\n",
       "    <tr>\n",
       "      <th>4</th>\n",
       "      <td>0.31</td>\n",
       "      <td>Good</td>\n",
       "      <td>J</td>\n",
       "      <td>SI2</td>\n",
       "      <td>63.3</td>\n",
       "      <td>58.0</td>\n",
       "      <td>335</td>\n",
       "      <td>4.34</td>\n",
       "      <td>4.35</td>\n",
       "      <td>2.75</td>\n",
       "    </tr>\n",
       "    <tr>\n",
       "      <th>...</th>\n",
       "      <td>...</td>\n",
       "      <td>...</td>\n",
       "      <td>...</td>\n",
       "      <td>...</td>\n",
       "      <td>...</td>\n",
       "      <td>...</td>\n",
       "      <td>...</td>\n",
       "      <td>...</td>\n",
       "      <td>...</td>\n",
       "      <td>...</td>\n",
       "    </tr>\n",
       "    <tr>\n",
       "      <th>53783</th>\n",
       "      <td>0.72</td>\n",
       "      <td>Ideal</td>\n",
       "      <td>D</td>\n",
       "      <td>SI1</td>\n",
       "      <td>60.8</td>\n",
       "      <td>57.0</td>\n",
       "      <td>2757</td>\n",
       "      <td>5.75</td>\n",
       "      <td>5.76</td>\n",
       "      <td>3.50</td>\n",
       "    </tr>\n",
       "    <tr>\n",
       "      <th>53784</th>\n",
       "      <td>0.72</td>\n",
       "      <td>Good</td>\n",
       "      <td>D</td>\n",
       "      <td>SI1</td>\n",
       "      <td>63.1</td>\n",
       "      <td>55.0</td>\n",
       "      <td>2757</td>\n",
       "      <td>5.69</td>\n",
       "      <td>5.75</td>\n",
       "      <td>3.61</td>\n",
       "    </tr>\n",
       "    <tr>\n",
       "      <th>53785</th>\n",
       "      <td>0.70</td>\n",
       "      <td>Very Good</td>\n",
       "      <td>D</td>\n",
       "      <td>SI1</td>\n",
       "      <td>62.8</td>\n",
       "      <td>60.0</td>\n",
       "      <td>2757</td>\n",
       "      <td>5.66</td>\n",
       "      <td>5.68</td>\n",
       "      <td>3.56</td>\n",
       "    </tr>\n",
       "    <tr>\n",
       "      <th>53786</th>\n",
       "      <td>0.86</td>\n",
       "      <td>Premium</td>\n",
       "      <td>H</td>\n",
       "      <td>SI2</td>\n",
       "      <td>61.0</td>\n",
       "      <td>58.0</td>\n",
       "      <td>2757</td>\n",
       "      <td>6.15</td>\n",
       "      <td>6.12</td>\n",
       "      <td>3.74</td>\n",
       "    </tr>\n",
       "    <tr>\n",
       "      <th>53787</th>\n",
       "      <td>0.75</td>\n",
       "      <td>Ideal</td>\n",
       "      <td>D</td>\n",
       "      <td>SI2</td>\n",
       "      <td>62.2</td>\n",
       "      <td>55.0</td>\n",
       "      <td>2757</td>\n",
       "      <td>5.83</td>\n",
       "      <td>5.87</td>\n",
       "      <td>3.64</td>\n",
       "    </tr>\n",
       "  </tbody>\n",
       "</table>\n",
       "<p>53788 rows × 10 columns</p>\n",
       "</div>"
      ],
      "text/plain": [
       "       carat        cut color clarity  depth  table  price     x     y     z\n",
       "0       0.23      Ideal     E     SI2   61.5   55.0    326  3.95  3.98  2.43\n",
       "1       0.21    Premium     E     SI1   59.8   61.0    326  3.89  3.84  2.31\n",
       "2       0.23       Good     E     VS1   56.9   65.0    327  4.05  4.07  2.31\n",
       "3       0.29    Premium     I     VS2   62.4   58.0    334  4.20  4.23  2.63\n",
       "4       0.31       Good     J     SI2   63.3   58.0    335  4.34  4.35  2.75\n",
       "...      ...        ...   ...     ...    ...    ...    ...   ...   ...   ...\n",
       "53783   0.72      Ideal     D     SI1   60.8   57.0   2757  5.75  5.76  3.50\n",
       "53784   0.72       Good     D     SI1   63.1   55.0   2757  5.69  5.75  3.61\n",
       "53785   0.70  Very Good     D     SI1   62.8   60.0   2757  5.66  5.68  3.56\n",
       "53786   0.86    Premium     H     SI2   61.0   58.0   2757  6.15  6.12  3.74\n",
       "53787   0.75      Ideal     D     SI2   62.2   55.0   2757  5.83  5.87  3.64\n",
       "\n",
       "[53788 rows x 10 columns]"
      ]
     },
     "execution_count": 12,
     "metadata": {},
     "output_type": "execute_result"
    }
   ],
   "source": [
    "data"
   ]
  },
  {
   "cell_type": "markdown",
   "metadata": {},
   "source": [
    "**Задание 3 (1 балл)** Линейная регрессия основана на предположении о линейной связи между признаками и целевой переменной, а потому перед выбором переменных для включения в модель имеет смысл проверить, насколько эта связь выполняется. Для следующих пунктов нам также потребуются корреляции между признаками. Выведите матрицу корреляций между всеми вещественными признаками и целевой переменной.\n",
    "\n",
    "Какие вещественные признаки коррелируют с целевой переменной больше всего?"
   ]
  },
  {
   "cell_type": "code",
   "execution_count": 13,
   "metadata": {},
   "outputs": [
    {
     "data": {
      "text/html": [
       "<div>\n",
       "<style scoped>\n",
       "    .dataframe tbody tr th:only-of-type {\n",
       "        vertical-align: middle;\n",
       "    }\n",
       "\n",
       "    .dataframe tbody tr th {\n",
       "        vertical-align: top;\n",
       "    }\n",
       "\n",
       "    .dataframe thead th {\n",
       "        text-align: right;\n",
       "    }\n",
       "</style>\n",
       "<table border=\"1\" class=\"dataframe\">\n",
       "  <thead>\n",
       "    <tr style=\"text-align: right;\">\n",
       "      <th></th>\n",
       "      <th>carat</th>\n",
       "      <th>depth</th>\n",
       "      <th>table</th>\n",
       "      <th>price</th>\n",
       "      <th>x</th>\n",
       "      <th>y</th>\n",
       "      <th>z</th>\n",
       "    </tr>\n",
       "  </thead>\n",
       "  <tbody>\n",
       "    <tr>\n",
       "      <th>carat</th>\n",
       "      <td>1.000000</td>\n",
       "      <td>0.027850</td>\n",
       "      <td>0.181117</td>\n",
       "      <td>0.921566</td>\n",
       "      <td>0.977546</td>\n",
       "      <td>0.953979</td>\n",
       "      <td>0.955611</td>\n",
       "    </tr>\n",
       "    <tr>\n",
       "      <th>depth</th>\n",
       "      <td>0.027850</td>\n",
       "      <td>1.000000</td>\n",
       "      <td>-0.297543</td>\n",
       "      <td>-0.011085</td>\n",
       "      <td>-0.025288</td>\n",
       "      <td>-0.029335</td>\n",
       "      <td>0.095001</td>\n",
       "    </tr>\n",
       "    <tr>\n",
       "      <th>table</th>\n",
       "      <td>0.181117</td>\n",
       "      <td>-0.297543</td>\n",
       "      <td>1.000000</td>\n",
       "      <td>0.126582</td>\n",
       "      <td>0.195498</td>\n",
       "      <td>0.183839</td>\n",
       "      <td>0.150823</td>\n",
       "    </tr>\n",
       "    <tr>\n",
       "      <th>price</th>\n",
       "      <td>0.921566</td>\n",
       "      <td>-0.011085</td>\n",
       "      <td>0.126582</td>\n",
       "      <td>1.000000</td>\n",
       "      <td>0.886891</td>\n",
       "      <td>0.867691</td>\n",
       "      <td>0.863492</td>\n",
       "    </tr>\n",
       "    <tr>\n",
       "      <th>x</th>\n",
       "      <td>0.977546</td>\n",
       "      <td>-0.025288</td>\n",
       "      <td>0.195498</td>\n",
       "      <td>0.886891</td>\n",
       "      <td>1.000000</td>\n",
       "      <td>0.974520</td>\n",
       "      <td>0.970603</td>\n",
       "    </tr>\n",
       "    <tr>\n",
       "      <th>y</th>\n",
       "      <td>0.953979</td>\n",
       "      <td>-0.029335</td>\n",
       "      <td>0.183839</td>\n",
       "      <td>0.867691</td>\n",
       "      <td>0.974520</td>\n",
       "      <td>1.000000</td>\n",
       "      <td>0.951708</td>\n",
       "    </tr>\n",
       "    <tr>\n",
       "      <th>z</th>\n",
       "      <td>0.955611</td>\n",
       "      <td>0.095001</td>\n",
       "      <td>0.150823</td>\n",
       "      <td>0.863492</td>\n",
       "      <td>0.970603</td>\n",
       "      <td>0.951708</td>\n",
       "      <td>1.000000</td>\n",
       "    </tr>\n",
       "  </tbody>\n",
       "</table>\n",
       "</div>"
      ],
      "text/plain": [
       "          carat     depth     table     price         x         y         z\n",
       "carat  1.000000  0.027850  0.181117  0.921566  0.977546  0.953979  0.955611\n",
       "depth  0.027850  1.000000 -0.297543 -0.011085 -0.025288 -0.029335  0.095001\n",
       "table  0.181117 -0.297543  1.000000  0.126582  0.195498  0.183839  0.150823\n",
       "price  0.921566 -0.011085  0.126582  1.000000  0.886891  0.867691  0.863492\n",
       "x      0.977546 -0.025288  0.195498  0.886891  1.000000  0.974520  0.970603\n",
       "y      0.953979 -0.029335  0.183839  0.867691  0.974520  1.000000  0.951708\n",
       "z      0.955611  0.095001  0.150823  0.863492  0.970603  0.951708  1.000000"
      ]
     },
     "execution_count": 13,
     "metadata": {},
     "output_type": "execute_result"
    }
   ],
   "source": [
    "# your code here\n",
    "data.corr(numeric_only=True)"
   ]
  },
  {
   "cell_type": "markdown",
   "metadata": {},
   "source": [
    "<font color='blue'>Наиболее сильные корреляции с таргетом (price) имеют признаки carat, x, y, z.</font>"
   ]
  },
  {
   "cell_type": "markdown",
   "metadata": {},
   "source": [
    "**Задание 4 (1 балл)** Так как линейная модель складывает значения признаков с некоторыми весами, нам нужно аккуратно обработать категориальные признаки. Закодируйте категориальные переменные при помощи OneHot-кодирования (pd.get_dummies). Не забудьте поставить значение параметра drop_first равным True."
   ]
  },
  {
   "cell_type": "code",
   "execution_count": 14,
   "metadata": {},
   "outputs": [
    {
     "data": {
      "text/plain": [
       "array(['Ideal', 'Premium', 'Good', 'Very Good', 'Fair'], dtype=object)"
      ]
     },
     "execution_count": 14,
     "metadata": {},
     "output_type": "execute_result"
    }
   ],
   "source": [
    "data.cut.unique()"
   ]
  },
  {
   "cell_type": "code",
   "execution_count": 15,
   "metadata": {},
   "outputs": [
    {
     "data": {
      "text/plain": [
       "array(['E', 'I', 'J', 'H', 'F', 'G', 'D'], dtype=object)"
      ]
     },
     "execution_count": 15,
     "metadata": {},
     "output_type": "execute_result"
    }
   ],
   "source": [
    "data.color.unique()"
   ]
  },
  {
   "cell_type": "code",
   "execution_count": 16,
   "metadata": {},
   "outputs": [
    {
     "data": {
      "text/plain": [
       "array(['SI2', 'SI1', 'VS1', 'VS2', 'VVS2', 'VVS1', 'I1', 'IF'],\n",
       "      dtype=object)"
      ]
     },
     "execution_count": 16,
     "metadata": {},
     "output_type": "execute_result"
    }
   ],
   "source": [
    "data.clarity.unique()"
   ]
  },
  {
   "cell_type": "code",
   "execution_count": 17,
   "metadata": {},
   "outputs": [],
   "source": [
    "# your code here\n",
    "data=pd.get_dummies(data, columns=['cut', 'color', 'clarity'], drop_first=True)"
   ]
  },
  {
   "cell_type": "markdown",
   "metadata": {},
   "source": [
    "**Задание 5 (1 балл)** \n",
    "Создайте матрицу X, содержащую все признаки, и не содержащую целевую переменную price. Также создайте вектор y, содержащий целевую переменную price."
   ]
  },
  {
   "cell_type": "code",
   "execution_count": 18,
   "metadata": {},
   "outputs": [],
   "source": [
    "# your code here\n",
    "X = data.drop(columns=['price'])\n",
    "y = data['price']"
   ]
  },
  {
   "cell_type": "markdown",
   "metadata": {},
   "source": [
    "**Задание 5 (1 балл)** \n",
    "Перемешайте данные! \n",
    "\n",
    "Разделите выборку на тренировочную и тестовую. Долю тестовой выборки укажите равной 0.3."
   ]
  },
  {
   "cell_type": "code",
   "execution_count": 19,
   "metadata": {},
   "outputs": [],
   "source": [
    "from sklearn.model_selection import train_test_split\n",
    "seed = 7456\n",
    "Xtrain, Xtest, ytrain, ytest =  train_test_split(X, y, test_size=0.3, random_state=seed)"
   ]
  },
  {
   "cell_type": "markdown",
   "metadata": {},
   "source": [
    "**Задание 6 (1 балл)** Зачастую при использовании линейных моделей вещественные признаки масштабируются.  В этой задаче масштабируйте вещественные признаки тренировочной и тестовой выборок при помощи модуля `StandardScaler`.\n",
    "\n",
    "После применения масштабирования матрица перестает быть объектом Pandas Dataframe - решите эту проблему."
   ]
  },
  {
   "cell_type": "code",
   "execution_count": 20,
   "metadata": {},
   "outputs": [],
   "source": [
    "numeric_features = ['carat', 'depth', 'table', 'x', 'y', 'z']\n",
    "onehot_features = ['cut_Good', 'cut_Ideal',\n",
    "       'cut_Premium', 'cut_Very Good', 'color_E', 'color_F', 'color_G',\n",
    "       'color_H', 'color_I', 'color_J', 'clarity_IF', 'clarity_SI1',\n",
    "       'clarity_SI2', 'clarity_VS1', 'clarity_VS2', 'clarity_VVS1',\n",
    "       'clarity_VVS2']"
   ]
  },
  {
   "cell_type": "code",
   "execution_count": 21,
   "metadata": {},
   "outputs": [],
   "source": [
    "from sklearn.preprocessing import StandardScaler\n",
    "\n",
    "# your code here\n",
    "def train_test_scale(Xtrain, Xtest, numeric_features, onehot_features, scaler):\n",
    "\n",
    "    Xtrain_scaled = scaler.fit_transform(Xtrain[numeric_features])\n",
    "    Xtest_scaled = scaler.transform(Xtest[numeric_features])\n",
    "\n",
    "    Xtrain_scaled = pd.DataFrame(Xtrain_scaled)\n",
    "    Xtest_scaled = pd.DataFrame(Xtest_scaled)\n",
    "\n",
    "    Xtrain_scaled.columns = numeric_features\n",
    "    Xtest_scaled.columns = numeric_features\n",
    "\n",
    "    Xtrain_scaled = pd.concat([Xtrain_scaled, Xtrain[onehot_features].reset_index()], axis=1)\n",
    "    Xtest_scaled = pd.concat([Xtest_scaled, Xtest[onehot_features].reset_index()], axis=1)\n",
    "\n",
    "    Xtrain_scaled = Xtrain_scaled.drop(columns=['index'])\n",
    "    Xtest_scaled = Xtest_scaled.drop(columns=['index'])\n",
    "    \n",
    "    return Xtrain_scaled, Xtest_scaled\n",
    "\n",
    "Xtrain_scaled, Xtest_scaled = train_test_scale(Xtrain, Xtest, numeric_features, onehot_features, StandardScaler())"
   ]
  },
  {
   "cell_type": "markdown",
   "metadata": {},
   "source": [
    "**Задание 7 (1 балл)** Обучите линейную регрессию на тренировочной выборке. Выведите r2-score на тренировочной и тестовой выборках."
   ]
  },
  {
   "cell_type": "markdown",
   "metadata": {},
   "source": [
    "<font color='blue'>Помимо прочего заведем список experiments, куда будем сохранять результаты экспериментов, чтобы затем сравнить и сделать выводы.</font>"
   ]
  },
  {
   "cell_type": "code",
   "execution_count": 22,
   "metadata": {},
   "outputs": [
    {
     "name": "stdout",
     "output_type": "stream",
     "text": [
      "Train R2: 0.9201\n",
      "Test R2: 0.9202\n"
     ]
    }
   ],
   "source": [
    "from sklearn.linear_model import LinearRegression\n",
    "\n",
    "experiments = list()\n",
    "\n",
    "# your code here\n",
    "def train_model(x_train, x_test, y_train, y_test, model, verbose=True):\n",
    "    model.fit(x_train, y_train)\n",
    "    train_r2 = model.score(x_train, y_train)\n",
    "    test_r2 = model.score(x_test, y_test)\n",
    "    \n",
    "    if verbose:\n",
    "        print(f'Train R2: {train_r2:0.4f}')\n",
    "        print(f'Test R2: {test_r2:0.4f}')    \n",
    "    \n",
    "    return model, train_r2, test_r2\n",
    "\n",
    "model, train_r2, test_r2  = train_model(Xtrain_scaled, Xtest_scaled, ytrain, ytest, LinearRegression())\n",
    "\n",
    "experiments.append(['scaled', numeric_features, train_r2, test_r2])"
   ]
  },
  {
   "cell_type": "markdown",
   "metadata": {},
   "source": [
    "**Задание 8 (1 балл)** Выведите на экран веса, которые линейная регрессия присвоила признакам. Назовите вещественные переменные, оценки коэффициентов которых по модулю на порядок превышают оценки прочих вещественных переменных."
   ]
  },
  {
   "cell_type": "code",
   "execution_count": 23,
   "metadata": {},
   "outputs": [
    {
     "data": {
      "text/plain": [
       "array([ 5402.49393119,   -96.16997731,   -58.21181634, -1187.70615279,\n",
       "          -5.70765832,   -25.95129171,   593.16158421,   840.09706798,\n",
       "         761.80051441,   728.30914636,  -229.28908194,  -286.23186907,\n",
       "        -496.64118813,  -978.1124636 , -1491.36611629, -2365.29245358,\n",
       "        5309.80974837,  3653.76732717,  2688.68075545,  4574.50342698,\n",
       "        4257.0661538 ,  4991.09928184,  4956.1918161 ])"
      ]
     },
     "execution_count": 23,
     "metadata": {},
     "output_type": "execute_result"
    }
   ],
   "source": [
    "# your code here\n",
    "model.coef_"
   ]
  },
  {
   "cell_type": "code",
   "execution_count": 24,
   "metadata": {},
   "outputs": [
    {
     "data": {
      "text/plain": [
       "Index(['carat', 'depth', 'table', 'x', 'y', 'z', 'cut_Good', 'cut_Ideal',\n",
       "       'cut_Premium', 'cut_Very Good', 'color_E', 'color_F', 'color_G',\n",
       "       'color_H', 'color_I', 'color_J', 'clarity_IF', 'clarity_SI1',\n",
       "       'clarity_SI2', 'clarity_VS1', 'clarity_VS2', 'clarity_VVS1',\n",
       "       'clarity_VVS2'],\n",
       "      dtype='object')"
      ]
     },
     "execution_count": 24,
     "metadata": {},
     "output_type": "execute_result"
    }
   ],
   "source": [
    "Xtrain_scaled.columns"
   ]
  },
  {
   "cell_type": "code",
   "execution_count": 25,
   "metadata": {},
   "outputs": [
    {
     "data": {
      "text/plain": [
       "-183.27346840750715"
      ]
     },
     "execution_count": 25,
     "metadata": {},
     "output_type": "execute_result"
    }
   ],
   "source": [
    "model.intercept_"
   ]
  },
  {
   "cell_type": "code",
   "execution_count": 26,
   "metadata": {},
   "outputs": [],
   "source": [
    "import seaborn as sns\n",
    "def show_weights(features, weights):\n",
    "    fig, axs = plt.subplots(figsize=(10, 5), ncols=1)\n",
    "    sorted_weights = sorted(zip(weights, features), reverse=True)\n",
    "    weights = [x[0] for x in sorted_weights]\n",
    "    features = [x[1] for x in sorted_weights]\n",
    "    sns.barplot(y=features, x=weights, ax=axs)\n",
    "    axs.set_xlabel(\"Weight\")"
   ]
  },
  {
   "cell_type": "code",
   "execution_count": 27,
   "metadata": {},
   "outputs": [
    {
     "data": {
      "image/png": "[encoded data removed]",
      "text/plain": [
       "<Figure size 720x360 with 1 Axes>"
      ]
     },
     "metadata": {
      "needs_background": "light"
     },
     "output_type": "display_data"
    }
   ],
   "source": [
    "show_weights(numeric_features, model.coef_)"
   ]
  },
  {
   "cell_type": "markdown",
   "metadata": {},
   "source": [
    "<font color='blue'>Как можно видеть на диаграмме веса вещественных признаков 'x' и 'carat' по модулю на порядки больше, чем у вещественных признаков 'y', 'z', 'table', 'depth'</font>"
   ]
  },
  {
   "cell_type": "markdown",
   "metadata": {},
   "source": [
    "<font color='blue'> Диаграмма весов всех признаков (в т.ч. onehot) представлена ниже</font>"
   ]
  },
  {
   "cell_type": "code",
   "execution_count": 28,
   "metadata": {},
   "outputs": [
    {
     "data": {
      "image/png": "[encoded data removed]",
      "text/plain": [
       "<Figure size 720x360 with 1 Axes>"
      ]
     },
     "metadata": {
      "needs_background": "light"
     },
     "output_type": "display_data"
    }
   ],
   "source": [
    "show_weights(Xtrain_scaled.columns, model.coef_)"
   ]
  },
  {
   "cell_type": "markdown",
   "metadata": {},
   "source": [
    "## Попытка улучшить качество модели\n",
    "\n",
    "Эта часть является творческой, и задания в ней немного сложнее, чем предыдущие. Поэтому за каждое из них можно получить до двух баллов."
   ]
  },
  {
   "cell_type": "markdown",
   "metadata": {},
   "source": [
    "**Задание 9* (2 балла)** Как можно заметить из анализа корреляционной матрицы в задании 3, между некоторыми признаками имеется сильная корреляция, что может быть индикатором проблемы *мультиколлинеарности*. Различия в порядке коэффициентов, выявленные в предыдущей задаче, также свидетельствуют об этом. Для решения этой проблемы можно либо исключить некоторые признаки из модели (например, если признак линейно зависим с какими-то другими, его можно исключить из модели, т.е. удалить из матрицы объект-признак и заново обучить модель).\n",
    "\n",
    "Удалите из матриц Xtrain и Xtest признак, который наиболее сильно коррелирует с остальными. Заново обучите модель и оцените её качество. Улучшилось ли качество модели?\n",
    "Попробуйте удалить какой-то другой признак (можете попробовать несколько вариантов). Помогло ли это улучшить качество модели?"
   ]
  },
  {
   "cell_type": "markdown",
   "metadata": {},
   "source": [
    "<font color='blue'>Учитывая корреляцию между признаками 'carat','x','y','z' - попробуем разные варианты сокращенных наборов вещественных признаков:</font>"
   ]
  },
  {
   "cell_type": "code",
   "execution_count": 29,
   "metadata": {},
   "outputs": [
    {
     "name": "stdout",
     "output_type": "stream",
     "text": [
      "numeric features: ['carat', 'depth', 'table', 'x']\n",
      "Train R2: 0.9201\n",
      "Test R2: 0.9202\n",
      "\n",
      "numeric features: ['carat', 'depth', 'table', 'x', 'y']\n",
      "Train R2: 0.9201\n",
      "Test R2: 0.9202\n",
      "\n",
      "numeric features: ['carat', 'depth', 'table', 'y']\n",
      "Train R2: 0.9178\n",
      "Test R2: 0.9175\n",
      "\n",
      "numeric features: ['carat', 'depth', 'table', 'y', 'z']\n",
      "Train R2: 0.9185\n",
      "Test R2: 0.9185\n",
      "\n",
      "numeric features: ['carat', 'depth', 'table', 'z']\n",
      "Train R2: 0.9180\n",
      "Test R2: 0.9181\n",
      "\n",
      "numeric features: ['carat', 'depth', 'table', 'z', 'x']\n",
      "Train R2: 0.9201\n",
      "Test R2: 0.9202\n",
      "\n",
      "numeric features: ['carat', 'depth', 'table']\n",
      "Train R2: 0.9164\n",
      "Test R2: 0.9153\n",
      "\n",
      "numeric features: ['depth', 'table', 'x']\n",
      "Train R2: 0.8463\n",
      "Test R2: 0.8436\n",
      "\n",
      "numeric features: ['depth', 'table', 'x', 'y', 'z']\n",
      "Train R2: 0.8464\n",
      "Test R2: 0.8435\n",
      "\n",
      "numeric features: ['carat', 'depth', 'x']\n",
      "Train R2: 0.9200\n",
      "Test R2: 0.9201\n",
      "\n",
      "numeric features: ['carat', 'x']\n",
      "Train R2: 0.9197\n",
      "Test R2: 0.9197\n",
      "\n"
     ]
    }
   ],
   "source": [
    "# your code here\n",
    "numeric_features_variants = (['carat', 'depth', 'table', 'x'],\n",
    "                             ['carat', 'depth', 'table', 'x', 'y'],\n",
    "                             ['carat', 'depth', 'table', 'y'],\n",
    "                             ['carat', 'depth', 'table', 'y', 'z'],\n",
    "                             ['carat', 'depth', 'table', 'z'],\n",
    "                             ['carat', 'depth', 'table', 'z', 'x'],\n",
    "                             ['carat', 'depth', 'table'],\n",
    "                             ['depth', 'table', 'x'],\n",
    "                             ['depth', 'table', 'x', 'y', 'z'],\n",
    "                             ['carat', 'depth', 'x'],\n",
    "                             ['carat', 'x'])\n",
    "\n",
    "for numeric_features in numeric_features_variants:\n",
    "    print(f'numeric features: {numeric_features}')\n",
    "    Xtrain_scaled, Xtest_scaled = train_test_scale(Xtrain, Xtest, numeric_features, onehot_features, StandardScaler())\n",
    "    _, train_r2, test_r2 = train_model(Xtrain_scaled, Xtest_scaled, ytrain, ytest, LinearRegression())\n",
    "    experiments.append(['scaled', numeric_features, train_r2, test_r2])\n",
    "    print()"
   ]
  },
  {
   "cell_type": "markdown",
   "metadata": {},
   "source": [
    "<font color='blue'>Как видно улучшения метрики R2 не достигнуто. Но также видно, что если исключить признаки 'y' и 'z', то качество модели не ухудшилось. А если еще удалить признак 'table', то качество модели ухудшилось не значительно.</font>"
   ]
  },
  {
   "cell_type": "markdown",
   "metadata": {},
   "source": [
    "<font color='blue'>Попробуем также обучить модель без нормализации данных:</font>"
   ]
  },
  {
   "cell_type": "code",
   "execution_count": 30,
   "metadata": {},
   "outputs": [],
   "source": [
    " numeric_features = ['carat', 'depth', 'table', 'x', 'y', 'z']"
   ]
  },
  {
   "cell_type": "code",
   "execution_count": 31,
   "metadata": {},
   "outputs": [
    {
     "name": "stdout",
     "output_type": "stream",
     "text": [
      "Train R2: 0.9201\n",
      "Test R2: 0.9202\n"
     ]
    }
   ],
   "source": [
    "_, train_r2, test_r2 = train_model(Xtrain, Xtest, ytrain, ytest, LinearRegression())\n",
    "experiments.append(['non-scaled', numeric_features, train_r2, test_r2])"
   ]
  },
  {
   "cell_type": "code",
   "execution_count": 32,
   "metadata": {},
   "outputs": [
    {
     "name": "stdout",
     "output_type": "stream",
     "text": [
      "Train R2: 0.9201\n",
      "Test R2: 0.9202\n"
     ]
    }
   ],
   "source": [
    "_, train_r2, test_r2 = train_model(Xtrain.drop(columns=['z']), Xtest.drop(columns=['z']), ytrain, ytest, LinearRegression())\n",
    "experiments.append(['non-scaled w\\o \"z\"', ['carat', 'depth', 'table', 'x', 'y'], train_r2, test_r2])"
   ]
  },
  {
   "cell_type": "code",
   "execution_count": 33,
   "metadata": {},
   "outputs": [
    {
     "name": "stdout",
     "output_type": "stream",
     "text": [
      "Train R2: 0.9201\n",
      "Test R2: 0.9202\n"
     ]
    }
   ],
   "source": [
    "_, train_r2, test_r2 = train_model(Xtrain.drop(columns=['z', 'y']), Xtest.drop(columns=['z', 'y']), ytrain, ytest, LinearRegression())\n",
    "experiments.append(['non-scaled w\\o \"y,z\"', ['carat', 'depth', 'table', 'x'], train_r2, test_r2])"
   ]
  },
  {
   "cell_type": "markdown",
   "metadata": {},
   "source": [
    "<font color='blue'>Отсутствие нормализации данных не ухудшило качество, но и не улучшило.</font>"
   ]
  },
  {
   "cell_type": "markdown",
   "metadata": {},
   "source": [
    "**Задание 10* (2 балла)** Иногда генерация новых признаков помогает модели лучше находить взаимосвязи между целевой переменной и признаками. Попробуйте придумать новые признаки и добавить их в модель (можно черпать идеи из ноутбука занятия 3). Помогло ли это улучшить качество модели?"
   ]
  },
  {
   "cell_type": "markdown",
   "metadata": {},
   "source": [
    "<font color='blue'> Добавим новые признаки: степени 'carat' от 2-oй до 5-oй: </font>"
   ]
  },
  {
   "cell_type": "code",
   "execution_count": 34,
   "metadata": {},
   "outputs": [],
   "source": [
    "data_additional_features = data.copy()"
   ]
  },
  {
   "cell_type": "code",
   "execution_count": 35,
   "metadata": {},
   "outputs": [],
   "source": [
    "def add_features(df, feature, n=5):\n",
    "    for i in range(2,n+1):\n",
    "        df[f'{feature}{i}'] = df[feature].apply(lambda x: x**i)\n",
    "    \n",
    "    return df"
   ]
  },
  {
   "cell_type": "code",
   "execution_count": 36,
   "metadata": {},
   "outputs": [],
   "source": [
    "data_additional_features = add_features(data_additional_features, 'carat')"
   ]
  },
  {
   "cell_type": "markdown",
   "metadata": {},
   "source": [
    "<font color='blue'>И степени 'x' от 2-oй до 5-oй: </font>"
   ]
  },
  {
   "cell_type": "code",
   "execution_count": 37,
   "metadata": {},
   "outputs": [],
   "source": [
    "data_additional_features = add_features(data_additional_features, 'x')"
   ]
  },
  {
   "cell_type": "code",
   "execution_count": 38,
   "metadata": {},
   "outputs": [],
   "source": [
    "X = data_additional_features.drop(columns=['price'])\n",
    "y = data_additional_features['price']"
   ]
  },
  {
   "cell_type": "markdown",
   "metadata": {},
   "source": [
    "<font color='blue'>Обучим модель с новыми признаками (при этом исключим признаки y и z, т.к. как мы выяснили, что они не дают прибавки к метрике R2)</font>"
   ]
  },
  {
   "cell_type": "code",
   "execution_count": 39,
   "metadata": {},
   "outputs": [
    {
     "name": "stdout",
     "output_type": "stream",
     "text": [
      "Train R2: 0.9304\n",
      "Test R2: 0.9296\n"
     ]
    }
   ],
   "source": [
    "Xtrain, Xtest, ytrain, ytest =  train_test_split(X, y, test_size=0.3, random_state=seed)\n",
    "numeric_features = ['carat', 'carat2', 'carat3', 'carat4', 'carat5', \n",
    "                    'depth', 'table', \n",
    "                    'x', 'x2', 'x3', 'x4', 'x5']\n",
    "Xtrain_scaled, Xtest_scaled = train_test_scale(Xtrain, Xtest, numeric_features, onehot_features, StandardScaler())\n",
    "_, train_r2, test_r2 = train_model(Xtrain_scaled, Xtest_scaled, ytrain, ytest, LinearRegression())\n",
    "experiments.append(['scaled + add features carat,x + wo y,z', numeric_features, train_r2, test_r2])"
   ]
  },
  {
   "cell_type": "markdown",
   "metadata": {},
   "source": [
    "<font color='blue'>И попробуем обучить модель с дополнительными признаками, но без нормализации:</font>"
   ]
  },
  {
   "cell_type": "code",
   "execution_count": 40,
   "metadata": {},
   "outputs": [
    {
     "name": "stdout",
     "output_type": "stream",
     "text": [
      "Train R2: 0.9304\n",
      "Test R2: 0.9296\n"
     ]
    }
   ],
   "source": [
    "_, train_r2, test_r2 = train_model(Xtrain.drop(columns=['z', 'y']), Xtest.drop(columns=['z', 'y']), ytrain, ytest, LinearRegression())\n",
    "experiments.append(['non-scaled + add features carat,x + wo y,z', numeric_features, train_r2, test_r2])"
   ]
  },
  {
   "cell_type": "markdown",
   "metadata": {},
   "source": [
    "<font color='blue'>Добавление признаков дало улучшение метрики R2 как на тестовой так и на обучающей выборках при этом нормализация данных тут также не дает никакого эффекта в метрике R2</font>"
   ]
  },
  {
   "cell_type": "markdown",
   "metadata": {},
   "source": [
    "<font color='blue'> Попробуем теперь исключить выбросы (не добавляя новые признаки). (Тоже навеяно работой https://www.kaggle.com/code/bhuvanchennoju/s-s-experimets-fun-with-r2-99-21)</font>"
   ]
  },
  {
   "cell_type": "code",
   "execution_count": 41,
   "metadata": {},
   "outputs": [],
   "source": [
    "numeric_data = data.copy().select_dtypes(exclude = 'object')\n",
    "for col in numeric_data.columns:\n",
    "    numeric_data[col] = np.abs((data[col] - data[col].mean())/data[col].std())\n",
    "    \n",
    "max_std = 3\n",
    "\n",
    "outliers = data[(numeric_data['x'] > max_std)| \n",
    "                (numeric_data['y'] > max_std)| \n",
    "                (numeric_data['z'] > max_std)| \n",
    "                (numeric_data['price'] > max_std)| \n",
    "                (numeric_data['depth'] > max_std)| \n",
    "                (numeric_data['table'] > max_std)]\n",
    "\n",
    "data_wo_outliers = data.drop(index = outliers.index).reset_index(drop = True)"
   ]
  },
  {
   "cell_type": "code",
   "execution_count": 42,
   "metadata": {},
   "outputs": [],
   "source": [
    "X = data_wo_outliers.drop(columns=['price'])\n",
    "y = data_wo_outliers['price']"
   ]
  },
  {
   "cell_type": "markdown",
   "metadata": {},
   "source": [
    "<font color='blue'>Не нормализованные данные без выбросов:</font>"
   ]
  },
  {
   "cell_type": "code",
   "execution_count": 43,
   "metadata": {},
   "outputs": [
    {
     "name": "stdout",
     "output_type": "stream",
     "text": [
      "Train R2: 0.9263\n",
      "Test R2: 0.9230\n"
     ]
    }
   ],
   "source": [
    "Xtrain, Xtest, ytrain, ytest =  train_test_split(X, y, test_size=0.3, random_state=seed)\n",
    "numeric_features = ['carat', 'depth', 'table', 'x', 'y', 'z']\n",
    "_, train_r2, test_r2 = train_model(Xtrain, Xtest, ytrain, ytest, LinearRegression())\n",
    "experiments.append(['non-scaled + wo outliers', numeric_features, train_r2, test_r2])"
   ]
  },
  {
   "cell_type": "markdown",
   "metadata": {},
   "source": [
    "<font color='blue'>Нормализованные данные без выбросов:</font>"
   ]
  },
  {
   "cell_type": "code",
   "execution_count": 44,
   "metadata": {},
   "outputs": [
    {
     "name": "stdout",
     "output_type": "stream",
     "text": [
      "Train R2: 0.9263\n",
      "Test R2: 0.9230\n"
     ]
    }
   ],
   "source": [
    "Xtrain, Xtest, ytrain, ytest =  train_test_split(X, y, test_size=0.3, random_state=seed)\n",
    "numeric_features = ['carat', 'depth', 'table', 'x', 'y', 'z']\n",
    "Xtrain_scaled, Xtest_scaled = train_test_scale(Xtrain, Xtest, numeric_features, onehot_features, StandardScaler())\n",
    "_, train_r2, test_r2 = train_model(Xtrain_scaled, Xtest_scaled, ytrain, ytest, LinearRegression())\n",
    "experiments.append(['scaled + wo outliers', numeric_features, train_r2, test_r2])"
   ]
  },
  {
   "cell_type": "markdown",
   "metadata": {},
   "source": [
    "<font color='blue'>Не нормализованные данные без выбросов и без признаков y, z:</font>"
   ]
  },
  {
   "cell_type": "code",
   "execution_count": 45,
   "metadata": {},
   "outputs": [
    {
     "name": "stdout",
     "output_type": "stream",
     "text": [
      "Train R2: 0.9258\n",
      "Test R2: 0.9227\n"
     ]
    }
   ],
   "source": [
    "Xtrain, Xtest, ytrain, ytest =  train_test_split(X, y, test_size=0.3, random_state=seed)\n",
    "numeric_features = ['carat', 'depth', 'table', 'x']\n",
    "_, train_r2, test_r2 = train_model(Xtrain.drop(columns=['y', 'z']), Xtest.drop(columns=['y', 'z']), ytrain, ytest, LinearRegression())\n",
    "experiments.append(['non-scaled + wo outliers + wo \"y,z\"', numeric_features, train_r2, test_r2])"
   ]
  },
  {
   "cell_type": "markdown",
   "metadata": {},
   "source": [
    "<font color='blue'>Нормализованные данные без выбросов и без признаков y, z:</font>"
   ]
  },
  {
   "cell_type": "code",
   "execution_count": 46,
   "metadata": {},
   "outputs": [
    {
     "name": "stdout",
     "output_type": "stream",
     "text": [
      "Train R2: 0.9258\n",
      "Test R2: 0.9227\n"
     ]
    }
   ],
   "source": [
    "Xtrain, Xtest, ytrain, ytest =  train_test_split(X, y, test_size=0.3, random_state=seed)\n",
    "numeric_features = ['carat', 'depth', 'table', 'x']\n",
    "Xtrain_scaled, Xtest_scaled = train_test_scale(Xtrain, Xtest, numeric_features, onehot_features, StandardScaler())\n",
    "_, train_r2, test_r2 = train_model(Xtrain_scaled, Xtest_scaled, ytrain, ytest, LinearRegression())\n",
    "experiments.append(['scaled + wo outliers + wo y,z', numeric_features, train_r2, test_r2])"
   ]
  },
  {
   "cell_type": "markdown",
   "metadata": {},
   "source": [
    "<font color='blue'>Любопытно, что исключение выбросов во-первых улучшило метрику R2 (относительно моделей без доп. признаков), а во-вторых привело к тому, что исключение признаков y и z ухудшает качество модели. Нормализация данных попрежнему никак не влияет на качество.<font>"
   ]
  },
  {
   "cell_type": "markdown",
   "metadata": {},
   "source": [
    "<font color='blue'>Попробуем теперь добавить признаки в датасет без выбросов (в т.ч. степени y и z, ведь в датасете без выбросов они полезны)</font>"
   ]
  },
  {
   "cell_type": "code",
   "execution_count": 47,
   "metadata": {},
   "outputs": [],
   "source": [
    "data_additional_features_wo_outliers = data_wo_outliers.copy()"
   ]
  },
  {
   "cell_type": "code",
   "execution_count": 48,
   "metadata": {},
   "outputs": [],
   "source": [
    "data_additional_features_wo_outliers = add_features(data_additional_features_wo_outliers, 'carat')\n",
    "data_additional_features_wo_outliers = add_features(data_additional_features_wo_outliers, 'x')\n",
    "data_additional_features_wo_outliers = add_features(data_additional_features_wo_outliers, 'y')\n",
    "data_additional_features_wo_outliers = add_features(data_additional_features_wo_outliers, 'z')"
   ]
  },
  {
   "cell_type": "code",
   "execution_count": 49,
   "metadata": {},
   "outputs": [],
   "source": [
    "X = data_additional_features_wo_outliers.drop(columns=['price'])\n",
    "y = data_additional_features_wo_outliers['price']"
   ]
  },
  {
   "cell_type": "markdown",
   "metadata": {},
   "source": [
    "<font color='blue'>С нормализацией:</font>"
   ]
  },
  {
   "cell_type": "code",
   "execution_count": 50,
   "metadata": {},
   "outputs": [
    {
     "name": "stdout",
     "output_type": "stream",
     "text": [
      "Train R2: 0.9352\n",
      "Test R2: 0.9318\n"
     ]
    }
   ],
   "source": [
    "Xtrain, Xtest, ytrain, ytest =  train_test_split(X, y, test_size=0.3, random_state=seed)\n",
    "numeric_features = ['carat', 'carat2', 'carat3', 'carat4', 'carat5', \n",
    "                    'depth', 'table', \n",
    "                    'x', 'x2', 'x3', 'x4', 'x5',\n",
    "                    'y', 'y2', 'y3', 'y4', 'y5',\n",
    "                    'z', 'z2', 'z3', 'z4', 'z5']\n",
    "Xtrain_scaled, Xtest_scaled = train_test_scale(Xtrain, Xtest, numeric_features, onehot_features, StandardScaler())\n",
    "_, train_r2, test_r2 = train_model(Xtrain_scaled, Xtest_scaled, ytrain, ytest, LinearRegression())\n",
    "experiments.append(['scaled + add features carat,x,y,z + wo outliers', numeric_features, train_r2, test_r2])"
   ]
  },
  {
   "cell_type": "markdown",
   "metadata": {},
   "source": [
    "<font color='blue'>Без нормализации:</font>"
   ]
  },
  {
   "cell_type": "code",
   "execution_count": 51,
   "metadata": {},
   "outputs": [
    {
     "name": "stdout",
     "output_type": "stream",
     "text": [
      "Train R2: 0.9352\n",
      "Test R2: 0.9318\n"
     ]
    }
   ],
   "source": [
    "Xtrain, Xtest, ytrain, ytest =  train_test_split(X, y, test_size=0.3, random_state=seed)\n",
    "numeric_features = ['carat', 'carat2', 'carat3', 'carat4', 'carat5', \n",
    "                    'depth', 'table', \n",
    "                    'x', 'x2', 'x3', 'x4', 'x5',\n",
    "                    'y', 'y2', 'y3', 'y4', 'y5',\n",
    "                    'z', 'z2', 'z3', 'z4', 'z5']\n",
    "_, train_r2, test_r2 = train_model(Xtrain, Xtest, ytrain, ytest, LinearRegression())\n",
    "experiments.append(['non-scaled + add features carat,x,y,z + wo outliers', numeric_features, train_r2, test_r2])"
   ]
  },
  {
   "cell_type": "markdown",
   "metadata": {},
   "source": [
    "<font color='blue'>Нормализация данных опять ничего не дала, но мы таки добились максимального качества R2 0.93+ из всех проведенных экспериментов!</font>"
   ]
  },
  {
   "cell_type": "markdown",
   "metadata": {},
   "source": [
    "## Выводы\n",
    "\n",
    "Сделайте выводы, исходя из проделанной работы.\n",
    "\n",
    "Какого наилучшего качества удалось добиться? Хорошее ли это качество на ваш взгляд? Что для этого вам пришлось сделать?\n",
    "\n",
    "Также (по желанию) напишите, была ли эта домашняя работа для вас интересной."
   ]
  },
  {
   "cell_type": "markdown",
   "metadata": {},
   "source": [
    "<font color='blue'>Взглянем на результаты всех наших экспериментов, упорядочив их по значению R2 на тестовой выборке:</font>"
   ]
  },
  {
   "cell_type": "code",
   "execution_count": 52,
   "metadata": {},
   "outputs": [
    {
     "data": {
      "text/html": [
       "<div>\n",
       "<style scoped>\n",
       "    .dataframe tbody tr th:only-of-type {\n",
       "        vertical-align: middle;\n",
       "    }\n",
       "\n",
       "    .dataframe tbody tr th {\n",
       "        vertical-align: top;\n",
       "    }\n",
       "\n",
       "    .dataframe thead th {\n",
       "        text-align: right;\n",
       "    }\n",
       "</style>\n",
       "<table border=\"1\" class=\"dataframe\">\n",
       "  <thead>\n",
       "    <tr style=\"text-align: right;\">\n",
       "      <th></th>\n",
       "      <th>comments</th>\n",
       "      <th>numeric features</th>\n",
       "      <th>train R2</th>\n",
       "      <th>test R2</th>\n",
       "    </tr>\n",
       "  </thead>\n",
       "  <tbody>\n",
       "    <tr>\n",
       "      <th>0</th>\n",
       "      <td>scaled + add features carat,x,y,z + wo outliers</td>\n",
       "      <td>[carat, carat2, carat3, carat4, carat5, depth,...</td>\n",
       "      <td>0.935241</td>\n",
       "      <td>0.931830</td>\n",
       "    </tr>\n",
       "    <tr>\n",
       "      <th>1</th>\n",
       "      <td>non-scaled + add features carat,x,y,z + wo out...</td>\n",
       "      <td>[carat, carat2, carat3, carat4, carat5, depth,...</td>\n",
       "      <td>0.935241</td>\n",
       "      <td>0.931830</td>\n",
       "    </tr>\n",
       "    <tr>\n",
       "      <th>2</th>\n",
       "      <td>scaled + add features carat,x + wo y,z</td>\n",
       "      <td>[carat, carat2, carat3, carat4, carat5, depth,...</td>\n",
       "      <td>0.930368</td>\n",
       "      <td>0.929561</td>\n",
       "    </tr>\n",
       "    <tr>\n",
       "      <th>3</th>\n",
       "      <td>non-scaled + add features carat,x + wo y,z</td>\n",
       "      <td>[carat, carat2, carat3, carat4, carat5, depth,...</td>\n",
       "      <td>0.930368</td>\n",
       "      <td>0.929561</td>\n",
       "    </tr>\n",
       "    <tr>\n",
       "      <th>4</th>\n",
       "      <td>scaled + wo outliers</td>\n",
       "      <td>[carat, depth, table, x, y, z]</td>\n",
       "      <td>0.926256</td>\n",
       "      <td>0.923002</td>\n",
       "    </tr>\n",
       "    <tr>\n",
       "      <th>5</th>\n",
       "      <td>non-scaled + wo outliers</td>\n",
       "      <td>[carat, depth, table, x, y, z]</td>\n",
       "      <td>0.926256</td>\n",
       "      <td>0.923002</td>\n",
       "    </tr>\n",
       "    <tr>\n",
       "      <th>6</th>\n",
       "      <td>scaled + wo outliers + wo y,z</td>\n",
       "      <td>[carat, depth, table, x]</td>\n",
       "      <td>0.925842</td>\n",
       "      <td>0.922726</td>\n",
       "    </tr>\n",
       "    <tr>\n",
       "      <th>7</th>\n",
       "      <td>non-scaled + wo outliers + wo \"y,z\"</td>\n",
       "      <td>[carat, depth, table, x]</td>\n",
       "      <td>0.925842</td>\n",
       "      <td>0.922726</td>\n",
       "    </tr>\n",
       "    <tr>\n",
       "      <th>8</th>\n",
       "      <td>scaled</td>\n",
       "      <td>[carat, depth, table, z, x]</td>\n",
       "      <td>0.920102</td>\n",
       "      <td>0.920222</td>\n",
       "    </tr>\n",
       "    <tr>\n",
       "      <th>9</th>\n",
       "      <td>non-scaled</td>\n",
       "      <td>[carat, depth, table, x, y, z]</td>\n",
       "      <td>0.920102</td>\n",
       "      <td>0.920220</td>\n",
       "    </tr>\n",
       "    <tr>\n",
       "      <th>10</th>\n",
       "      <td>scaled</td>\n",
       "      <td>[carat, depth, table, x, y, z]</td>\n",
       "      <td>0.920102</td>\n",
       "      <td>0.920220</td>\n",
       "    </tr>\n",
       "    <tr>\n",
       "      <th>11</th>\n",
       "      <td>scaled</td>\n",
       "      <td>[carat, depth, table, x]</td>\n",
       "      <td>0.920100</td>\n",
       "      <td>0.920217</td>\n",
       "    </tr>\n",
       "    <tr>\n",
       "      <th>12</th>\n",
       "      <td>non-scaled w\\o \"y,z\"</td>\n",
       "      <td>[carat, depth, table, x]</td>\n",
       "      <td>0.920100</td>\n",
       "      <td>0.920217</td>\n",
       "    </tr>\n",
       "    <tr>\n",
       "      <th>13</th>\n",
       "      <td>non-scaled w\\o \"z\"</td>\n",
       "      <td>[carat, depth, table, x, y]</td>\n",
       "      <td>0.920100</td>\n",
       "      <td>0.920216</td>\n",
       "    </tr>\n",
       "    <tr>\n",
       "      <th>14</th>\n",
       "      <td>scaled</td>\n",
       "      <td>[carat, depth, table, x, y]</td>\n",
       "      <td>0.920100</td>\n",
       "      <td>0.920216</td>\n",
       "    </tr>\n",
       "    <tr>\n",
       "      <th>15</th>\n",
       "      <td>scaled</td>\n",
       "      <td>[carat, depth, x]</td>\n",
       "      <td>0.919982</td>\n",
       "      <td>0.920069</td>\n",
       "    </tr>\n",
       "    <tr>\n",
       "      <th>16</th>\n",
       "      <td>scaled</td>\n",
       "      <td>[carat, x]</td>\n",
       "      <td>0.919667</td>\n",
       "      <td>0.919667</td>\n",
       "    </tr>\n",
       "    <tr>\n",
       "      <th>17</th>\n",
       "      <td>scaled</td>\n",
       "      <td>[carat, depth, table, y, z]</td>\n",
       "      <td>0.918455</td>\n",
       "      <td>0.918497</td>\n",
       "    </tr>\n",
       "    <tr>\n",
       "      <th>18</th>\n",
       "      <td>scaled</td>\n",
       "      <td>[carat, depth, table, z]</td>\n",
       "      <td>0.917967</td>\n",
       "      <td>0.918063</td>\n",
       "    </tr>\n",
       "    <tr>\n",
       "      <th>19</th>\n",
       "      <td>scaled</td>\n",
       "      <td>[carat, depth, table, y]</td>\n",
       "      <td>0.917821</td>\n",
       "      <td>0.917505</td>\n",
       "    </tr>\n",
       "    <tr>\n",
       "      <th>20</th>\n",
       "      <td>scaled</td>\n",
       "      <td>[carat, depth, table]</td>\n",
       "      <td>0.916358</td>\n",
       "      <td>0.915349</td>\n",
       "    </tr>\n",
       "    <tr>\n",
       "      <th>21</th>\n",
       "      <td>scaled</td>\n",
       "      <td>[depth, table, x]</td>\n",
       "      <td>0.846257</td>\n",
       "      <td>0.843569</td>\n",
       "    </tr>\n",
       "    <tr>\n",
       "      <th>22</th>\n",
       "      <td>scaled</td>\n",
       "      <td>[depth, table, x, y, z]</td>\n",
       "      <td>0.846396</td>\n",
       "      <td>0.843538</td>\n",
       "    </tr>\n",
       "  </tbody>\n",
       "</table>\n",
       "</div>"
      ],
      "text/plain": [
       "                                             comments  \\\n",
       "0     scaled + add features carat,x,y,z + wo outliers   \n",
       "1   non-scaled + add features carat,x,y,z + wo out...   \n",
       "2              scaled + add features carat,x + wo y,z   \n",
       "3          non-scaled + add features carat,x + wo y,z   \n",
       "4                                scaled + wo outliers   \n",
       "5                            non-scaled + wo outliers   \n",
       "6                       scaled + wo outliers + wo y,z   \n",
       "7                 non-scaled + wo outliers + wo \"y,z\"   \n",
       "8                                              scaled   \n",
       "9                                          non-scaled   \n",
       "10                                             scaled   \n",
       "11                                             scaled   \n",
       "12                               non-scaled w\\o \"y,z\"   \n",
       "13                                 non-scaled w\\o \"z\"   \n",
       "14                                             scaled   \n",
       "15                                             scaled   \n",
       "16                                             scaled   \n",
       "17                                             scaled   \n",
       "18                                             scaled   \n",
       "19                                             scaled   \n",
       "20                                             scaled   \n",
       "21                                             scaled   \n",
       "22                                             scaled   \n",
       "\n",
       "                                     numeric features  train R2   test R2  \n",
       "0   [carat, carat2, carat3, carat4, carat5, depth,...  0.935241  0.931830  \n",
       "1   [carat, carat2, carat3, carat4, carat5, depth,...  0.935241  0.931830  \n",
       "2   [carat, carat2, carat3, carat4, carat5, depth,...  0.930368  0.929561  \n",
       "3   [carat, carat2, carat3, carat4, carat5, depth,...  0.930368  0.929561  \n",
       "4                      [carat, depth, table, x, y, z]  0.926256  0.923002  \n",
       "5                      [carat, depth, table, x, y, z]  0.926256  0.923002  \n",
       "6                            [carat, depth, table, x]  0.925842  0.922726  \n",
       "7                            [carat, depth, table, x]  0.925842  0.922726  \n",
       "8                         [carat, depth, table, z, x]  0.920102  0.920222  \n",
       "9                      [carat, depth, table, x, y, z]  0.920102  0.920220  \n",
       "10                     [carat, depth, table, x, y, z]  0.920102  0.920220  \n",
       "11                           [carat, depth, table, x]  0.920100  0.920217  \n",
       "12                           [carat, depth, table, x]  0.920100  0.920217  \n",
       "13                        [carat, depth, table, x, y]  0.920100  0.920216  \n",
       "14                        [carat, depth, table, x, y]  0.920100  0.920216  \n",
       "15                                  [carat, depth, x]  0.919982  0.920069  \n",
       "16                                         [carat, x]  0.919667  0.919667  \n",
       "17                        [carat, depth, table, y, z]  0.918455  0.918497  \n",
       "18                           [carat, depth, table, z]  0.917967  0.918063  \n",
       "19                           [carat, depth, table, y]  0.917821  0.917505  \n",
       "20                              [carat, depth, table]  0.916358  0.915349  \n",
       "21                                  [depth, table, x]  0.846257  0.843569  \n",
       "22                            [depth, table, x, y, z]  0.846396  0.843538  "
      ]
     },
     "execution_count": 52,
     "metadata": {},
     "output_type": "execute_result"
    }
   ],
   "source": [
    "pd.DataFrame(experiments, columns=['comments', 'numeric features', 'train R2', 'test R2'])\\\n",
    ".sort_values(by='test R2', ascending=False)\\\n",
    ".reset_index(drop=True)"
   ]
  },
  {
   "cell_type": "markdown",
   "metadata": {},
   "source": [
    "<font color='blue'>\n",
    "\n",
    "1. Как ни странно, но нормализация данных не дала улучшения качества R2.\n",
    "\n",
    "2. Базовая модель дала качество R2 0.92\n",
    "\n",
    "3. Качество модели R2 ~ 0.91 можно добиться исключив признаки x,y,z из данных, что видимо объясняется корреляцией признака carat (по сути масса бриллианта) с линейными размерыми бриллианта.\n",
    "\n",
    "4. Исключение из данных выбросов, позволяет добиться качества R2 ~ 0.922 (чуть лучше базовой)\n",
    "    \n",
    "5. Исключение выбросов и добавление новых признаков (степени carat, x, y, z) позволяет добиться качества R2 ~ 0.93. Это обеспечило наилучший результат среди всех экспериментов.\n",
    "</font>"
   ]
  },
  {
   "cell_type": "markdown",
   "metadata": {},
   "source": [
    "<font color='blue'>Значение R2 около 0.9 на тестовой выборке указывает на то, что примерно 90% вариации зависимой переменной (price) объясняется независимыми переменными модели (признаками). Это обычно считается очень хорошим результатом.<font>"
   ]
  },
  {
   "cell_type": "markdown",
   "metadata": {},
   "source": [
    "<font color='blue'>Работа с этим датасетом была интересной. Любопытно было изучить как пользователи kaggle иследовали этот датасет и пробовали разные модели. Особенно впечатлила работа https://www.kaggle.com/code/bhuvanchennoju/s-s-experimets-fun-with-r2-99-21 - где автор смог добиться от линейной регрессии (с помощью глубоко статистического анализа и хитрого инжинирига данных) на тесте r2 ~ 0.95. Также во многих работах была показана высокая эффективность нелинейных моделей (решающие деревья и подобные.) r2 ~ 0.99. </font>"
   ]
  }
 ],
 "metadata": {
  "kernelspec": {
   "display_name": "Python 3 (ipykernel)",
   "language": "python",
   "name": "python3"
  },
  "language_info": {
   "codemirror_mode": {
    "name": "ipython",
    "version": 3
   },
   "file_extension": ".py",
   "mimetype": "text/x-python",
   "name": "python",
   "nbconvert_exporter": "python",
   "pygments_lexer": "ipython3",
   "version": "3.9.13"
  }
 },
 "nbformat": 4,
 "nbformat_minor": 4
}
